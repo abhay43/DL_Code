{
  "nbformat": 4,
  "nbformat_minor": 0,
  "metadata": {
    "colab": {
      "name": "Overview of Colaboratory Features",
      "provenance": [],
      "collapsed_sections": [],
      "include_colab_link": true
    },
    "kernelspec": {
      "display_name": "Python 3",
      "name": "python3"
    }
  },
  "cells": [
    {
      "cell_type": "markdown",
      "metadata": {
        "id": "view-in-github",
        "colab_type": "text"
      },
      "source": [
        "<a href=\"https://colab.research.google.com/github/abhay43/ML_Code/blob/master/DL-Classifying_Handwritten_digits_using_Tensorflow_2.ipynb\" target=\"_parent\"><img src=\"https://colab.research.google.com/assets/colab-badge.svg\" alt=\"Open In Colab\"/></a>"
      ]
    },
    {
      "cell_type": "code",
      "metadata": {
        "id": "2HzAy3U9TEuQ",
        "colab_type": "code",
        "colab": {
          "base_uri": "https://localhost:8080/",
          "height": 34
        },
        "outputId": "7048532b-5513-4539-bca6-405681e0878d"
      },
      "source": [
        "import tensorflow as tf\n",
        "import keras\n",
        "from tensorflow.keras.layers import Dense\n",
        "from tensorflow.keras import Sequential"
      ],
      "execution_count": 1,
      "outputs": [
        {
          "output_type": "stream",
          "text": [
            "Using TensorFlow backend.\n"
          ],
          "name": "stderr"
        }
      ]
    },
    {
      "cell_type": "code",
      "metadata": {
        "id": "y2SI0yZBTdPc",
        "colab_type": "code",
        "colab": {
          "base_uri": "https://localhost:8080/",
          "height": 51
        },
        "outputId": "4597a05b-e4d8-4458-a0fb-2c3083ed2119"
      },
      "source": [
        "mnist = keras.datasets.mnist\n",
        "(X_train, Y_train), (X_test, Y_test) = mnist.load_data()"
      ],
      "execution_count": 2,
      "outputs": [
        {
          "output_type": "stream",
          "text": [
            "Downloading data from https://s3.amazonaws.com/img-datasets/mnist.npz\n",
            "11493376/11490434 [==============================] - 1s 0us/step\n"
          ],
          "name": "stdout"
        }
      ]
    },
    {
      "cell_type": "code",
      "metadata": {
        "id": "WrkS7b92Ud_3",
        "colab_type": "code",
        "colab": {}
      },
      "source": [
        "# Data Perprocessing \n",
        "# Step 1) float32\n",
        "# Step 2) reshape\n",
        "# Step 3) float32\n",
        "# Step 4) normelize\n",
        "# Step 5) labeled \n"
      ],
      "execution_count": 0,
      "outputs": []
    },
    {
      "cell_type": "code",
      "metadata": {
        "id": "FZeg-oBqX87e",
        "colab_type": "code",
        "colab": {}
      },
      "source": [
        "X_train = X_train.astype('float32')\n",
        "X_test = X_test.astype('float32')"
      ],
      "execution_count": 0,
      "outputs": []
    },
    {
      "cell_type": "code",
      "metadata": {
        "id": "54HtqdnuYEjJ",
        "colab_type": "code",
        "colab": {}
      },
      "source": [
        "X_train = X_train.reshape(len(X_train), 784)\n",
        "X_test = X_test.reshape(len(X_test), 784)"
      ],
      "execution_count": 0,
      "outputs": []
    },
    {
      "cell_type": "code",
      "metadata": {
        "id": "0E00KxSDYozP",
        "colab_type": "code",
        "colab": {}
      },
      "source": [
        "X_train = X_train.astype('float32')\n",
        "X_test = X_test.astype('float32')"
      ],
      "execution_count": 0,
      "outputs": []
    },
    {
      "cell_type": "code",
      "metadata": {
        "id": "mZij8IDaYq1t",
        "colab_type": "code",
        "colab": {}
      },
      "source": [
        "# in black-white image max value of a pixel is 255 so we divide it so that we can use this in 0 and 1. This is the normalization img \n",
        "X_train /= 255\n",
        "X_test /= 255"
      ],
      "execution_count": 0,
      "outputs": []
    },
    {
      "cell_type": "code",
      "metadata": {
        "id": "BTAF69CbZ0h7",
        "colab_type": "code",
        "colab": {}
      },
      "source": [
        "# One-hot representation of the labels.\n",
        "Y_train = tf.keras.utils.to_categorical(Y_train, 10) \n",
        "Y_test = tf.keras.utils.to_categorical(Y_test, 10)"
      ],
      "execution_count": 0,
      "outputs": []
    },
    {
      "cell_type": "code",
      "metadata": {
        "id": "vCG1R26oE6Bi",
        "colab_type": "code",
        "colab": {}
      },
      "source": [
        "# Create the model\n",
        "# Compine the model\n",
        "# train the model\n",
        "# evaluate the model "
      ],
      "execution_count": 0,
      "outputs": []
    },
    {
      "cell_type": "code",
      "metadata": {
        "id": "G7HsYGGDAWla",
        "colab_type": "code",
        "colab": {}
      },
      "source": [
        "\n",
        "model_0 = Sequential()"
      ],
      "execution_count": 0,
      "outputs": []
    },
    {
      "cell_type": "code",
      "metadata": {
        "id": "nzcGShr_A_pe",
        "colab_type": "code",
        "colab": {}
      },
      "source": [
        "model_0.add(Dense(10, input_shape=(784,), name='dense_layer', activation='softmax'))"
      ],
      "execution_count": 0,
      "outputs": []
    },
    {
      "cell_type": "code",
      "metadata": {
        "id": "ShLGFC1eEkOp",
        "colab_type": "code",
        "colab": {}
      },
      "source": [
        "model_0.compile(optimizer='SGD', loss='categorical_crossentropy', metrics=['accuracy'])"
      ],
      "execution_count": 0,
      "outputs": []
    },
    {
      "cell_type": "code",
      "metadata": {
        "id": "oy_vPhoxGGL-",
        "colab_type": "code",
        "colab": {
          "base_uri": "https://localhost:8080/",
          "height": 1000
        },
        "outputId": "dbf5b987-8143-44dd-e44e-74ea71805f47"
      },
      "source": [
        "model_0.fit(X_train, Y_train, batch_size=64, epochs=70, validation_split=0.2)"
      ],
      "execution_count": 13,
      "outputs": [
        {
          "output_type": "stream",
          "text": [
            "Epoch 1/70\n",
            "750/750 [==============================] - 1s 2ms/step - loss: 1.0937 - accuracy: 0.7465 - val_loss: 0.6576 - val_accuracy: 0.8603\n",
            "Epoch 2/70\n",
            "750/750 [==============================] - 1s 2ms/step - loss: 0.6084 - accuracy: 0.8567 - val_loss: 0.5083 - val_accuracy: 0.8803\n",
            "Epoch 3/70\n",
            "750/750 [==============================] - 1s 2ms/step - loss: 0.5125 - accuracy: 0.8714 - val_loss: 0.4500 - val_accuracy: 0.8878\n",
            "Epoch 4/70\n",
            "750/750 [==============================] - 1s 2ms/step - loss: 0.4660 - accuracy: 0.8795 - val_loss: 0.4174 - val_accuracy: 0.8938\n",
            "Epoch 5/70\n",
            "750/750 [==============================] - 1s 2ms/step - loss: 0.4374 - accuracy: 0.8852 - val_loss: 0.3959 - val_accuracy: 0.8984\n",
            "Epoch 6/70\n",
            "750/750 [==============================] - 1s 2ms/step - loss: 0.4175 - accuracy: 0.8888 - val_loss: 0.3810 - val_accuracy: 0.8992\n",
            "Epoch 7/70\n",
            "750/750 [==============================] - 1s 2ms/step - loss: 0.4027 - accuracy: 0.8913 - val_loss: 0.3696 - val_accuracy: 0.9016\n",
            "Epoch 8/70\n",
            "750/750 [==============================] - 1s 2ms/step - loss: 0.3910 - accuracy: 0.8941 - val_loss: 0.3605 - val_accuracy: 0.9038\n",
            "Epoch 9/70\n",
            "750/750 [==============================] - 1s 2ms/step - loss: 0.3816 - accuracy: 0.8960 - val_loss: 0.3530 - val_accuracy: 0.9053\n",
            "Epoch 10/70\n",
            "750/750 [==============================] - 1s 2ms/step - loss: 0.3736 - accuracy: 0.8978 - val_loss: 0.3469 - val_accuracy: 0.9069\n",
            "Epoch 11/70\n",
            "750/750 [==============================] - 1s 2ms/step - loss: 0.3670 - accuracy: 0.8994 - val_loss: 0.3420 - val_accuracy: 0.9079\n",
            "Epoch 12/70\n",
            "750/750 [==============================] - 1s 2ms/step - loss: 0.3612 - accuracy: 0.9002 - val_loss: 0.3372 - val_accuracy: 0.9089\n",
            "Epoch 13/70\n",
            "750/750 [==============================] - 1s 2ms/step - loss: 0.3561 - accuracy: 0.9016 - val_loss: 0.3334 - val_accuracy: 0.9093\n",
            "Epoch 14/70\n",
            "750/750 [==============================] - 1s 2ms/step - loss: 0.3516 - accuracy: 0.9024 - val_loss: 0.3298 - val_accuracy: 0.9098\n",
            "Epoch 15/70\n",
            "750/750 [==============================] - 1s 2ms/step - loss: 0.3475 - accuracy: 0.9034 - val_loss: 0.3267 - val_accuracy: 0.9108\n",
            "Epoch 16/70\n",
            "750/750 [==============================] - 1s 2ms/step - loss: 0.3440 - accuracy: 0.9043 - val_loss: 0.3235 - val_accuracy: 0.9119\n",
            "Epoch 17/70\n",
            "750/750 [==============================] - 1s 2ms/step - loss: 0.3406 - accuracy: 0.9052 - val_loss: 0.3210 - val_accuracy: 0.9127\n",
            "Epoch 18/70\n",
            "750/750 [==============================] - 1s 2ms/step - loss: 0.3376 - accuracy: 0.9059 - val_loss: 0.3186 - val_accuracy: 0.9127\n",
            "Epoch 19/70\n",
            "750/750 [==============================] - 1s 2ms/step - loss: 0.3348 - accuracy: 0.9068 - val_loss: 0.3163 - val_accuracy: 0.9132\n",
            "Epoch 20/70\n",
            "750/750 [==============================] - 1s 2ms/step - loss: 0.3321 - accuracy: 0.9076 - val_loss: 0.3146 - val_accuracy: 0.9142\n",
            "Epoch 21/70\n",
            "750/750 [==============================] - 1s 2ms/step - loss: 0.3299 - accuracy: 0.9080 - val_loss: 0.3126 - val_accuracy: 0.9137\n",
            "Epoch 22/70\n",
            "750/750 [==============================] - 1s 2ms/step - loss: 0.3277 - accuracy: 0.9082 - val_loss: 0.3109 - val_accuracy: 0.9133\n",
            "Epoch 23/70\n",
            "750/750 [==============================] - 1s 2ms/step - loss: 0.3256 - accuracy: 0.9091 - val_loss: 0.3093 - val_accuracy: 0.9142\n",
            "Epoch 24/70\n",
            "750/750 [==============================] - 1s 2ms/step - loss: 0.3237 - accuracy: 0.9096 - val_loss: 0.3080 - val_accuracy: 0.9138\n",
            "Epoch 25/70\n",
            "750/750 [==============================] - 1s 2ms/step - loss: 0.3218 - accuracy: 0.9105 - val_loss: 0.3063 - val_accuracy: 0.9144\n",
            "Epoch 26/70\n",
            "750/750 [==============================] - 1s 1ms/step - loss: 0.3201 - accuracy: 0.9107 - val_loss: 0.3053 - val_accuracy: 0.9153\n",
            "Epoch 27/70\n",
            "750/750 [==============================] - 1s 2ms/step - loss: 0.3185 - accuracy: 0.9113 - val_loss: 0.3039 - val_accuracy: 0.9147\n",
            "Epoch 28/70\n",
            "750/750 [==============================] - 1s 2ms/step - loss: 0.3169 - accuracy: 0.9118 - val_loss: 0.3026 - val_accuracy: 0.9157\n",
            "Epoch 29/70\n",
            "750/750 [==============================] - 1s 2ms/step - loss: 0.3155 - accuracy: 0.9124 - val_loss: 0.3015 - val_accuracy: 0.9160\n",
            "Epoch 30/70\n",
            "750/750 [==============================] - 1s 2ms/step - loss: 0.3141 - accuracy: 0.9127 - val_loss: 0.3006 - val_accuracy: 0.9164\n",
            "Epoch 31/70\n",
            "750/750 [==============================] - 1s 2ms/step - loss: 0.3128 - accuracy: 0.9132 - val_loss: 0.2996 - val_accuracy: 0.9164\n",
            "Epoch 32/70\n",
            "750/750 [==============================] - 1s 2ms/step - loss: 0.3116 - accuracy: 0.9133 - val_loss: 0.2986 - val_accuracy: 0.9162\n",
            "Epoch 33/70\n",
            "750/750 [==============================] - 1s 2ms/step - loss: 0.3104 - accuracy: 0.9139 - val_loss: 0.2979 - val_accuracy: 0.9166\n",
            "Epoch 34/70\n",
            "750/750 [==============================] - 1s 2ms/step - loss: 0.3092 - accuracy: 0.9144 - val_loss: 0.2969 - val_accuracy: 0.9171\n",
            "Epoch 35/70\n",
            "750/750 [==============================] - 1s 2ms/step - loss: 0.3081 - accuracy: 0.9146 - val_loss: 0.2961 - val_accuracy: 0.9176\n",
            "Epoch 36/70\n",
            "750/750 [==============================] - 1s 2ms/step - loss: 0.3070 - accuracy: 0.9147 - val_loss: 0.2953 - val_accuracy: 0.9172\n",
            "Epoch 37/70\n",
            "750/750 [==============================] - 1s 2ms/step - loss: 0.3060 - accuracy: 0.9154 - val_loss: 0.2945 - val_accuracy: 0.9177\n",
            "Epoch 38/70\n",
            "750/750 [==============================] - 1s 2ms/step - loss: 0.3051 - accuracy: 0.9152 - val_loss: 0.2938 - val_accuracy: 0.9178\n",
            "Epoch 39/70\n",
            "750/750 [==============================] - 1s 1ms/step - loss: 0.3041 - accuracy: 0.9157 - val_loss: 0.2931 - val_accuracy: 0.9183\n",
            "Epoch 40/70\n",
            "750/750 [==============================] - 1s 2ms/step - loss: 0.3032 - accuracy: 0.9154 - val_loss: 0.2926 - val_accuracy: 0.9183\n",
            "Epoch 41/70\n",
            "750/750 [==============================] - 1s 2ms/step - loss: 0.3024 - accuracy: 0.9158 - val_loss: 0.2920 - val_accuracy: 0.9189\n",
            "Epoch 42/70\n",
            "750/750 [==============================] - 1s 1ms/step - loss: 0.3016 - accuracy: 0.9162 - val_loss: 0.2913 - val_accuracy: 0.9183\n",
            "Epoch 43/70\n",
            "750/750 [==============================] - 1s 2ms/step - loss: 0.3007 - accuracy: 0.9166 - val_loss: 0.2907 - val_accuracy: 0.9187\n",
            "Epoch 44/70\n",
            "750/750 [==============================] - 1s 2ms/step - loss: 0.2999 - accuracy: 0.9167 - val_loss: 0.2903 - val_accuracy: 0.9186\n",
            "Epoch 45/70\n",
            "750/750 [==============================] - 1s 2ms/step - loss: 0.2991 - accuracy: 0.9165 - val_loss: 0.2895 - val_accuracy: 0.9194\n",
            "Epoch 46/70\n",
            "750/750 [==============================] - 1s 2ms/step - loss: 0.2984 - accuracy: 0.9167 - val_loss: 0.2889 - val_accuracy: 0.9197\n",
            "Epoch 47/70\n",
            "750/750 [==============================] - 1s 2ms/step - loss: 0.2977 - accuracy: 0.9170 - val_loss: 0.2885 - val_accuracy: 0.9190\n",
            "Epoch 48/70\n",
            "750/750 [==============================] - 1s 2ms/step - loss: 0.2970 - accuracy: 0.9175 - val_loss: 0.2882 - val_accuracy: 0.9193\n",
            "Epoch 49/70\n",
            "750/750 [==============================] - 1s 2ms/step - loss: 0.2963 - accuracy: 0.9174 - val_loss: 0.2876 - val_accuracy: 0.9204\n",
            "Epoch 50/70\n",
            "750/750 [==============================] - 1s 2ms/step - loss: 0.2957 - accuracy: 0.9178 - val_loss: 0.2874 - val_accuracy: 0.9201\n",
            "Epoch 51/70\n",
            "750/750 [==============================] - 1s 2ms/step - loss: 0.2950 - accuracy: 0.9177 - val_loss: 0.2869 - val_accuracy: 0.9199\n",
            "Epoch 52/70\n",
            "750/750 [==============================] - 1s 2ms/step - loss: 0.2944 - accuracy: 0.9177 - val_loss: 0.2864 - val_accuracy: 0.9198\n",
            "Epoch 53/70\n",
            "750/750 [==============================] - 1s 1ms/step - loss: 0.2939 - accuracy: 0.9182 - val_loss: 0.2860 - val_accuracy: 0.9203\n",
            "Epoch 54/70\n",
            "750/750 [==============================] - 1s 2ms/step - loss: 0.2933 - accuracy: 0.9186 - val_loss: 0.2856 - val_accuracy: 0.9203\n",
            "Epoch 55/70\n",
            "750/750 [==============================] - 1s 2ms/step - loss: 0.2927 - accuracy: 0.9183 - val_loss: 0.2851 - val_accuracy: 0.9206\n",
            "Epoch 56/70\n",
            "750/750 [==============================] - 1s 2ms/step - loss: 0.2922 - accuracy: 0.9188 - val_loss: 0.2847 - val_accuracy: 0.9207\n",
            "Epoch 57/70\n",
            "750/750 [==============================] - 1s 2ms/step - loss: 0.2917 - accuracy: 0.9187 - val_loss: 0.2844 - val_accuracy: 0.9214\n",
            "Epoch 58/70\n",
            "750/750 [==============================] - 1s 2ms/step - loss: 0.2911 - accuracy: 0.9188 - val_loss: 0.2841 - val_accuracy: 0.9208\n",
            "Epoch 59/70\n",
            "750/750 [==============================] - 1s 2ms/step - loss: 0.2905 - accuracy: 0.9193 - val_loss: 0.2841 - val_accuracy: 0.9212\n",
            "Epoch 60/70\n",
            "750/750 [==============================] - 1s 2ms/step - loss: 0.2901 - accuracy: 0.9194 - val_loss: 0.2834 - val_accuracy: 0.9210\n",
            "Epoch 61/70\n",
            "750/750 [==============================] - 1s 2ms/step - loss: 0.2896 - accuracy: 0.9190 - val_loss: 0.2829 - val_accuracy: 0.9216\n",
            "Epoch 62/70\n",
            "750/750 [==============================] - 1s 2ms/step - loss: 0.2890 - accuracy: 0.9195 - val_loss: 0.2828 - val_accuracy: 0.9213\n",
            "Epoch 63/70\n",
            "750/750 [==============================] - 1s 2ms/step - loss: 0.2887 - accuracy: 0.9198 - val_loss: 0.2825 - val_accuracy: 0.9212\n",
            "Epoch 64/70\n",
            "750/750 [==============================] - 1s 2ms/step - loss: 0.2881 - accuracy: 0.9195 - val_loss: 0.2821 - val_accuracy: 0.9219\n",
            "Epoch 65/70\n",
            "750/750 [==============================] - 1s 2ms/step - loss: 0.2878 - accuracy: 0.9195 - val_loss: 0.2818 - val_accuracy: 0.9216\n",
            "Epoch 66/70\n",
            "750/750 [==============================] - 1s 2ms/step - loss: 0.2873 - accuracy: 0.9200 - val_loss: 0.2816 - val_accuracy: 0.9223\n",
            "Epoch 67/70\n",
            "750/750 [==============================] - 1s 2ms/step - loss: 0.2869 - accuracy: 0.9201 - val_loss: 0.2812 - val_accuracy: 0.9223\n",
            "Epoch 68/70\n",
            "750/750 [==============================] - 1s 2ms/step - loss: 0.2864 - accuracy: 0.9202 - val_loss: 0.2811 - val_accuracy: 0.9219\n",
            "Epoch 69/70\n",
            "750/750 [==============================] - 1s 1ms/step - loss: 0.2861 - accuracy: 0.9203 - val_loss: 0.2808 - val_accuracy: 0.9223\n",
            "Epoch 70/70\n",
            "750/750 [==============================] - 1s 2ms/step - loss: 0.2856 - accuracy: 0.9202 - val_loss: 0.2805 - val_accuracy: 0.9224\n"
          ],
          "name": "stdout"
        },
        {
          "output_type": "execute_result",
          "data": {
            "text/plain": [
              "<tensorflow.python.keras.callbacks.History at 0x7f9b1052fb00>"
            ]
          },
          "metadata": {
            "tags": []
          },
          "execution_count": 13
        }
      ]
    },
    {
      "cell_type": "code",
      "metadata": {
        "id": "69BcblweGIsS",
        "colab_type": "code",
        "colab": {
          "base_uri": "https://localhost:8080/",
          "height": 51
        },
        "outputId": "e24ea31f-63ba-40b2-a719-6fffe1d3954c"
      },
      "source": [
        "#evaluate the model\n",
        "test_loss, test_acc = model_0.evaluate(X_test, Y_test)\n",
        "print('Test accuracy:', test_acc)"
      ],
      "execution_count": 14,
      "outputs": [
        {
          "output_type": "stream",
          "text": [
            "313/313 [==============================] - 0s 1ms/step - loss: 0.2829 - accuracy: 0.9212\n",
            "Test accuracy: 0.9211999773979187\n"
          ],
          "name": "stdout"
        }
      ]
    },
    {
      "cell_type": "code",
      "metadata": {
        "id": "PuwNwMEHQ1OV",
        "colab_type": "code",
        "colab": {}
      },
      "source": [
        "from PIL import Image, ImageFilter\n",
        "from matplotlib import pyplot as plt\n"
      ],
      "execution_count": 0,
      "outputs": []
    },
    {
      "cell_type": "code",
      "metadata": {
        "id": "-hYg3O5zMNFb",
        "colab_type": "code",
        "colab": {}
      },
      "source": [
        "def imageprepare(argv):\n",
        "    \"\"\"\n",
        "    This function returns the pixel values.\n",
        "    The imput is a png file location.\n",
        "    \"\"\"\n",
        "    im = Image.open(argv).convert('L')\n",
        "    width = float(im.size[0])\n",
        "    height = float(im.size[1])\n",
        "    newImage = Image.new('L', (28, 28), (255))  # creates white canvas of 28x28 pixels\n",
        "\n",
        "    if width > height:  # check which dimension is bigger\n",
        "        # Width is bigger. Width becomes 20 pixels.\n",
        "        nheight = int(round((20.0 / width * height), 0))  # resize height according to ratio width\n",
        "        if (nheight == 0):  # rare case but minimum is 1 pixel\n",
        "            nheight = 1\n",
        "            # resize and sharpen\n",
        "        img = im.resize((20, nheight), Image.ANTIALIAS).filter(ImageFilter.SHARPEN)\n",
        "        wtop = int(round(((28 - nheight) / 2), 0))  # calculate horizontal position\n",
        "        newImage.paste(img, (4, wtop))  # paste resized image on white canvas\n",
        "    else:\n",
        "        # Height is bigger. Heigth becomes 20 pixels.\n",
        "        nwidth = int(round((20.0 / height * width), 0))  # resize width according to ratio height\n",
        "        if (nwidth == 0):  # rare case but minimum is 1 pixel\n",
        "            nwidth = 1\n",
        "            # resize and sharpen\n",
        "        img = im.resize((nwidth, 20), Image.ANTIALIAS).filter(ImageFilter.SHARPEN)\n",
        "        wleft = int(round(((28 - nwidth) / 2), 0))  # caculate vertical pozition\n",
        "        newImage.paste(img, (wleft, 4))  # paste resized image on white canvas\n",
        "\n",
        "    # newImage.save(\"sample.png\n",
        "\n",
        "    tv = list(newImage.getdata())  # get pixel values\n",
        "\n",
        "    # normalize pixels to 0 and 1. 0 is pure white, 1 is pure black.\n",
        "    tva = [(255 - x) * 1.0 / 255.0 for x in tv]\n",
        "    print(tva)\n",
        "    return tva\n"
      ],
      "execution_count": 0,
      "outputs": []
    },
    {
      "cell_type": "code",
      "metadata": {
        "id": "L4PaI8qjOT7e",
        "colab_type": "code",
        "colab": {
          "base_uri": "https://localhost:8080/",
          "height": 122
        },
        "outputId": "4345b6ae-eaed-4348-c16f-26cbd5f7e56f"
      },
      "source": [
        "from google.colab import drive\n",
        "drive.mount('/content/drive')"
      ],
      "execution_count": 17,
      "outputs": [
        {
          "output_type": "stream",
          "text": [
            "Go to this URL in a browser: https://accounts.google.com/o/oauth2/auth?client_id=947318989803-6bn6qk8qdgf4n4g3pfee6491hc0brc4i.apps.googleusercontent.com&redirect_uri=urn%3aietf%3awg%3aoauth%3a2.0%3aoob&response_type=code&scope=email%20https%3a%2f%2fwww.googleapis.com%2fauth%2fdocs.test%20https%3a%2f%2fwww.googleapis.com%2fauth%2fdrive%20https%3a%2f%2fwww.googleapis.com%2fauth%2fdrive.photos.readonly%20https%3a%2f%2fwww.googleapis.com%2fauth%2fpeopleapi.readonly\n",
            "\n",
            "Enter your authorization code:\n",
            "··········\n",
            "Mounted at /content/drive\n"
          ],
          "name": "stdout"
        }
      ]
    },
    {
      "cell_type": "code",
      "metadata": {
        "id": "I77OO7TVOUpc",
        "colab_type": "code",
        "colab": {
          "base_uri": "https://localhost:8080/",
          "height": 54
        },
        "outputId": "f3e633a0-5d02-4680-e13e-b5c384813496"
      },
      "source": [
        "test_img = [imageprepare('/content/drive/My Drive/Faltu/servlet (1).png (28×28)')]"
      ],
      "execution_count": 18,
      "outputs": [
        {
          "output_type": "stream",
          "text": [
            "[0.0, 0.0, 0.0, 0.0, 0.0, 0.0, 0.0, 0.0, 0.0, 0.0, 0.0, 0.0, 0.0, 0.0, 0.0, 0.0, 0.0, 0.0, 0.0, 0.0, 0.0, 0.0, 0.0, 0.0, 0.0, 0.0, 0.0, 0.0, 0.0, 0.0, 0.0, 0.0, 0.0, 0.0, 0.0, 0.0, 0.0, 0.0, 0.0, 0.0, 0.0, 0.0, 0.0, 0.0, 0.0, 0.0, 0.0, 0.0, 0.0, 0.0, 0.0, 0.0, 0.0, 0.0, 0.0, 0.0, 0.0, 0.0, 0.0, 0.0, 0.0, 0.0, 0.0, 0.0, 0.0, 0.0, 0.0, 0.0, 0.0, 0.0, 0.0, 0.0, 0.0, 0.0, 0.0, 0.0, 0.0, 0.0, 0.0, 0.0, 0.0, 0.0, 0.0, 0.0, 0.0, 0.0, 0.0, 0.0, 0.0, 0.0, 0.0, 0.0, 0.0, 0.0, 0.0, 0.0, 0.0, 0.0, 0.0, 0.0, 0.0, 0.0, 0.0, 0.0, 0.0, 0.0, 0.0, 0.0, 0.0, 0.0, 0.0, 0.0, 0.0, 0.0, 0.0, 0.0, 0.0, 0.00392156862745098, 0.00784313725490196, 0.00784313725490196, 0.00392156862745098, 0.00392156862745098, 0.00392156862745098, 0.0, 0.0, 0.0, 0.0, 0.00392156862745098, 0.00784313725490196, 0.00392156862745098, 0.0, 0.011764705882352941, 0.00392156862745098, 0.00392156862745098, 0.0, 0.0, 0.0, 0.0, 0.0, 0.0, 0.0, 0.0, 0.0, 0.0, 0.00392156862745098, 0.0, 0.011764705882352941, 0.00392156862745098, 0.011764705882352941, 0.0196078431372549, 0.0196078431372549, 0.00392156862745098, 0.01568627450980392, 0.00392156862745098, 0.011764705882352941, 0.0196078431372549, 0.0196078431372549, 0.011764705882352941, 0.00784313725490196, 0.03529411764705882, 0.01568627450980392, 0.00784313725490196, 0.0, 0.0196078431372549, 0.0, 0.0, 0.0, 0.0, 0.0, 0.0, 0.0, 0.0, 0.00784313725490196, 0.00784313725490196, 0.00784313725490196, 0.0, 0.0, 0.0, 0.0, 0.0, 0.0, 0.0, 0.0, 0.0, 0.0, 0.0, 0.0, 0.0, 0.0, 0.0196078431372549, 0.0, 0.00784313725490196, 0.0, 0.0, 0.0, 0.0, 0.0, 0.0, 0.0, 0.0, 0.01568627450980392, 0.0, 0.0, 0.0, 0.0, 0.0, 0.0, 0.0, 0.0, 0.0, 0.0, 0.0, 0.0, 0.0, 0.0, 0.0, 0.0, 0.0, 0.0, 0.0, 0.0, 0.0, 0.0, 0.0, 0.0, 0.0, 0.0, 0.0, 0.0196078431372549, 0.043137254901960784, 0.13725490196078433, 0.37254901960784315, 0.6627450980392157, 0.8588235294117647, 1.0, 1.0, 1.0, 1.0, 1.0, 0.9372549019607843, 0.9333333333333333, 0.9725490196078431, 1.0, 0.8901960784313725, 0.9490196078431372, 0.8509803921568627, 0.39215686274509803, 0.07450980392156863, 0.0, 0.0, 0.0, 0.0, 0.0, 0.0, 0.0, 0.0, 0.00784313725490196, 0.0, 0.0, 0.0, 0.00784313725490196, 0.00392156862745098, 0.00392156862745098, 0.06666666666666667, 0.043137254901960784, 0.06666666666666667, 0.01568627450980392, 0.0, 0.0, 0.0196078431372549, 0.0, 0.1411764705882353, 0.8862745098039215, 0.20392156862745098, 0.0, 0.011764705882352941, 0.0, 0.0, 0.0, 0.0, 0.0, 0.0, 0.0, 0.0, 0.0, 0.0, 0.0, 0.0, 0.0, 0.0, 0.0, 0.0, 0.0, 0.0, 0.0, 0.0, 0.0, 0.0, 0.0, 0.9294117647058824, 0.39215686274509803, 0.0, 0.0, 0.0, 0.0, 0.0, 0.0, 0.0, 0.0, 0.0, 0.0, 0.0, 0.0, 0.0, 0.0, 0.0, 0.00784313725490196, 0.00784313725490196, 0.00784313725490196, 0.00784313725490196, 0.00784313725490196, 0.00784313725490196, 0.00392156862745098, 0.0196078431372549, 0.0, 0.0, 0.7803921568627451, 0.7843137254901961, 0.0, 0.0, 0.00784313725490196, 0.0, 0.0, 0.0, 0.0, 0.0, 0.0, 0.0, 0.0, 0.0, 0.0, 0.0, 0.0, 0.0, 0.0, 0.0, 0.0, 0.0, 0.0, 0.0, 0.0, 0.03137254901960784, 0.0, 0.3411764705882353, 0.984313725490196, 0.0, 0.0, 0.00392156862745098, 0.0, 0.0, 0.0, 0.0, 0.0, 0.0, 0.0, 0.0, 0.0, 0.0, 0.0, 0.0, 0.0, 0.0, 0.0, 0.0, 0.0, 0.0, 0.0, 0.0, 0.00392156862745098, 0.0, 0.0, 0.9529411764705882, 0.4235294117647059, 0.0, 0.00392156862745098, 0.0, 0.0, 0.0, 0.0, 0.0, 0.0, 0.0, 0.0, 0.0, 0.0, 0.0, 0.0, 0.0, 0.0, 0.0, 0.0, 0.0, 0.0, 0.0, 0.0, 0.0, 0.00784313725490196, 0.0, 0.11764705882352941, 1.0, 0.0, 0.0, 0.0392156862745098, 0.00392156862745098, 0.0, 0.0, 0.0, 0.0, 0.0, 0.0, 0.0, 0.0, 0.0, 0.0, 0.0, 0.0, 0.0, 0.0, 0.0, 0.0, 0.00392156862745098, 0.0, 0.0, 0.0, 0.0, 0.0, 0.45098039215686275, 0.3843137254901961, 0.0, 0.0, 0.0, 0.0, 0.0, 0.0, 0.0, 0.0, 0.0, 0.0, 0.0, 0.0, 0.0, 0.0, 0.0, 0.0, 0.0, 0.0, 0.0, 0.00392156862745098, 0.03529411764705882, 0.0, 0.09803921568627451, 0.2627450980392157, 0.28627450980392155, 0.3843137254901961, 1.0, 0.5803921568627451, 0.2549019607843137, 0.16470588235294117, 0.0, 0.0, 0.0, 0.0, 0.0, 0.0, 0.0, 0.0, 0.0, 0.0, 0.0, 0.0, 0.0, 0.0, 0.0, 0.0, 0.0, 0.00392156862745098, 0.00784313725490196, 0.0, 0.11372549019607843, 0.27058823529411763, 0.2196078431372549, 0.8784313725490196, 0.7254901960784313, 0.20784313725490197, 0.2901960784313726, 0.1568627450980392, 0.027450980392156862, 0.0, 0.0, 0.0, 0.0, 0.0, 0.0, 0.0, 0.0, 0.0, 0.0, 0.0, 0.0, 0.0, 0.0, 0.0, 0.0, 0.00392156862745098, 0.00784313725490196, 0.00784313725490196, 0.0, 0.0, 0.0, 0.7333333333333333, 0.1411764705882353, 0.0, 0.0, 0.0, 0.00392156862745098, 0.0, 0.0, 0.0, 0.0, 0.0, 0.0, 0.0, 0.0, 0.0, 0.0, 0.0, 0.0, 0.0, 0.0, 0.0, 0.0, 0.0, 0.0, 0.03137254901960784, 0.00784313725490196, 0.0, 0.0, 1.0, 0.1411764705882353, 0.0, 0.043137254901960784, 0.0, 0.00392156862745098, 0.0, 0.0, 0.0, 0.0, 0.0, 0.0, 0.0, 0.0, 0.0, 0.0, 0.0, 0.0, 0.0, 0.0, 0.0, 0.0, 0.00392156862745098, 0.0, 0.023529411764705882, 0.01568627450980392, 0.0, 0.0, 1.0, 0.09019607843137255, 0.0, 0.01568627450980392, 0.0, 0.00392156862745098, 0.00392156862745098, 0.0, 0.0, 0.0, 0.0, 0.0, 0.0, 0.0, 0.0, 0.0, 0.0, 0.0, 0.0, 0.0, 0.0, 0.0, 0.0, 0.01568627450980392, 0.0, 0.01568627450980392, 0.0, 0.0, 0.9529411764705882, 0.20784313725490197, 0.0, 0.0196078431372549, 0.0, 0.0196078431372549, 0.011764705882352941, 0.0, 0.0, 0.0, 0.0, 0.0, 0.0, 0.0, 0.0, 0.0, 0.0, 0.0, 0.0, 0.0, 0.0, 0.0, 0.0, 0.03529411764705882, 0.0, 0.00784313725490196, 0.0, 0.0, 0.27058823529411763, 0.0, 0.0, 0.011764705882352941, 0.00392156862745098, 0.0, 0.0, 0.0, 0.0, 0.0, 0.0, 0.0, 0.0, 0.0, 0.0, 0.0, 0.0, 0.0, 0.0, 0.0, 0.0, 0.0, 0.0, 0.01568627450980392, 0.00392156862745098, 0.011764705882352941, 0.023529411764705882, 0.0, 0.0, 0.0, 0.011764705882352941, 0.0, 0.00784313725490196, 0.00392156862745098, 0.00392156862745098, 0.0, 0.0, 0.0, 0.0, 0.0, 0.0, 0.0, 0.0, 0.0, 0.0, 0.0, 0.0, 0.0, 0.0, 0.0, 0.0, 0.0, 0.0, 0.0, 0.0, 0.0, 0.0, 0.0, 0.0, 0.0, 0.0, 0.0, 0.0, 0.0, 0.0, 0.0, 0.0, 0.0, 0.0, 0.0, 0.0, 0.0, 0.0, 0.0, 0.0, 0.0, 0.0, 0.0, 0.0, 0.0, 0.0, 0.0, 0.0, 0.0, 0.0, 0.0, 0.0, 0.0, 0.0, 0.0, 0.0, 0.0, 0.0, 0.0, 0.0, 0.0, 0.0, 0.0, 0.0, 0.0, 0.0, 0.0, 0.0, 0.0, 0.0, 0.0, 0.0, 0.0, 0.0, 0.0, 0.0, 0.0, 0.0, 0.0, 0.0, 0.0, 0.0, 0.0, 0.0, 0.0, 0.0, 0.0, 0.0, 0.0, 0.0, 0.0, 0.0, 0.0, 0.0, 0.0, 0.0, 0.0, 0.0, 0.0, 0.0, 0.0, 0.0, 0.0, 0.0, 0.0, 0.0, 0.0, 0.0, 0.0, 0.0, 0.0, 0.0, 0.0, 0.0, 0.0, 0.0, 0.0, 0.0]\n"
          ],
          "name": "stdout"
        }
      ]
    },
    {
      "cell_type": "code",
      "metadata": {
        "id": "aRKnsalOP2pQ",
        "colab_type": "code",
        "colab": {}
      },
      "source": [
        " data= model_0.predict(test_img)"
      ],
      "execution_count": 0,
      "outputs": []
    },
    {
      "cell_type": "code",
      "metadata": {
        "id": "wGg6WKJLQ8gA",
        "colab_type": "code",
        "colab": {
          "base_uri": "https://localhost:8080/",
          "height": 34
        },
        "outputId": "002a1f56-6a60-4520-ce4f-909d42e1d07d"
      },
      "source": [
        "import numpy as np\n",
        "np.argmax(data)"
      ],
      "execution_count": 20,
      "outputs": [
        {
          "output_type": "execute_result",
          "data": {
            "text/plain": [
              "7"
            ]
          },
          "metadata": {
            "tags": []
          },
          "execution_count": 20
        }
      ]
    },
    {
      "cell_type": "code",
      "metadata": {
        "id": "FIMLboMvR_tc",
        "colab_type": "code",
        "colab": {
          "base_uri": "https://localhost:8080/",
          "height": 54
        },
        "outputId": "3adb84d1-4069-44b9-ff0e-39052d83c7d9"
      },
      "source": [
        "test_img = [imageprepare('/content/drive/My Drive/Faltu/9.png (28×28)')]"
      ],
      "execution_count": 21,
      "outputs": [
        {
          "output_type": "stream",
          "text": [
            "[0.0, 0.0, 0.0, 0.0, 0.0, 0.0, 0.0, 0.0, 0.0, 0.0, 0.0, 0.0, 0.0, 0.0, 0.0, 0.0, 0.0, 0.0, 0.0, 0.0, 0.0, 0.0, 0.0, 0.0, 0.0, 0.0, 0.0, 0.0, 0.0, 0.0, 0.0, 0.0, 0.0, 0.0, 0.0, 0.0, 0.0, 0.0, 0.0, 0.0, 0.0, 0.0, 0.0, 0.0, 0.0, 0.0, 0.0, 0.0, 0.0, 0.0, 0.0, 0.0, 0.0, 0.0, 0.0, 0.0, 0.0, 0.0, 0.0, 0.0, 0.0, 0.0, 0.0, 0.0, 0.0, 0.0, 0.0, 0.0, 0.0, 0.0, 0.0, 0.0, 0.0, 0.0, 0.0, 0.0, 0.0, 0.0, 0.0, 0.0, 0.0, 0.0, 0.0, 0.0, 0.0, 0.0, 0.0, 0.0, 0.0, 0.0, 0.0, 0.0, 0.0, 0.0, 0.0, 0.0, 0.0, 0.0, 0.0, 0.0, 0.0, 0.0, 0.0, 0.0, 0.0, 0.0, 0.0, 0.0, 0.0, 0.0, 0.0, 0.0, 0.0, 0.0, 0.0, 0.0, 0.06666666666666667, 0.09019607843137255, 0.08235294117647059, 0.08235294117647059, 0.08235294117647059, 0.08235294117647059, 0.08235294117647059, 0.08235294117647059, 0.08235294117647059, 0.08235294117647059, 0.08235294117647059, 0.08235294117647059, 0.08235294117647059, 0.08235294117647059, 0.08235294117647059, 0.08235294117647059, 0.08235294117647059, 0.08235294117647059, 0.08627450980392157, 0.07450980392156863, 0.0, 0.0, 0.0, 0.0, 0.0, 0.0, 0.0, 0.0, 0.09019607843137255, 0.01568627450980392, 0.0, 0.0, 0.0, 0.0, 0.0, 0.0, 0.0, 0.0, 0.0, 0.0, 0.0, 0.0, 0.0, 0.0, 0.0, 0.0, 0.0, 0.09411764705882353, 0.0, 0.0, 0.0, 0.0, 0.0, 0.0, 0.0, 0.0, 0.08235294117647059, 0.0, 0.0, 0.0, 0.0, 0.0, 0.0, 0.0, 0.0, 0.0, 0.0, 0.0, 0.0, 0.0, 0.0, 0.0, 0.0, 0.0, 0.0, 0.08235294117647059, 0.0, 0.0, 0.0, 0.0, 0.0, 0.0, 0.0, 0.0, 0.08235294117647059, 0.0, 0.0, 0.0, 0.0, 0.0, 0.0, 0.0, 0.00784313725490196, 0.00784313725490196, 0.0, 0.0, 0.00784313725490196, 0.00784313725490196, 0.0, 0.0, 0.0, 0.0, 0.0, 0.08627450980392157, 0.0, 0.0, 0.0, 0.0, 0.0, 0.0, 0.0, 0.0, 0.08235294117647059, 0.0, 0.0, 0.0, 0.0, 0.0, 0.0, 0.0, 0.0, 0.0, 0.0, 0.0, 0.0, 0.0, 0.0, 0.0, 0.0, 0.0, 0.0, 0.08627450980392157, 0.0, 0.0, 0.0, 0.0, 0.0, 0.0, 0.0, 0.0, 0.08235294117647059, 0.0, 0.0, 0.0, 0.0, 0.0, 0.0, 0.0, 0.0, 0.1450980392156863, 0.6627450980392157, 0.5843137254901961, 0.49411764705882355, 0.09803921568627451, 0.0, 0.0, 0.0, 0.0, 0.0, 0.08627450980392157, 0.0, 0.0, 0.0, 0.0, 0.0, 0.0, 0.0, 0.0, 0.08235294117647059, 0.0, 0.0, 0.0, 0.0, 0.0, 0.0, 0.1411764705882353, 0.8117647058823529, 1.0, 1.0, 1.0, 1.0, 0.9725490196078431, 0.0, 0.0, 0.01568627450980392, 0.0, 0.0, 0.08627450980392157, 0.0, 0.0, 0.0, 0.0, 0.0, 0.0, 0.0, 0.0, 0.08235294117647059, 0.0, 0.0, 0.00784313725490196, 0.0, 0.0, 0.34901960784313724, 1.0, 1.0, 0.7803921568627451, 0.47058823529411764, 0.0, 0.4666666666666667, 1.0, 0.00392156862745098, 0.0, 0.011764705882352941, 0.0, 0.0, 0.08627450980392157, 0.0, 0.0, 0.0, 0.0, 0.0, 0.0, 0.0, 0.0, 0.08235294117647059, 0.0, 0.0, 0.01568627450980392, 0.0, 0.058823529411764705, 1.0, 1.0, 0.2823529411764706, 0.0, 0.0, 0.0, 0.7490196078431373, 1.0, 0.0, 0.0, 0.011764705882352941, 0.0, 0.0, 0.08627450980392157, 0.0, 0.0, 0.0, 0.0, 0.0, 0.0, 0.0, 0.0, 0.08235294117647059, 0.0, 0.0, 0.00784313725490196, 0.0, 0.27450980392156865, 1.0, 0.42745098039215684, 0.0, 0.0, 0.39215686274509803, 0.8980392156862745, 1.0, 1.0, 0.0, 0.0, 0.011764705882352941, 0.0, 0.0, 0.08627450980392157, 0.0, 0.0, 0.0, 0.0, 0.0, 0.0, 0.0, 0.0, 0.08235294117647059, 0.0, 0.0, 0.00784313725490196, 0.0, 0.22745098039215686, 1.0, 1.0, 0.7215686274509804, 1.0, 1.0, 0.9490196078431372, 1.0, 0.8470588235294118, 0.0, 0.0, 0.01568627450980392, 0.0, 0.0, 0.08627450980392157, 0.0, 0.0, 0.0, 0.0, 0.0, 0.0, 0.0, 0.0, 0.08235294117647059, 0.0, 0.0, 0.00784313725490196, 0.0, 0.0, 0.7215686274509804, 1.0, 1.0, 1.0, 0.23529411764705882, 0.6823529411764706, 1.0, 0.5686274509803921, 0.0, 0.0, 0.00784313725490196, 0.0, 0.0, 0.08627450980392157, 0.0, 0.0, 0.0, 0.0, 0.0, 0.0, 0.0, 0.0, 0.08235294117647059, 0.0, 0.0, 0.0, 0.0, 0.0, 0.0, 0.11764705882352941, 0.11372549019607843, 0.0, 0.0, 0.8117647058823529, 1.0, 0.10196078431372549, 0.0, 0.00392156862745098, 0.0, 0.0, 0.0, 0.08627450980392157, 0.0, 0.0, 0.0, 0.0, 0.0, 0.0, 0.0, 0.0, 0.08235294117647059, 0.0, 0.0, 0.0, 0.0, 0.0, 0.0, 0.0, 0.0, 0.0, 0.0, 1.0, 0.9882352941176471, 0.0, 0.0, 0.00784313725490196, 0.0, 0.0, 0.0, 0.08627450980392157, 0.0, 0.0, 0.0, 0.0, 0.0, 0.0, 0.0, 0.0, 0.08235294117647059, 0.0, 0.0, 0.0, 0.0, 0.0, 0.00784313725490196, 0.00784313725490196, 0.011764705882352941, 0.0, 0.4, 1.0, 0.3803921568627451, 0.0, 0.0, 0.0, 0.0, 0.0, 0.0, 0.08627450980392157, 0.0, 0.0, 0.0, 0.0, 0.0, 0.0, 0.0, 0.0, 0.08235294117647059, 0.0, 0.0, 0.0, 0.0, 0.0, 0.0, 0.0, 0.0, 0.0, 0.7803921568627451, 1.0, 0.00784313725490196, 0.0, 0.00784313725490196, 0.0, 0.0, 0.0, 0.0, 0.08627450980392157, 0.0, 0.0, 0.0, 0.0, 0.0, 0.0, 0.0, 0.0, 0.08235294117647059, 0.0, 0.0, 0.0, 0.0, 0.0, 0.0, 0.00784313725490196, 0.0, 0.0, 0.8352941176470589, 1.0, 0.0, 0.0, 0.00784313725490196, 0.0, 0.0, 0.0, 0.0, 0.08627450980392157, 0.0, 0.0, 0.0, 0.0, 0.0, 0.0, 0.0, 0.0, 0.08235294117647059, 0.0, 0.0, 0.0, 0.0, 0.0, 0.0, 0.0, 0.0, 0.0, 0.8352941176470589, 0.5372549019607843, 0.0, 0.0, 0.0, 0.0, 0.0, 0.0, 0.0, 0.08627450980392157, 0.0, 0.0, 0.0, 0.0, 0.0, 0.0, 0.0, 0.0, 0.09019607843137255, 0.0, 0.0, 0.0, 0.0, 0.0, 0.0, 0.0, 0.0, 0.0, 0.4117647058823529, 0.07058823529411765, 0.0, 0.0, 0.0, 0.0, 0.0, 0.0, 0.0, 0.09411764705882353, 0.0, 0.0, 0.0, 0.0, 0.0, 0.0, 0.0, 0.0, 0.07450980392156863, 0.09411764705882353, 0.08235294117647059, 0.08627450980392157, 0.08627450980392157, 0.08627450980392157, 0.08627450980392157, 0.08627450980392157, 0.08235294117647059, 0.08627450980392157, 0.09019607843137255, 0.09019607843137255, 0.08235294117647059, 0.08627450980392157, 0.08627450980392157, 0.08627450980392157, 0.08627450980392157, 0.08235294117647059, 0.09411764705882353, 0.08627450980392157, 0.0, 0.0, 0.0, 0.0, 0.0, 0.0, 0.0, 0.0, 0.0, 0.0, 0.0, 0.0, 0.0, 0.0, 0.0, 0.0, 0.0, 0.0, 0.0, 0.0, 0.0, 0.0, 0.0, 0.0, 0.0, 0.0, 0.0, 0.0, 0.0, 0.0, 0.0, 0.0, 0.0, 0.0, 0.0, 0.0, 0.0, 0.0, 0.0, 0.0, 0.0, 0.0, 0.0, 0.0, 0.0, 0.0, 0.0, 0.0, 0.0, 0.0, 0.0, 0.0, 0.0, 0.0, 0.0, 0.0, 0.0, 0.0, 0.0, 0.0, 0.0, 0.0, 0.0, 0.0, 0.0, 0.0, 0.0, 0.0, 0.0, 0.0, 0.0, 0.0, 0.0, 0.0, 0.0, 0.0, 0.0, 0.0, 0.0, 0.0, 0.0, 0.0, 0.0, 0.0, 0.0, 0.0, 0.0, 0.0, 0.0, 0.0, 0.0, 0.0, 0.0, 0.0, 0.0, 0.0, 0.0, 0.0, 0.0, 0.0, 0.0, 0.0, 0.0, 0.0, 0.0, 0.0, 0.0, 0.0, 0.0, 0.0, 0.0, 0.0, 0.0, 0.0, 0.0, 0.0]\n"
          ],
          "name": "stdout"
        }
      ]
    },
    {
      "cell_type": "code",
      "metadata": {
        "id": "L9Yq3QXwWVQl",
        "colab_type": "code",
        "colab": {}
      },
      "source": [
        " data= model_0.predict(test_img)"
      ],
      "execution_count": 0,
      "outputs": []
    },
    {
      "cell_type": "code",
      "metadata": {
        "id": "_XdNiVwbWlJt",
        "colab_type": "code",
        "colab": {
          "base_uri": "https://localhost:8080/",
          "height": 34
        },
        "outputId": "e2569d0f-860f-4ee7-f463-212ac3323230"
      },
      "source": [
        "np.argmax(data)"
      ],
      "execution_count": 23,
      "outputs": [
        {
          "output_type": "execute_result",
          "data": {
            "text/plain": [
              "4"
            ]
          },
          "metadata": {
            "tags": []
          },
          "execution_count": 23
        }
      ]
    },
    {
      "cell_type": "code",
      "metadata": {
        "id": "iEKA3QDnWuQI",
        "colab_type": "code",
        "colab": {}
      },
      "source": [
        "from tensorflow.keras.layers import Dropout\n"
      ],
      "execution_count": 0,
      "outputs": []
    },
    {
      "cell_type": "code",
      "metadata": {
        "id": "CATXQ-r7Ytxj",
        "colab_type": "code",
        "colab": {}
      },
      "source": [
        "N_hidden = 64\n",
        "model_1 = Sequential()\n",
        "model_1.add(Dense(N_hidden, input_shape=(784,),name='dense_layer', activation='relu' ))\n",
        "model_1.add(Dense(N_hidden, name='dense_layer_2', activation='relu' ))\n",
        "model_1.add(Dense(N_hidden, name='dense_layer_3', activation='relu' ))\n",
        "model_1.add(Dense(10, name='dense_layer_4', activation = 'softmax'))"
      ],
      "execution_count": 0,
      "outputs": []
    },
    {
      "cell_type": "code",
      "metadata": {
        "id": "pUNLPcaAanSP",
        "colab_type": "code",
        "colab": {}
      },
      "source": [
        "# Compiling the model.\n",
        "model_1.compile(optimizer='SGD', \n",
        "              loss='categorical_crossentropy',\n",
        "              metrics=['accuracy'])"
      ],
      "execution_count": 0,
      "outputs": []
    },
    {
      "cell_type": "code",
      "metadata": {
        "id": "j36VmVO-b5DE",
        "colab_type": "code",
        "colab": {
          "base_uri": "https://localhost:8080/",
          "height": 1000
        },
        "outputId": "6076fbe9-7117-4815-e6ac-745c245c7cdc"
      },
      "source": [
        "model_1.fit(X_train, Y_train, batch_size=64, epochs=100, validation_split=0.2)"
      ],
      "execution_count": 27,
      "outputs": [
        {
          "output_type": "stream",
          "text": [
            "Epoch 1/100\n",
            "750/750 [==============================] - 2s 2ms/step - loss: 1.2689 - accuracy: 0.6274 - val_loss: 0.5141 - val_accuracy: 0.8669\n",
            "Epoch 2/100\n",
            "750/750 [==============================] - 2s 2ms/step - loss: 0.4237 - accuracy: 0.8809 - val_loss: 0.3329 - val_accuracy: 0.9072\n",
            "Epoch 3/100\n",
            "750/750 [==============================] - 2s 2ms/step - loss: 0.3247 - accuracy: 0.9054 - val_loss: 0.2840 - val_accuracy: 0.9191\n",
            "Epoch 4/100\n",
            "750/750 [==============================] - 2s 2ms/step - loss: 0.2835 - accuracy: 0.9183 - val_loss: 0.2578 - val_accuracy: 0.9270\n",
            "Epoch 5/100\n",
            "750/750 [==============================] - 2s 2ms/step - loss: 0.2569 - accuracy: 0.9245 - val_loss: 0.2334 - val_accuracy: 0.9327\n",
            "Epoch 6/100\n",
            "750/750 [==============================] - 2s 2ms/step - loss: 0.2376 - accuracy: 0.9314 - val_loss: 0.2202 - val_accuracy: 0.9380\n",
            "Epoch 7/100\n",
            "750/750 [==============================] - 2s 2ms/step - loss: 0.2209 - accuracy: 0.9361 - val_loss: 0.2153 - val_accuracy: 0.9381\n",
            "Epoch 8/100\n",
            "750/750 [==============================] - 2s 2ms/step - loss: 0.2071 - accuracy: 0.9395 - val_loss: 0.1972 - val_accuracy: 0.9451\n",
            "Epoch 9/100\n",
            "750/750 [==============================] - 2s 2ms/step - loss: 0.1952 - accuracy: 0.9426 - val_loss: 0.1902 - val_accuracy: 0.9459\n",
            "Epoch 10/100\n",
            "750/750 [==============================] - 2s 2ms/step - loss: 0.1844 - accuracy: 0.9463 - val_loss: 0.1856 - val_accuracy: 0.9489\n",
            "Epoch 11/100\n",
            "750/750 [==============================] - 2s 2ms/step - loss: 0.1750 - accuracy: 0.9484 - val_loss: 0.1754 - val_accuracy: 0.9516\n",
            "Epoch 12/100\n",
            "750/750 [==============================] - 2s 2ms/step - loss: 0.1667 - accuracy: 0.9517 - val_loss: 0.1704 - val_accuracy: 0.9535\n",
            "Epoch 13/100\n",
            "750/750 [==============================] - 2s 2ms/step - loss: 0.1592 - accuracy: 0.9539 - val_loss: 0.1635 - val_accuracy: 0.9542\n",
            "Epoch 14/100\n",
            "750/750 [==============================] - 2s 2ms/step - loss: 0.1520 - accuracy: 0.9562 - val_loss: 0.1631 - val_accuracy: 0.9548\n",
            "Epoch 15/100\n",
            "750/750 [==============================] - 2s 2ms/step - loss: 0.1454 - accuracy: 0.9579 - val_loss: 0.1569 - val_accuracy: 0.9551\n",
            "Epoch 16/100\n",
            "750/750 [==============================] - 2s 2ms/step - loss: 0.1395 - accuracy: 0.9595 - val_loss: 0.1501 - val_accuracy: 0.9573\n",
            "Epoch 17/100\n",
            "750/750 [==============================] - 2s 2ms/step - loss: 0.1329 - accuracy: 0.9619 - val_loss: 0.1493 - val_accuracy: 0.9577\n",
            "Epoch 18/100\n",
            "750/750 [==============================] - 2s 2ms/step - loss: 0.1282 - accuracy: 0.9625 - val_loss: 0.1437 - val_accuracy: 0.9587\n",
            "Epoch 19/100\n",
            "750/750 [==============================] - 2s 2ms/step - loss: 0.1226 - accuracy: 0.9644 - val_loss: 0.1388 - val_accuracy: 0.9604\n",
            "Epoch 20/100\n",
            "750/750 [==============================] - 2s 2ms/step - loss: 0.1186 - accuracy: 0.9661 - val_loss: 0.1382 - val_accuracy: 0.9603\n",
            "Epoch 21/100\n",
            "750/750 [==============================] - 2s 2ms/step - loss: 0.1138 - accuracy: 0.9669 - val_loss: 0.1353 - val_accuracy: 0.9607\n",
            "Epoch 22/100\n",
            "750/750 [==============================] - 2s 2ms/step - loss: 0.1100 - accuracy: 0.9681 - val_loss: 0.1339 - val_accuracy: 0.9622\n",
            "Epoch 23/100\n",
            "750/750 [==============================] - 2s 2ms/step - loss: 0.1058 - accuracy: 0.9691 - val_loss: 0.1308 - val_accuracy: 0.9616\n",
            "Epoch 24/100\n",
            "750/750 [==============================] - 2s 2ms/step - loss: 0.1024 - accuracy: 0.9710 - val_loss: 0.1252 - val_accuracy: 0.9641\n",
            "Epoch 25/100\n",
            "750/750 [==============================] - 2s 2ms/step - loss: 0.0991 - accuracy: 0.9717 - val_loss: 0.1254 - val_accuracy: 0.9643\n",
            "Epoch 26/100\n",
            "750/750 [==============================] - 2s 2ms/step - loss: 0.0951 - accuracy: 0.9724 - val_loss: 0.1269 - val_accuracy: 0.9640\n",
            "Epoch 27/100\n",
            "750/750 [==============================] - 2s 2ms/step - loss: 0.0926 - accuracy: 0.9728 - val_loss: 0.1244 - val_accuracy: 0.9652\n",
            "Epoch 28/100\n",
            "750/750 [==============================] - 2s 2ms/step - loss: 0.0894 - accuracy: 0.9745 - val_loss: 0.1210 - val_accuracy: 0.9636\n",
            "Epoch 29/100\n",
            "750/750 [==============================] - 2s 2ms/step - loss: 0.0867 - accuracy: 0.9750 - val_loss: 0.1163 - val_accuracy: 0.9663\n",
            "Epoch 30/100\n",
            "750/750 [==============================] - 2s 2ms/step - loss: 0.0838 - accuracy: 0.9765 - val_loss: 0.1178 - val_accuracy: 0.9659\n",
            "Epoch 31/100\n",
            "750/750 [==============================] - 2s 2ms/step - loss: 0.0811 - accuracy: 0.9770 - val_loss: 0.1174 - val_accuracy: 0.9668\n",
            "Epoch 32/100\n",
            "750/750 [==============================] - 2s 2ms/step - loss: 0.0784 - accuracy: 0.9777 - val_loss: 0.1155 - val_accuracy: 0.9663\n",
            "Epoch 33/100\n",
            "750/750 [==============================] - 2s 2ms/step - loss: 0.0762 - accuracy: 0.9787 - val_loss: 0.1138 - val_accuracy: 0.9670\n",
            "Epoch 34/100\n",
            "750/750 [==============================] - 2s 2ms/step - loss: 0.0745 - accuracy: 0.9788 - val_loss: 0.1136 - val_accuracy: 0.9677\n",
            "Epoch 35/100\n",
            "750/750 [==============================] - 2s 2ms/step - loss: 0.0721 - accuracy: 0.9796 - val_loss: 0.1172 - val_accuracy: 0.9655\n",
            "Epoch 36/100\n",
            "750/750 [==============================] - 2s 2ms/step - loss: 0.0699 - accuracy: 0.9800 - val_loss: 0.1132 - val_accuracy: 0.9682\n",
            "Epoch 37/100\n",
            "750/750 [==============================] - 2s 2ms/step - loss: 0.0679 - accuracy: 0.9808 - val_loss: 0.1087 - val_accuracy: 0.9689\n",
            "Epoch 38/100\n",
            "750/750 [==============================] - 2s 2ms/step - loss: 0.0660 - accuracy: 0.9814 - val_loss: 0.1065 - val_accuracy: 0.9696\n",
            "Epoch 39/100\n",
            "750/750 [==============================] - 2s 2ms/step - loss: 0.0640 - accuracy: 0.9819 - val_loss: 0.1091 - val_accuracy: 0.9677\n",
            "Epoch 40/100\n",
            "750/750 [==============================] - 2s 2ms/step - loss: 0.0619 - accuracy: 0.9825 - val_loss: 0.1092 - val_accuracy: 0.9693\n",
            "Epoch 41/100\n",
            "750/750 [==============================] - 2s 2ms/step - loss: 0.0605 - accuracy: 0.9834 - val_loss: 0.1095 - val_accuracy: 0.9687\n",
            "Epoch 42/100\n",
            "750/750 [==============================] - 2s 2ms/step - loss: 0.0593 - accuracy: 0.9833 - val_loss: 0.1059 - val_accuracy: 0.9691\n",
            "Epoch 43/100\n",
            "750/750 [==============================] - 2s 2ms/step - loss: 0.0569 - accuracy: 0.9842 - val_loss: 0.1061 - val_accuracy: 0.9700\n",
            "Epoch 44/100\n",
            "750/750 [==============================] - 2s 2ms/step - loss: 0.0553 - accuracy: 0.9844 - val_loss: 0.1045 - val_accuracy: 0.9700\n",
            "Epoch 45/100\n",
            "750/750 [==============================] - 2s 2ms/step - loss: 0.0535 - accuracy: 0.9851 - val_loss: 0.1044 - val_accuracy: 0.9713\n",
            "Epoch 46/100\n",
            "750/750 [==============================] - 2s 2ms/step - loss: 0.0528 - accuracy: 0.9852 - val_loss: 0.1024 - val_accuracy: 0.9700\n",
            "Epoch 47/100\n",
            "750/750 [==============================] - 2s 2ms/step - loss: 0.0509 - accuracy: 0.9861 - val_loss: 0.1037 - val_accuracy: 0.9700\n",
            "Epoch 48/100\n",
            "750/750 [==============================] - 2s 2ms/step - loss: 0.0495 - accuracy: 0.9864 - val_loss: 0.1036 - val_accuracy: 0.9714\n",
            "Epoch 49/100\n",
            "750/750 [==============================] - 2s 2ms/step - loss: 0.0481 - accuracy: 0.9867 - val_loss: 0.1058 - val_accuracy: 0.9710\n",
            "Epoch 50/100\n",
            "750/750 [==============================] - 2s 2ms/step - loss: 0.0464 - accuracy: 0.9871 - val_loss: 0.1057 - val_accuracy: 0.9707\n",
            "Epoch 51/100\n",
            "750/750 [==============================] - 2s 2ms/step - loss: 0.0455 - accuracy: 0.9879 - val_loss: 0.1064 - val_accuracy: 0.9700\n",
            "Epoch 52/100\n",
            "750/750 [==============================] - 2s 2ms/step - loss: 0.0441 - accuracy: 0.9879 - val_loss: 0.1079 - val_accuracy: 0.9703\n",
            "Epoch 53/100\n",
            "750/750 [==============================] - 2s 2ms/step - loss: 0.0432 - accuracy: 0.9881 - val_loss: 0.1044 - val_accuracy: 0.9717\n",
            "Epoch 54/100\n",
            "750/750 [==============================] - 2s 2ms/step - loss: 0.0419 - accuracy: 0.9888 - val_loss: 0.1023 - val_accuracy: 0.9710\n",
            "Epoch 55/100\n",
            "750/750 [==============================] - 2s 2ms/step - loss: 0.0407 - accuracy: 0.9890 - val_loss: 0.1059 - val_accuracy: 0.9702\n",
            "Epoch 56/100\n",
            "750/750 [==============================] - 2s 2ms/step - loss: 0.0396 - accuracy: 0.9898 - val_loss: 0.1046 - val_accuracy: 0.9721\n",
            "Epoch 57/100\n",
            "750/750 [==============================] - 2s 2ms/step - loss: 0.0380 - accuracy: 0.9898 - val_loss: 0.1103 - val_accuracy: 0.9697\n",
            "Epoch 58/100\n",
            "750/750 [==============================] - 2s 2ms/step - loss: 0.0376 - accuracy: 0.9903 - val_loss: 0.1119 - val_accuracy: 0.9691\n",
            "Epoch 59/100\n",
            "750/750 [==============================] - 2s 2ms/step - loss: 0.0365 - accuracy: 0.9905 - val_loss: 0.1041 - val_accuracy: 0.9714\n",
            "Epoch 60/100\n",
            "750/750 [==============================] - 2s 2ms/step - loss: 0.0350 - accuracy: 0.9908 - val_loss: 0.1024 - val_accuracy: 0.9718\n",
            "Epoch 61/100\n",
            "750/750 [==============================] - 2s 2ms/step - loss: 0.0340 - accuracy: 0.9918 - val_loss: 0.1062 - val_accuracy: 0.9716\n",
            "Epoch 62/100\n",
            "750/750 [==============================] - 2s 2ms/step - loss: 0.0334 - accuracy: 0.9918 - val_loss: 0.1035 - val_accuracy: 0.9718\n",
            "Epoch 63/100\n",
            "750/750 [==============================] - 2s 2ms/step - loss: 0.0322 - accuracy: 0.9920 - val_loss: 0.1086 - val_accuracy: 0.9709\n",
            "Epoch 64/100\n",
            "750/750 [==============================] - 2s 2ms/step - loss: 0.0318 - accuracy: 0.9920 - val_loss: 0.1044 - val_accuracy: 0.9727\n",
            "Epoch 65/100\n",
            "750/750 [==============================] - 2s 2ms/step - loss: 0.0309 - accuracy: 0.9922 - val_loss: 0.1050 - val_accuracy: 0.9731\n",
            "Epoch 66/100\n",
            "750/750 [==============================] - 2s 2ms/step - loss: 0.0297 - accuracy: 0.9931 - val_loss: 0.1047 - val_accuracy: 0.9723\n",
            "Epoch 67/100\n",
            "750/750 [==============================] - 2s 2ms/step - loss: 0.0289 - accuracy: 0.9933 - val_loss: 0.1046 - val_accuracy: 0.9722\n",
            "Epoch 68/100\n",
            "750/750 [==============================] - 2s 2ms/step - loss: 0.0280 - accuracy: 0.9932 - val_loss: 0.1075 - val_accuracy: 0.9717\n",
            "Epoch 69/100\n",
            "750/750 [==============================] - 2s 2ms/step - loss: 0.0272 - accuracy: 0.9938 - val_loss: 0.1087 - val_accuracy: 0.9717\n",
            "Epoch 70/100\n",
            "750/750 [==============================] - 2s 2ms/step - loss: 0.0263 - accuracy: 0.9940 - val_loss: 0.1055 - val_accuracy: 0.9727\n",
            "Epoch 71/100\n",
            "750/750 [==============================] - 2s 2ms/step - loss: 0.0256 - accuracy: 0.9944 - val_loss: 0.1051 - val_accuracy: 0.9723\n",
            "Epoch 72/100\n",
            "750/750 [==============================] - 2s 2ms/step - loss: 0.0250 - accuracy: 0.9947 - val_loss: 0.1082 - val_accuracy: 0.9718\n",
            "Epoch 73/100\n",
            "750/750 [==============================] - 2s 2ms/step - loss: 0.0242 - accuracy: 0.9947 - val_loss: 0.1084 - val_accuracy: 0.9728\n",
            "Epoch 74/100\n",
            "750/750 [==============================] - 2s 2ms/step - loss: 0.0233 - accuracy: 0.9950 - val_loss: 0.1066 - val_accuracy: 0.9722\n",
            "Epoch 75/100\n",
            "750/750 [==============================] - 2s 2ms/step - loss: 0.0230 - accuracy: 0.9950 - val_loss: 0.1104 - val_accuracy: 0.9722\n",
            "Epoch 76/100\n",
            "750/750 [==============================] - 2s 2ms/step - loss: 0.0223 - accuracy: 0.9951 - val_loss: 0.1083 - val_accuracy: 0.9726\n",
            "Epoch 77/100\n",
            "750/750 [==============================] - 2s 2ms/step - loss: 0.0216 - accuracy: 0.9955 - val_loss: 0.1077 - val_accuracy: 0.9734\n",
            "Epoch 78/100\n",
            "750/750 [==============================] - 2s 2ms/step - loss: 0.0211 - accuracy: 0.9956 - val_loss: 0.1100 - val_accuracy: 0.9731\n",
            "Epoch 79/100\n",
            "750/750 [==============================] - 2s 2ms/step - loss: 0.0202 - accuracy: 0.9959 - val_loss: 0.1094 - val_accuracy: 0.9732\n",
            "Epoch 80/100\n",
            "750/750 [==============================] - 2s 2ms/step - loss: 0.0198 - accuracy: 0.9959 - val_loss: 0.1102 - val_accuracy: 0.9721\n",
            "Epoch 81/100\n",
            "750/750 [==============================] - 2s 2ms/step - loss: 0.0192 - accuracy: 0.9962 - val_loss: 0.1112 - val_accuracy: 0.9726\n",
            "Epoch 82/100\n",
            "750/750 [==============================] - 2s 2ms/step - loss: 0.0185 - accuracy: 0.9964 - val_loss: 0.1117 - val_accuracy: 0.9729\n",
            "Epoch 83/100\n",
            "750/750 [==============================] - 2s 2ms/step - loss: 0.0181 - accuracy: 0.9964 - val_loss: 0.1118 - val_accuracy: 0.9727\n",
            "Epoch 84/100\n",
            "750/750 [==============================] - 2s 2ms/step - loss: 0.0178 - accuracy: 0.9965 - val_loss: 0.1111 - val_accuracy: 0.9728\n",
            "Epoch 85/100\n",
            "750/750 [==============================] - 2s 2ms/step - loss: 0.0170 - accuracy: 0.9968 - val_loss: 0.1132 - val_accuracy: 0.9718\n",
            "Epoch 86/100\n",
            "750/750 [==============================] - 2s 2ms/step - loss: 0.0166 - accuracy: 0.9970 - val_loss: 0.1137 - val_accuracy: 0.9728\n",
            "Epoch 87/100\n",
            "750/750 [==============================] - 2s 2ms/step - loss: 0.0161 - accuracy: 0.9972 - val_loss: 0.1134 - val_accuracy: 0.9728\n",
            "Epoch 88/100\n",
            "750/750 [==============================] - 2s 2ms/step - loss: 0.0155 - accuracy: 0.9973 - val_loss: 0.1125 - val_accuracy: 0.9727\n",
            "Epoch 89/100\n",
            "750/750 [==============================] - 2s 2ms/step - loss: 0.0150 - accuracy: 0.9974 - val_loss: 0.1174 - val_accuracy: 0.9728\n",
            "Epoch 90/100\n",
            "750/750 [==============================] - 2s 2ms/step - loss: 0.0148 - accuracy: 0.9973 - val_loss: 0.1157 - val_accuracy: 0.9728\n",
            "Epoch 91/100\n",
            "750/750 [==============================] - 2s 2ms/step - loss: 0.0141 - accuracy: 0.9977 - val_loss: 0.1198 - val_accuracy: 0.9724\n",
            "Epoch 92/100\n",
            "750/750 [==============================] - 2s 2ms/step - loss: 0.0137 - accuracy: 0.9975 - val_loss: 0.1179 - val_accuracy: 0.9728\n",
            "Epoch 93/100\n",
            "750/750 [==============================] - 2s 2ms/step - loss: 0.0133 - accuracy: 0.9977 - val_loss: 0.1153 - val_accuracy: 0.9734\n",
            "Epoch 94/100\n",
            "750/750 [==============================] - 2s 2ms/step - loss: 0.0129 - accuracy: 0.9981 - val_loss: 0.1177 - val_accuracy: 0.9723\n",
            "Epoch 95/100\n",
            "750/750 [==============================] - 2s 2ms/step - loss: 0.0124 - accuracy: 0.9983 - val_loss: 0.1171 - val_accuracy: 0.9724\n",
            "Epoch 96/100\n",
            "750/750 [==============================] - 2s 2ms/step - loss: 0.0121 - accuracy: 0.9980 - val_loss: 0.1182 - val_accuracy: 0.9721\n",
            "Epoch 97/100\n",
            "750/750 [==============================] - 2s 2ms/step - loss: 0.0117 - accuracy: 0.9982 - val_loss: 0.1193 - val_accuracy: 0.9736\n",
            "Epoch 98/100\n",
            "750/750 [==============================] - 2s 2ms/step - loss: 0.0116 - accuracy: 0.9982 - val_loss: 0.1167 - val_accuracy: 0.9729\n",
            "Epoch 99/100\n",
            "750/750 [==============================] - 2s 2ms/step - loss: 0.0111 - accuracy: 0.9984 - val_loss: 0.1186 - val_accuracy: 0.9733\n",
            "Epoch 100/100\n",
            "750/750 [==============================] - 2s 2ms/step - loss: 0.0109 - accuracy: 0.9983 - val_loss: 0.1174 - val_accuracy: 0.9734\n"
          ],
          "name": "stdout"
        },
        {
          "output_type": "execute_result",
          "data": {
            "text/plain": [
              "<tensorflow.python.keras.callbacks.History at 0x7f9b0bcfd978>"
            ]
          },
          "metadata": {
            "tags": []
          },
          "execution_count": 27
        }
      ]
    },
    {
      "cell_type": "code",
      "metadata": {
        "id": "qoRz5bB6cKcQ",
        "colab_type": "code",
        "colab": {
          "base_uri": "https://localhost:8080/",
          "height": 34
        },
        "outputId": "6a01b477-21d6-4877-d53e-464d86046be1"
      },
      "source": [
        "test_loss, test_acc =  model_1.evaluate(X_test, Y_test)"
      ],
      "execution_count": 28,
      "outputs": [
        {
          "output_type": "stream",
          "text": [
            "313/313 [==============================] - 0s 1ms/step - loss: 0.1055 - accuracy: 0.9727\n"
          ],
          "name": "stdout"
        }
      ]
    },
    {
      "cell_type": "code",
      "metadata": {
        "id": "yFaMRGOudFVM",
        "colab_type": "code",
        "colab": {}
      },
      "source": [
        "data = model_1.predict(test_img)"
      ],
      "execution_count": 0,
      "outputs": []
    },
    {
      "cell_type": "code",
      "metadata": {
        "id": "T2pymvhXdRZw",
        "colab_type": "code",
        "colab": {
          "base_uri": "https://localhost:8080/",
          "height": 34
        },
        "outputId": "826bc101-d6cd-45b5-d90c-a01cba018d19"
      },
      "source": [
        "np.argmax(data)"
      ],
      "execution_count": 30,
      "outputs": [
        {
          "output_type": "execute_result",
          "data": {
            "text/plain": [
              "4"
            ]
          },
          "metadata": {
            "tags": []
          },
          "execution_count": 30
        }
      ]
    },
    {
      "cell_type": "code",
      "metadata": {
        "id": "dv4kPKGNdXMp",
        "colab_type": "code",
        "colab": {}
      },
      "source": [
        "model_2 = Sequential()\n",
        "hidden_layer = 128\n",
        "model_2.add(Dense(hidden_layer, input_shape=(784,), name='dense_layer_1', activation='relu'))\n",
        "model_2.add(Dropout(0.3))\n",
        "model_2.add(Dense(hidden_layer, name='dense_layer_2', activation='relu'))\n",
        "model_2.add(Dropout(0.3))\n",
        "model_2.add(Dense(10,name='dense_layer_3', activation='softmax'))"
      ],
      "execution_count": 0,
      "outputs": []
    },
    {
      "cell_type": "code",
      "metadata": {
        "id": "MCbZIxseMvEm",
        "colab_type": "code",
        "colab": {}
      },
      "source": [
        "model_2.compile(optimizer='SGD', loss='categorical_crossentropy', metrics=['accuracy'])"
      ],
      "execution_count": 0,
      "outputs": []
    },
    {
      "cell_type": "code",
      "metadata": {
        "id": "zk90PogVNZVV",
        "colab_type": "code",
        "colab": {
          "base_uri": "https://localhost:8080/",
          "height": 1000
        },
        "outputId": "a5ff4056-4801-49d3-ed02-28215544584b"
      },
      "source": [
        "model_2.fit(X_train, Y_train, batch_size=64, epochs=100, validation_split=0.3)"
      ],
      "execution_count": 35,
      "outputs": [
        {
          "output_type": "stream",
          "text": [
            "Epoch 1/100\n",
            "657/657 [==============================] - 2s 3ms/step - loss: 1.3981 - accuracy: 0.5562 - val_loss: 0.6236 - val_accuracy: 0.8404\n",
            "Epoch 2/100\n",
            "657/657 [==============================] - 2s 3ms/step - loss: 0.7052 - accuracy: 0.7814 - val_loss: 0.4274 - val_accuracy: 0.8844\n",
            "Epoch 3/100\n",
            "657/657 [==============================] - 2s 3ms/step - loss: 0.5522 - accuracy: 0.8315 - val_loss: 0.3566 - val_accuracy: 0.8975\n",
            "Epoch 4/100\n",
            "657/657 [==============================] - 2s 3ms/step - loss: 0.4758 - accuracy: 0.8571 - val_loss: 0.3184 - val_accuracy: 0.9064\n",
            "Epoch 5/100\n",
            "657/657 [==============================] - 2s 3ms/step - loss: 0.4290 - accuracy: 0.8720 - val_loss: 0.2911 - val_accuracy: 0.9139\n",
            "Epoch 6/100\n",
            "657/657 [==============================] - 2s 3ms/step - loss: 0.4001 - accuracy: 0.8813 - val_loss: 0.2726 - val_accuracy: 0.9194\n",
            "Epoch 7/100\n",
            "657/657 [==============================] - 2s 3ms/step - loss: 0.3680 - accuracy: 0.8926 - val_loss: 0.2551 - val_accuracy: 0.9239\n",
            "Epoch 8/100\n",
            "657/657 [==============================] - 2s 3ms/step - loss: 0.3477 - accuracy: 0.8976 - val_loss: 0.2410 - val_accuracy: 0.9276\n",
            "Epoch 9/100\n",
            "657/657 [==============================] - 2s 3ms/step - loss: 0.3280 - accuracy: 0.9035 - val_loss: 0.2306 - val_accuracy: 0.9312\n",
            "Epoch 10/100\n",
            "657/657 [==============================] - 2s 3ms/step - loss: 0.3102 - accuracy: 0.9100 - val_loss: 0.2215 - val_accuracy: 0.9329\n",
            "Epoch 11/100\n",
            "657/657 [==============================] - 2s 3ms/step - loss: 0.2958 - accuracy: 0.9139 - val_loss: 0.2102 - val_accuracy: 0.9360\n",
            "Epoch 12/100\n",
            "657/657 [==============================] - 2s 3ms/step - loss: 0.2863 - accuracy: 0.9150 - val_loss: 0.2027 - val_accuracy: 0.9390\n",
            "Epoch 13/100\n",
            "657/657 [==============================] - 2s 3ms/step - loss: 0.2743 - accuracy: 0.9200 - val_loss: 0.1961 - val_accuracy: 0.9417\n",
            "Epoch 14/100\n",
            "657/657 [==============================] - 2s 3ms/step - loss: 0.2607 - accuracy: 0.9222 - val_loss: 0.1881 - val_accuracy: 0.9442\n",
            "Epoch 15/100\n",
            "657/657 [==============================] - 2s 3ms/step - loss: 0.2502 - accuracy: 0.9255 - val_loss: 0.1829 - val_accuracy: 0.9451\n",
            "Epoch 16/100\n",
            "657/657 [==============================] - 2s 3ms/step - loss: 0.2449 - accuracy: 0.9278 - val_loss: 0.1777 - val_accuracy: 0.9472\n",
            "Epoch 17/100\n",
            "657/657 [==============================] - 2s 3ms/step - loss: 0.2381 - accuracy: 0.9294 - val_loss: 0.1739 - val_accuracy: 0.9481\n",
            "Epoch 18/100\n",
            "657/657 [==============================] - 2s 3ms/step - loss: 0.2292 - accuracy: 0.9320 - val_loss: 0.1674 - val_accuracy: 0.9499\n",
            "Epoch 19/100\n",
            "657/657 [==============================] - 2s 3ms/step - loss: 0.2233 - accuracy: 0.9345 - val_loss: 0.1636 - val_accuracy: 0.9518\n",
            "Epoch 20/100\n",
            "657/657 [==============================] - 2s 3ms/step - loss: 0.2181 - accuracy: 0.9355 - val_loss: 0.1602 - val_accuracy: 0.9520\n",
            "Epoch 21/100\n",
            "657/657 [==============================] - 2s 3ms/step - loss: 0.2116 - accuracy: 0.9390 - val_loss: 0.1566 - val_accuracy: 0.9536\n",
            "Epoch 22/100\n",
            "657/657 [==============================] - 2s 3ms/step - loss: 0.2071 - accuracy: 0.9384 - val_loss: 0.1528 - val_accuracy: 0.9549\n",
            "Epoch 23/100\n",
            "657/657 [==============================] - 2s 3ms/step - loss: 0.2050 - accuracy: 0.9394 - val_loss: 0.1498 - val_accuracy: 0.9562\n",
            "Epoch 24/100\n",
            "657/657 [==============================] - 2s 3ms/step - loss: 0.1949 - accuracy: 0.9425 - val_loss: 0.1478 - val_accuracy: 0.9564\n",
            "Epoch 25/100\n",
            "657/657 [==============================] - 2s 3ms/step - loss: 0.1945 - accuracy: 0.9429 - val_loss: 0.1448 - val_accuracy: 0.9577\n",
            "Epoch 26/100\n",
            "657/657 [==============================] - 2s 3ms/step - loss: 0.1879 - accuracy: 0.9445 - val_loss: 0.1420 - val_accuracy: 0.9581\n",
            "Epoch 27/100\n",
            "657/657 [==============================] - 2s 3ms/step - loss: 0.1852 - accuracy: 0.9451 - val_loss: 0.1401 - val_accuracy: 0.9581\n",
            "Epoch 28/100\n",
            "657/657 [==============================] - 2s 3ms/step - loss: 0.1797 - accuracy: 0.9470 - val_loss: 0.1372 - val_accuracy: 0.9589\n",
            "Epoch 29/100\n",
            "657/657 [==============================] - 2s 3ms/step - loss: 0.1786 - accuracy: 0.9471 - val_loss: 0.1347 - val_accuracy: 0.9598\n",
            "Epoch 30/100\n",
            "657/657 [==============================] - 2s 3ms/step - loss: 0.1755 - accuracy: 0.9476 - val_loss: 0.1336 - val_accuracy: 0.9593\n",
            "Epoch 31/100\n",
            "657/657 [==============================] - 2s 3ms/step - loss: 0.1705 - accuracy: 0.9489 - val_loss: 0.1315 - val_accuracy: 0.9608\n",
            "Epoch 32/100\n",
            "657/657 [==============================] - 2s 3ms/step - loss: 0.1653 - accuracy: 0.9502 - val_loss: 0.1301 - val_accuracy: 0.9617\n",
            "Epoch 33/100\n",
            "657/657 [==============================] - 2s 3ms/step - loss: 0.1684 - accuracy: 0.9502 - val_loss: 0.1279 - val_accuracy: 0.9610\n",
            "Epoch 34/100\n",
            "657/657 [==============================] - 2s 3ms/step - loss: 0.1614 - accuracy: 0.9514 - val_loss: 0.1273 - val_accuracy: 0.9619\n",
            "Epoch 35/100\n",
            "657/657 [==============================] - 2s 3ms/step - loss: 0.1591 - accuracy: 0.9523 - val_loss: 0.1246 - val_accuracy: 0.9629\n",
            "Epoch 36/100\n",
            "657/657 [==============================] - 2s 3ms/step - loss: 0.1549 - accuracy: 0.9536 - val_loss: 0.1235 - val_accuracy: 0.9631\n",
            "Epoch 37/100\n",
            "657/657 [==============================] - 2s 3ms/step - loss: 0.1547 - accuracy: 0.9533 - val_loss: 0.1233 - val_accuracy: 0.9626\n",
            "Epoch 38/100\n",
            "657/657 [==============================] - 2s 3ms/step - loss: 0.1505 - accuracy: 0.9545 - val_loss: 0.1217 - val_accuracy: 0.9632\n",
            "Epoch 39/100\n",
            "657/657 [==============================] - 2s 3ms/step - loss: 0.1507 - accuracy: 0.9555 - val_loss: 0.1200 - val_accuracy: 0.9644\n",
            "Epoch 40/100\n",
            "657/657 [==============================] - 2s 3ms/step - loss: 0.1451 - accuracy: 0.9563 - val_loss: 0.1183 - val_accuracy: 0.9644\n",
            "Epoch 41/100\n",
            "657/657 [==============================] - 2s 3ms/step - loss: 0.1444 - accuracy: 0.9570 - val_loss: 0.1177 - val_accuracy: 0.9649\n",
            "Epoch 42/100\n",
            "657/657 [==============================] - 2s 3ms/step - loss: 0.1432 - accuracy: 0.9568 - val_loss: 0.1168 - val_accuracy: 0.9651\n",
            "Epoch 43/100\n",
            "657/657 [==============================] - 2s 3ms/step - loss: 0.1386 - accuracy: 0.9594 - val_loss: 0.1163 - val_accuracy: 0.9652\n",
            "Epoch 44/100\n",
            "657/657 [==============================] - 2s 3ms/step - loss: 0.1383 - accuracy: 0.9589 - val_loss: 0.1143 - val_accuracy: 0.9652\n",
            "Epoch 45/100\n",
            "657/657 [==============================] - 2s 3ms/step - loss: 0.1360 - accuracy: 0.9599 - val_loss: 0.1138 - val_accuracy: 0.9660\n",
            "Epoch 46/100\n",
            "657/657 [==============================] - 2s 3ms/step - loss: 0.1345 - accuracy: 0.9599 - val_loss: 0.1125 - val_accuracy: 0.9660\n",
            "Epoch 47/100\n",
            "657/657 [==============================] - 2s 3ms/step - loss: 0.1324 - accuracy: 0.9590 - val_loss: 0.1123 - val_accuracy: 0.9661\n",
            "Epoch 48/100\n",
            "657/657 [==============================] - 2s 3ms/step - loss: 0.1302 - accuracy: 0.9600 - val_loss: 0.1121 - val_accuracy: 0.9658\n",
            "Epoch 49/100\n",
            "657/657 [==============================] - 2s 3ms/step - loss: 0.1294 - accuracy: 0.9619 - val_loss: 0.1124 - val_accuracy: 0.9662\n",
            "Epoch 50/100\n",
            "657/657 [==============================] - 2s 3ms/step - loss: 0.1258 - accuracy: 0.9620 - val_loss: 0.1105 - val_accuracy: 0.9666\n",
            "Epoch 51/100\n",
            "657/657 [==============================] - 2s 3ms/step - loss: 0.1254 - accuracy: 0.9629 - val_loss: 0.1094 - val_accuracy: 0.9674\n",
            "Epoch 52/100\n",
            "657/657 [==============================] - 2s 3ms/step - loss: 0.1239 - accuracy: 0.9624 - val_loss: 0.1083 - val_accuracy: 0.9674\n",
            "Epoch 53/100\n",
            "657/657 [==============================] - 2s 3ms/step - loss: 0.1249 - accuracy: 0.9619 - val_loss: 0.1071 - val_accuracy: 0.9677\n",
            "Epoch 54/100\n",
            "657/657 [==============================] - 2s 3ms/step - loss: 0.1210 - accuracy: 0.9637 - val_loss: 0.1078 - val_accuracy: 0.9678\n",
            "Epoch 55/100\n",
            "657/657 [==============================] - 2s 3ms/step - loss: 0.1217 - accuracy: 0.9634 - val_loss: 0.1067 - val_accuracy: 0.9681\n",
            "Epoch 56/100\n",
            "657/657 [==============================] - 2s 3ms/step - loss: 0.1189 - accuracy: 0.9635 - val_loss: 0.1065 - val_accuracy: 0.9681\n",
            "Epoch 57/100\n",
            "657/657 [==============================] - 2s 3ms/step - loss: 0.1189 - accuracy: 0.9636 - val_loss: 0.1054 - val_accuracy: 0.9691\n",
            "Epoch 58/100\n",
            "657/657 [==============================] - 2s 3ms/step - loss: 0.1167 - accuracy: 0.9655 - val_loss: 0.1045 - val_accuracy: 0.9689\n",
            "Epoch 59/100\n",
            "657/657 [==============================] - 2s 3ms/step - loss: 0.1114 - accuracy: 0.9673 - val_loss: 0.1048 - val_accuracy: 0.9686\n",
            "Epoch 60/100\n",
            "657/657 [==============================] - 2s 3ms/step - loss: 0.1128 - accuracy: 0.9663 - val_loss: 0.1042 - val_accuracy: 0.9689\n",
            "Epoch 61/100\n",
            "657/657 [==============================] - 2s 3ms/step - loss: 0.1114 - accuracy: 0.9662 - val_loss: 0.1031 - val_accuracy: 0.9698\n",
            "Epoch 62/100\n",
            "657/657 [==============================] - 2s 3ms/step - loss: 0.1099 - accuracy: 0.9662 - val_loss: 0.1029 - val_accuracy: 0.9694\n",
            "Epoch 63/100\n",
            "657/657 [==============================] - 2s 3ms/step - loss: 0.1103 - accuracy: 0.9678 - val_loss: 0.1017 - val_accuracy: 0.9700\n",
            "Epoch 64/100\n",
            "657/657 [==============================] - 2s 3ms/step - loss: 0.1089 - accuracy: 0.9665 - val_loss: 0.1015 - val_accuracy: 0.9701\n",
            "Epoch 65/100\n",
            "657/657 [==============================] - 2s 3ms/step - loss: 0.1083 - accuracy: 0.9670 - val_loss: 0.1021 - val_accuracy: 0.9698\n",
            "Epoch 66/100\n",
            "657/657 [==============================] - 2s 3ms/step - loss: 0.1059 - accuracy: 0.9676 - val_loss: 0.1013 - val_accuracy: 0.9702\n",
            "Epoch 67/100\n",
            "657/657 [==============================] - 2s 3ms/step - loss: 0.1059 - accuracy: 0.9677 - val_loss: 0.1011 - val_accuracy: 0.9706\n",
            "Epoch 68/100\n",
            "657/657 [==============================] - 2s 3ms/step - loss: 0.1036 - accuracy: 0.9690 - val_loss: 0.1004 - val_accuracy: 0.9709\n",
            "Epoch 69/100\n",
            "657/657 [==============================] - 2s 3ms/step - loss: 0.1028 - accuracy: 0.9683 - val_loss: 0.1000 - val_accuracy: 0.9708\n",
            "Epoch 70/100\n",
            "657/657 [==============================] - 2s 3ms/step - loss: 0.1010 - accuracy: 0.9691 - val_loss: 0.1003 - val_accuracy: 0.9708\n",
            "Epoch 71/100\n",
            "657/657 [==============================] - 2s 3ms/step - loss: 0.1015 - accuracy: 0.9696 - val_loss: 0.0992 - val_accuracy: 0.9704\n",
            "Epoch 72/100\n",
            "657/657 [==============================] - 2s 3ms/step - loss: 0.1008 - accuracy: 0.9692 - val_loss: 0.0984 - val_accuracy: 0.9708\n",
            "Epoch 73/100\n",
            "657/657 [==============================] - 2s 3ms/step - loss: 0.0982 - accuracy: 0.9702 - val_loss: 0.0980 - val_accuracy: 0.9713\n",
            "Epoch 74/100\n",
            "657/657 [==============================] - 2s 3ms/step - loss: 0.0982 - accuracy: 0.9703 - val_loss: 0.0995 - val_accuracy: 0.9712\n",
            "Epoch 75/100\n",
            "657/657 [==============================] - 2s 3ms/step - loss: 0.0995 - accuracy: 0.9704 - val_loss: 0.0975 - val_accuracy: 0.9711\n",
            "Epoch 76/100\n",
            "657/657 [==============================] - 2s 3ms/step - loss: 0.0956 - accuracy: 0.9711 - val_loss: 0.0966 - val_accuracy: 0.9716\n",
            "Epoch 77/100\n",
            "657/657 [==============================] - 2s 3ms/step - loss: 0.0944 - accuracy: 0.9717 - val_loss: 0.0973 - val_accuracy: 0.9714\n",
            "Epoch 78/100\n",
            "657/657 [==============================] - 2s 3ms/step - loss: 0.0937 - accuracy: 0.9714 - val_loss: 0.0966 - val_accuracy: 0.9720\n",
            "Epoch 79/100\n",
            "657/657 [==============================] - 2s 3ms/step - loss: 0.0938 - accuracy: 0.9710 - val_loss: 0.0967 - val_accuracy: 0.9719\n",
            "Epoch 80/100\n",
            "657/657 [==============================] - 2s 3ms/step - loss: 0.0919 - accuracy: 0.9729 - val_loss: 0.0961 - val_accuracy: 0.9718\n",
            "Epoch 81/100\n",
            "657/657 [==============================] - 2s 3ms/step - loss: 0.0905 - accuracy: 0.9723 - val_loss: 0.0970 - val_accuracy: 0.9713\n",
            "Epoch 82/100\n",
            "657/657 [==============================] - 2s 3ms/step - loss: 0.0897 - accuracy: 0.9730 - val_loss: 0.0959 - val_accuracy: 0.9717\n",
            "Epoch 83/100\n",
            "657/657 [==============================] - 2s 3ms/step - loss: 0.0877 - accuracy: 0.9729 - val_loss: 0.0961 - val_accuracy: 0.9716\n",
            "Epoch 84/100\n",
            "657/657 [==============================] - 2s 3ms/step - loss: 0.0894 - accuracy: 0.9721 - val_loss: 0.0954 - val_accuracy: 0.9716\n",
            "Epoch 85/100\n",
            "657/657 [==============================] - 2s 4ms/step - loss: 0.0901 - accuracy: 0.9730 - val_loss: 0.0937 - val_accuracy: 0.9721\n",
            "Epoch 86/100\n",
            "657/657 [==============================] - 2s 3ms/step - loss: 0.0879 - accuracy: 0.9725 - val_loss: 0.0947 - val_accuracy: 0.9719\n",
            "Epoch 87/100\n",
            "657/657 [==============================] - 2s 3ms/step - loss: 0.0837 - accuracy: 0.9746 - val_loss: 0.0939 - val_accuracy: 0.9721\n",
            "Epoch 88/100\n",
            "657/657 [==============================] - 2s 3ms/step - loss: 0.0857 - accuracy: 0.9732 - val_loss: 0.0945 - val_accuracy: 0.9718\n",
            "Epoch 89/100\n",
            "657/657 [==============================] - 2s 3ms/step - loss: 0.0871 - accuracy: 0.9731 - val_loss: 0.0934 - val_accuracy: 0.9724\n",
            "Epoch 90/100\n",
            "657/657 [==============================] - 2s 3ms/step - loss: 0.0837 - accuracy: 0.9743 - val_loss: 0.0938 - val_accuracy: 0.9714\n",
            "Epoch 91/100\n",
            "657/657 [==============================] - 2s 3ms/step - loss: 0.0842 - accuracy: 0.9742 - val_loss: 0.0939 - val_accuracy: 0.9719\n",
            "Epoch 92/100\n",
            "657/657 [==============================] - 2s 3ms/step - loss: 0.0842 - accuracy: 0.9731 - val_loss: 0.0933 - val_accuracy: 0.9726\n",
            "Epoch 93/100\n",
            "657/657 [==============================] - 2s 3ms/step - loss: 0.0850 - accuracy: 0.9730 - val_loss: 0.0944 - val_accuracy: 0.9724\n",
            "Epoch 94/100\n",
            "657/657 [==============================] - 2s 3ms/step - loss: 0.0826 - accuracy: 0.9743 - val_loss: 0.0945 - val_accuracy: 0.9727\n",
            "Epoch 95/100\n",
            "657/657 [==============================] - 2s 3ms/step - loss: 0.0809 - accuracy: 0.9752 - val_loss: 0.0934 - val_accuracy: 0.9728\n",
            "Epoch 96/100\n",
            "657/657 [==============================] - 2s 3ms/step - loss: 0.0782 - accuracy: 0.9764 - val_loss: 0.0928 - val_accuracy: 0.9729\n",
            "Epoch 97/100\n",
            "657/657 [==============================] - 2s 3ms/step - loss: 0.0799 - accuracy: 0.9756 - val_loss: 0.0931 - val_accuracy: 0.9725\n",
            "Epoch 98/100\n",
            "657/657 [==============================] - 2s 3ms/step - loss: 0.0798 - accuracy: 0.9748 - val_loss: 0.0922 - val_accuracy: 0.9728\n",
            "Epoch 99/100\n",
            "657/657 [==============================] - 2s 3ms/step - loss: 0.0802 - accuracy: 0.9755 - val_loss: 0.0913 - val_accuracy: 0.9736\n",
            "Epoch 100/100\n",
            "657/657 [==============================] - 2s 4ms/step - loss: 0.0795 - accuracy: 0.9753 - val_loss: 0.0923 - val_accuracy: 0.9729\n"
          ],
          "name": "stdout"
        },
        {
          "output_type": "execute_result",
          "data": {
            "text/plain": [
              "<tensorflow.python.keras.callbacks.History at 0x7f9b0c5c1128>"
            ]
          },
          "metadata": {
            "tags": []
          },
          "execution_count": 35
        }
      ]
    },
    {
      "cell_type": "code",
      "metadata": {
        "id": "ZexRNOtDN4Q9",
        "colab_type": "code",
        "colab": {
          "base_uri": "https://localhost:8080/",
          "height": 51
        },
        "outputId": "b1ab8695-bbc7-4e8a-d2a8-531abc2d4d7a"
      },
      "source": [
        "model_2.evaluate(X_test, Y_test)"
      ],
      "execution_count": 36,
      "outputs": [
        {
          "output_type": "stream",
          "text": [
            "313/313 [==============================] - 0s 1ms/step - loss: 0.0795 - accuracy: 0.9765\n"
          ],
          "name": "stdout"
        },
        {
          "output_type": "execute_result",
          "data": {
            "text/plain": [
              "[0.07947274297475815, 0.9764999747276306]"
            ]
          },
          "metadata": {
            "tags": []
          },
          "execution_count": 36
        }
      ]
    },
    {
      "cell_type": "code",
      "metadata": {
        "id": "HcGANDRXO1g2",
        "colab_type": "code",
        "colab": {
          "base_uri": "https://localhost:8080/",
          "height": 34
        },
        "outputId": "a7f56777-91de-4539-d5c5-7934d8197f26"
      },
      "source": [
        "np.argmax(model_2.predict(test_img))"
      ],
      "execution_count": 37,
      "outputs": [
        {
          "output_type": "execute_result",
          "data": {
            "text/plain": [
              "4"
            ]
          },
          "metadata": {
            "tags": []
          },
          "execution_count": 37
        }
      ]
    },
    {
      "cell_type": "code",
      "metadata": {
        "id": "F8lVYKsrPCwu",
        "colab_type": "code",
        "colab": {}
      },
      "source": [
        "model_3 = Sequential()\n",
        "hidden_layer = 512\n",
        "model_3.add(Dense(hidden_layer, input_shape=(784,), name='dense_layer_1', activation='relu'))\n",
        "model_3.add(Dropout(0.3))\n",
        "model_3.add(Dense(hidden_layer, name='dense_layer_2', activation='relu'))\n",
        "model_3.add(Dropout(0.3))\n",
        "model_3.add(Dense(10,name='dense_layer_3', activation='softmax'))"
      ],
      "execution_count": 0,
      "outputs": []
    },
    {
      "cell_type": "code",
      "metadata": {
        "id": "CAgXcph4P8wL",
        "colab_type": "code",
        "colab": {}
      },
      "source": [
        "model_3.compile(optimizer='Adam', loss='categorical_crossentropy', metrics=['accuracy'])"
      ],
      "execution_count": 0,
      "outputs": []
    },
    {
      "cell_type": "code",
      "metadata": {
        "id": "LRZTZcOgQFpm",
        "colab_type": "code",
        "colab": {
          "base_uri": "https://localhost:8080/",
          "height": 1000
        },
        "outputId": "f53ced02-81e5-49fa-9d92-ede930c9d3b2"
      },
      "source": [
        "# Training the model. \n",
        "training = model_3.fit(X_train, Y_train, batch_size=64, epochs=100, validation_split=0.2) \n"
      ],
      "execution_count": 44,
      "outputs": [
        {
          "output_type": "stream",
          "text": [
            "Epoch 1/100\n",
            "750/750 [==============================] - 8s 10ms/step - loss: 0.0225 - accuracy: 0.9936 - val_loss: 0.1110 - val_accuracy: 0.9797\n",
            "Epoch 2/100\n",
            "750/750 [==============================] - 8s 10ms/step - loss: 0.0225 - accuracy: 0.9932 - val_loss: 0.1167 - val_accuracy: 0.9803\n",
            "Epoch 3/100\n",
            "750/750 [==============================] - 8s 11ms/step - loss: 0.0234 - accuracy: 0.9933 - val_loss: 0.1176 - val_accuracy: 0.9815\n",
            "Epoch 4/100\n",
            "750/750 [==============================] - 8s 11ms/step - loss: 0.0197 - accuracy: 0.9941 - val_loss: 0.1307 - val_accuracy: 0.9797\n",
            "Epoch 5/100\n",
            "750/750 [==============================] - 8s 11ms/step - loss: 0.0225 - accuracy: 0.9939 - val_loss: 0.1127 - val_accuracy: 0.9818\n",
            "Epoch 6/100\n",
            "750/750 [==============================] - 8s 11ms/step - loss: 0.0178 - accuracy: 0.9951 - val_loss: 0.1108 - val_accuracy: 0.9837\n",
            "Epoch 7/100\n",
            "750/750 [==============================] - 8s 10ms/step - loss: 0.0193 - accuracy: 0.9942 - val_loss: 0.1122 - val_accuracy: 0.9820\n",
            "Epoch 8/100\n",
            "750/750 [==============================] - 8s 10ms/step - loss: 0.0242 - accuracy: 0.9932 - val_loss: 0.1184 - val_accuracy: 0.9823\n",
            "Epoch 9/100\n",
            "750/750 [==============================] - 8s 10ms/step - loss: 0.0207 - accuracy: 0.9943 - val_loss: 0.1273 - val_accuracy: 0.9812\n",
            "Epoch 10/100\n",
            "750/750 [==============================] - 8s 10ms/step - loss: 0.0199 - accuracy: 0.9947 - val_loss: 0.1246 - val_accuracy: 0.9822\n",
            "Epoch 11/100\n",
            "750/750 [==============================] - 8s 10ms/step - loss: 0.0179 - accuracy: 0.9949 - val_loss: 0.1318 - val_accuracy: 0.9803\n",
            "Epoch 12/100\n",
            "750/750 [==============================] - 8s 11ms/step - loss: 0.0198 - accuracy: 0.9944 - val_loss: 0.1246 - val_accuracy: 0.9831\n",
            "Epoch 13/100\n",
            "750/750 [==============================] - 8s 10ms/step - loss: 0.0192 - accuracy: 0.9948 - val_loss: 0.1314 - val_accuracy: 0.9809\n",
            "Epoch 14/100\n",
            "750/750 [==============================] - 7s 10ms/step - loss: 0.0222 - accuracy: 0.9946 - val_loss: 0.1248 - val_accuracy: 0.9807\n",
            "Epoch 15/100\n",
            "750/750 [==============================] - 7s 10ms/step - loss: 0.0200 - accuracy: 0.9948 - val_loss: 0.1373 - val_accuracy: 0.9812\n",
            "Epoch 16/100\n",
            "750/750 [==============================] - 7s 10ms/step - loss: 0.0193 - accuracy: 0.9948 - val_loss: 0.1247 - val_accuracy: 0.9816\n",
            "Epoch 17/100\n",
            "750/750 [==============================] - 7s 10ms/step - loss: 0.0165 - accuracy: 0.9951 - val_loss: 0.1256 - val_accuracy: 0.9818\n",
            "Epoch 18/100\n",
            "750/750 [==============================] - 7s 10ms/step - loss: 0.0172 - accuracy: 0.9955 - val_loss: 0.1450 - val_accuracy: 0.9812\n",
            "Epoch 19/100\n",
            "750/750 [==============================] - 7s 10ms/step - loss: 0.0199 - accuracy: 0.9948 - val_loss: 0.1210 - val_accuracy: 0.9829\n",
            "Epoch 20/100\n",
            "750/750 [==============================] - 8s 10ms/step - loss: 0.0179 - accuracy: 0.9955 - val_loss: 0.1246 - val_accuracy: 0.9823\n",
            "Epoch 21/100\n",
            "750/750 [==============================] - 7s 10ms/step - loss: 0.0200 - accuracy: 0.9947 - val_loss: 0.1329 - val_accuracy: 0.9827\n",
            "Epoch 22/100\n",
            "750/750 [==============================] - 7s 9ms/step - loss: 0.0172 - accuracy: 0.9954 - val_loss: 0.1377 - val_accuracy: 0.9818\n",
            "Epoch 23/100\n",
            "750/750 [==============================] - 7s 10ms/step - loss: 0.0177 - accuracy: 0.9954 - val_loss: 0.1452 - val_accuracy: 0.9813\n",
            "Epoch 24/100\n",
            "750/750 [==============================] - 7s 10ms/step - loss: 0.0189 - accuracy: 0.9951 - val_loss: 0.1369 - val_accuracy: 0.9824\n",
            "Epoch 25/100\n",
            "750/750 [==============================] - 8s 10ms/step - loss: 0.0182 - accuracy: 0.9954 - val_loss: 0.1486 - val_accuracy: 0.9812\n",
            "Epoch 26/100\n",
            "750/750 [==============================] - 7s 10ms/step - loss: 0.0160 - accuracy: 0.9958 - val_loss: 0.1504 - val_accuracy: 0.9817\n",
            "Epoch 27/100\n",
            "750/750 [==============================] - 7s 9ms/step - loss: 0.0187 - accuracy: 0.9952 - val_loss: 0.1551 - val_accuracy: 0.9817\n",
            "Epoch 28/100\n",
            "750/750 [==============================] - 7s 9ms/step - loss: 0.0208 - accuracy: 0.9955 - val_loss: 0.1475 - val_accuracy: 0.9830\n",
            "Epoch 29/100\n",
            "750/750 [==============================] - 7s 9ms/step - loss: 0.0173 - accuracy: 0.9954 - val_loss: 0.1351 - val_accuracy: 0.9831\n",
            "Epoch 30/100\n",
            "750/750 [==============================] - 8s 10ms/step - loss: 0.0163 - accuracy: 0.9959 - val_loss: 0.1466 - val_accuracy: 0.9813\n",
            "Epoch 31/100\n",
            "750/750 [==============================] - 8s 10ms/step - loss: 0.0173 - accuracy: 0.9956 - val_loss: 0.1578 - val_accuracy: 0.9808\n",
            "Epoch 32/100\n",
            "750/750 [==============================] - 8s 10ms/step - loss: 0.0237 - accuracy: 0.9948 - val_loss: 0.1557 - val_accuracy: 0.9822\n",
            "Epoch 33/100\n",
            "750/750 [==============================] - 7s 10ms/step - loss: 0.0144 - accuracy: 0.9965 - val_loss: 0.1412 - val_accuracy: 0.9833\n",
            "Epoch 34/100\n",
            "750/750 [==============================] - 7s 10ms/step - loss: 0.0133 - accuracy: 0.9965 - val_loss: 0.1627 - val_accuracy: 0.9811\n",
            "Epoch 35/100\n",
            "750/750 [==============================] - 7s 10ms/step - loss: 0.0182 - accuracy: 0.9952 - val_loss: 0.1406 - val_accuracy: 0.9835\n",
            "Epoch 36/100\n",
            "750/750 [==============================] - 7s 10ms/step - loss: 0.0151 - accuracy: 0.9962 - val_loss: 0.1539 - val_accuracy: 0.9822\n",
            "Epoch 37/100\n",
            "750/750 [==============================] - 7s 10ms/step - loss: 0.0195 - accuracy: 0.9953 - val_loss: 0.1619 - val_accuracy: 0.9818\n",
            "Epoch 38/100\n",
            "750/750 [==============================] - 7s 10ms/step - loss: 0.0220 - accuracy: 0.9950 - val_loss: 0.1501 - val_accuracy: 0.9824\n",
            "Epoch 39/100\n",
            "750/750 [==============================] - 7s 10ms/step - loss: 0.0162 - accuracy: 0.9960 - val_loss: 0.1566 - val_accuracy: 0.9826\n",
            "Epoch 40/100\n",
            "750/750 [==============================] - 8s 11ms/step - loss: 0.0181 - accuracy: 0.9958 - val_loss: 0.1481 - val_accuracy: 0.9819\n",
            "Epoch 41/100\n",
            "750/750 [==============================] - 8s 11ms/step - loss: 0.0181 - accuracy: 0.9956 - val_loss: 0.1376 - val_accuracy: 0.9833\n",
            "Epoch 42/100\n",
            "750/750 [==============================] - 8s 11ms/step - loss: 0.0160 - accuracy: 0.9964 - val_loss: 0.1500 - val_accuracy: 0.9825\n",
            "Epoch 43/100\n",
            "750/750 [==============================] - 9s 12ms/step - loss: 0.0143 - accuracy: 0.9968 - val_loss: 0.1389 - val_accuracy: 0.9837\n",
            "Epoch 44/100\n",
            "750/750 [==============================] - 7s 10ms/step - loss: 0.0181 - accuracy: 0.9958 - val_loss: 0.1474 - val_accuracy: 0.9833\n",
            "Epoch 45/100\n",
            "750/750 [==============================] - 7s 10ms/step - loss: 0.0155 - accuracy: 0.9964 - val_loss: 0.1544 - val_accuracy: 0.9825\n",
            "Epoch 46/100\n",
            "750/750 [==============================] - 7s 10ms/step - loss: 0.0122 - accuracy: 0.9968 - val_loss: 0.1591 - val_accuracy: 0.9826\n",
            "Epoch 47/100\n",
            "750/750 [==============================] - 8s 10ms/step - loss: 0.0170 - accuracy: 0.9963 - val_loss: 0.1596 - val_accuracy: 0.9828\n",
            "Epoch 48/100\n",
            "750/750 [==============================] - 7s 10ms/step - loss: 0.0163 - accuracy: 0.9963 - val_loss: 0.1691 - val_accuracy: 0.9824\n",
            "Epoch 49/100\n",
            "750/750 [==============================] - 8s 10ms/step - loss: 0.0211 - accuracy: 0.9952 - val_loss: 0.1652 - val_accuracy: 0.9823\n",
            "Epoch 50/100\n",
            "750/750 [==============================] - 8s 10ms/step - loss: 0.0141 - accuracy: 0.9965 - val_loss: 0.1484 - val_accuracy: 0.9841\n",
            "Epoch 51/100\n",
            "750/750 [==============================] - 8s 10ms/step - loss: 0.0145 - accuracy: 0.9967 - val_loss: 0.1689 - val_accuracy: 0.9826\n",
            "Epoch 52/100\n",
            "750/750 [==============================] - 8s 10ms/step - loss: 0.0192 - accuracy: 0.9958 - val_loss: 0.1733 - val_accuracy: 0.9828\n",
            "Epoch 53/100\n",
            "750/750 [==============================] - 8s 10ms/step - loss: 0.0142 - accuracy: 0.9967 - val_loss: 0.1546 - val_accuracy: 0.9830\n",
            "Epoch 54/100\n",
            "750/750 [==============================] - 8s 10ms/step - loss: 0.0153 - accuracy: 0.9966 - val_loss: 0.1854 - val_accuracy: 0.9818\n",
            "Epoch 55/100\n",
            "750/750 [==============================] - 8s 10ms/step - loss: 0.0195 - accuracy: 0.9958 - val_loss: 0.1755 - val_accuracy: 0.9835\n",
            "Epoch 56/100\n",
            "750/750 [==============================] - 8s 10ms/step - loss: 0.0168 - accuracy: 0.9965 - val_loss: 0.1717 - val_accuracy: 0.9828\n",
            "Epoch 57/100\n",
            "750/750 [==============================] - 7s 10ms/step - loss: 0.0146 - accuracy: 0.9965 - val_loss: 0.1805 - val_accuracy: 0.9822\n",
            "Epoch 58/100\n",
            "750/750 [==============================] - 8s 10ms/step - loss: 0.0157 - accuracy: 0.9965 - val_loss: 0.1800 - val_accuracy: 0.9831\n",
            "Epoch 59/100\n",
            "750/750 [==============================] - 8s 10ms/step - loss: 0.0154 - accuracy: 0.9965 - val_loss: 0.1658 - val_accuracy: 0.9825\n",
            "Epoch 60/100\n",
            "750/750 [==============================] - 8s 10ms/step - loss: 0.0177 - accuracy: 0.9965 - val_loss: 0.1572 - val_accuracy: 0.9823\n",
            "Epoch 61/100\n",
            "750/750 [==============================] - 8s 10ms/step - loss: 0.0160 - accuracy: 0.9965 - val_loss: 0.1672 - val_accuracy: 0.9828\n",
            "Epoch 62/100\n",
            "750/750 [==============================] - 8s 11ms/step - loss: 0.0147 - accuracy: 0.9964 - val_loss: 0.1510 - val_accuracy: 0.9847\n",
            "Epoch 63/100\n",
            "750/750 [==============================] - 8s 10ms/step - loss: 0.0186 - accuracy: 0.9962 - val_loss: 0.1769 - val_accuracy: 0.9831\n",
            "Epoch 64/100\n",
            "750/750 [==============================] - 8s 10ms/step - loss: 0.0163 - accuracy: 0.9963 - val_loss: 0.1685 - val_accuracy: 0.9818\n",
            "Epoch 65/100\n",
            "750/750 [==============================] - 8s 10ms/step - loss: 0.0127 - accuracy: 0.9969 - val_loss: 0.1671 - val_accuracy: 0.9837\n",
            "Epoch 66/100\n",
            "750/750 [==============================] - 8s 10ms/step - loss: 0.0184 - accuracy: 0.9964 - val_loss: 0.1842 - val_accuracy: 0.9829\n",
            "Epoch 67/100\n",
            "750/750 [==============================] - 8s 10ms/step - loss: 0.0156 - accuracy: 0.9971 - val_loss: 0.1862 - val_accuracy: 0.9826\n",
            "Epoch 68/100\n",
            "750/750 [==============================] - 8s 10ms/step - loss: 0.0174 - accuracy: 0.9963 - val_loss: 0.1778 - val_accuracy: 0.9831\n",
            "Epoch 69/100\n",
            "750/750 [==============================] - 8s 10ms/step - loss: 0.0188 - accuracy: 0.9960 - val_loss: 0.1844 - val_accuracy: 0.9827\n",
            "Epoch 70/100\n",
            "750/750 [==============================] - 7s 10ms/step - loss: 0.0150 - accuracy: 0.9966 - val_loss: 0.1962 - val_accuracy: 0.9831\n",
            "Epoch 71/100\n",
            "750/750 [==============================] - 7s 10ms/step - loss: 0.0181 - accuracy: 0.9964 - val_loss: 0.1804 - val_accuracy: 0.9818\n",
            "Epoch 72/100\n",
            "750/750 [==============================] - 7s 10ms/step - loss: 0.0188 - accuracy: 0.9963 - val_loss: 0.2020 - val_accuracy: 0.9817\n",
            "Epoch 73/100\n",
            "750/750 [==============================] - 7s 10ms/step - loss: 0.0144 - accuracy: 0.9972 - val_loss: 0.1927 - val_accuracy: 0.9813\n",
            "Epoch 74/100\n",
            "750/750 [==============================] - 7s 10ms/step - loss: 0.0205 - accuracy: 0.9964 - val_loss: 0.1927 - val_accuracy: 0.9826\n",
            "Epoch 75/100\n",
            "750/750 [==============================] - 7s 10ms/step - loss: 0.0121 - accuracy: 0.9972 - val_loss: 0.2063 - val_accuracy: 0.9841\n",
            "Epoch 76/100\n",
            "750/750 [==============================] - 7s 10ms/step - loss: 0.0174 - accuracy: 0.9966 - val_loss: 0.1847 - val_accuracy: 0.9837\n",
            "Epoch 77/100\n",
            "750/750 [==============================] - 7s 10ms/step - loss: 0.0165 - accuracy: 0.9963 - val_loss: 0.1981 - val_accuracy: 0.9843\n",
            "Epoch 78/100\n",
            "750/750 [==============================] - 7s 10ms/step - loss: 0.0194 - accuracy: 0.9962 - val_loss: 0.1842 - val_accuracy: 0.9833\n",
            "Epoch 79/100\n",
            "750/750 [==============================] - 7s 10ms/step - loss: 0.0126 - accuracy: 0.9973 - val_loss: 0.2043 - val_accuracy: 0.9826\n",
            "Epoch 80/100\n",
            "750/750 [==============================] - 8s 10ms/step - loss: 0.0186 - accuracy: 0.9962 - val_loss: 0.1846 - val_accuracy: 0.9841\n",
            "Epoch 81/100\n",
            "750/750 [==============================] - 8s 10ms/step - loss: 0.0187 - accuracy: 0.9963 - val_loss: 0.2077 - val_accuracy: 0.9834\n",
            "Epoch 82/100\n",
            "750/750 [==============================] - 8s 10ms/step - loss: 0.0127 - accuracy: 0.9975 - val_loss: 0.1788 - val_accuracy: 0.9832\n",
            "Epoch 83/100\n",
            "750/750 [==============================] - 8s 10ms/step - loss: 0.0108 - accuracy: 0.9976 - val_loss: 0.2120 - val_accuracy: 0.9836\n",
            "Epoch 84/100\n",
            "750/750 [==============================] - 8s 10ms/step - loss: 0.0124 - accuracy: 0.9975 - val_loss: 0.2242 - val_accuracy: 0.9833\n",
            "Epoch 85/100\n",
            "750/750 [==============================] - 8s 10ms/step - loss: 0.0150 - accuracy: 0.9969 - val_loss: 0.2289 - val_accuracy: 0.9824\n",
            "Epoch 86/100\n",
            "750/750 [==============================] - 7s 10ms/step - loss: 0.0146 - accuracy: 0.9970 - val_loss: 0.2066 - val_accuracy: 0.9831\n",
            "Epoch 87/100\n",
            "750/750 [==============================] - 8s 10ms/step - loss: 0.0196 - accuracy: 0.9964 - val_loss: 0.1953 - val_accuracy: 0.9828\n",
            "Epoch 88/100\n",
            "750/750 [==============================] - 8s 10ms/step - loss: 0.0129 - accuracy: 0.9976 - val_loss: 0.2024 - val_accuracy: 0.9825\n",
            "Epoch 89/100\n",
            "750/750 [==============================] - 8s 10ms/step - loss: 0.0134 - accuracy: 0.9975 - val_loss: 0.1836 - val_accuracy: 0.9831\n",
            "Epoch 90/100\n",
            "750/750 [==============================] - 8s 10ms/step - loss: 0.0175 - accuracy: 0.9968 - val_loss: 0.2003 - val_accuracy: 0.9833\n",
            "Epoch 91/100\n",
            "750/750 [==============================] - 8s 10ms/step - loss: 0.0154 - accuracy: 0.9969 - val_loss: 0.2085 - val_accuracy: 0.9830\n",
            "Epoch 92/100\n",
            "750/750 [==============================] - 8s 10ms/step - loss: 0.0135 - accuracy: 0.9971 - val_loss: 0.1739 - val_accuracy: 0.9843\n",
            "Epoch 93/100\n",
            "750/750 [==============================] - 8s 10ms/step - loss: 0.0170 - accuracy: 0.9971 - val_loss: 0.2009 - val_accuracy: 0.9827\n",
            "Epoch 94/100\n",
            "750/750 [==============================] - 8s 11ms/step - loss: 0.0190 - accuracy: 0.9968 - val_loss: 0.1769 - val_accuracy: 0.9839\n",
            "Epoch 95/100\n",
            "750/750 [==============================] - 8s 11ms/step - loss: 0.0154 - accuracy: 0.9970 - val_loss: 0.1995 - val_accuracy: 0.9816\n",
            "Epoch 96/100\n",
            "750/750 [==============================] - 8s 11ms/step - loss: 0.0131 - accuracy: 0.9970 - val_loss: 0.2099 - val_accuracy: 0.9825\n",
            "Epoch 97/100\n",
            "750/750 [==============================] - 8s 10ms/step - loss: 0.0156 - accuracy: 0.9970 - val_loss: 0.1921 - val_accuracy: 0.9837\n",
            "Epoch 98/100\n",
            "750/750 [==============================] - 8s 10ms/step - loss: 0.0117 - accuracy: 0.9981 - val_loss: 0.2012 - val_accuracy: 0.9825\n",
            "Epoch 99/100\n",
            "750/750 [==============================] - 8s 10ms/step - loss: 0.0164 - accuracy: 0.9971 - val_loss: 0.2279 - val_accuracy: 0.9827\n",
            "Epoch 100/100\n",
            "750/750 [==============================] - 8s 10ms/step - loss: 0.0176 - accuracy: 0.9971 - val_loss: 0.2210 - val_accuracy: 0.9824\n"
          ],
          "name": "stdout"
        }
      ]
    },
    {
      "cell_type": "code",
      "metadata": {
        "id": "F_ig9m4OQIgP",
        "colab_type": "code",
        "colab": {
          "base_uri": "https://localhost:8080/",
          "height": 51
        },
        "outputId": "ff68847a-0780-435d-aa32-fd5a815e7d5d"
      },
      "source": [
        "model_3.evaluate(X_test, Y_test)"
      ],
      "execution_count": 46,
      "outputs": [
        {
          "output_type": "stream",
          "text": [
            "313/313 [==============================] - 1s 2ms/step - loss: 0.2051 - accuracy: 0.9826\n"
          ],
          "name": "stdout"
        },
        {
          "output_type": "execute_result",
          "data": {
            "text/plain": [
              "[0.20514298975467682, 0.9825999736785889]"
            ]
          },
          "metadata": {
            "tags": []
          },
          "execution_count": 46
        }
      ]
    },
    {
      "cell_type": "code",
      "metadata": {
        "id": "uiHoZjXVRMOA",
        "colab_type": "code",
        "colab": {
          "base_uri": "https://localhost:8080/",
          "height": 68
        },
        "outputId": "424693d4-d78a-485b-837d-f2cc38bd3252"
      },
      "source": [
        "model_3.predict(test_img)"
      ],
      "execution_count": 48,
      "outputs": [
        {
          "output_type": "execute_result",
          "data": {
            "text/plain": [
              "array([[3.7402359e-31, 1.4415915e-26, 2.1032336e-17, 6.0512022e-26,\n",
              "        1.0000000e+00, 1.2758646e-26, 9.3768066e-38, 1.4937059e-23,\n",
              "        2.6164718e-29, 1.2476656e-17]], dtype=float32)"
            ]
          },
          "metadata": {
            "tags": []
          },
          "execution_count": 48
        }
      ]
    },
    {
      "cell_type": "code",
      "metadata": {
        "id": "UnFIg1EMRSk8",
        "colab_type": "code",
        "colab": {}
      },
      "source": [
        ""
      ],
      "execution_count": 0,
      "outputs": []
    }
  ]
}