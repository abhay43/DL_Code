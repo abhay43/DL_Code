{
  "nbformat": 4,
  "nbformat_minor": 0,
  "metadata": {
    "colab": {
      "name": "Overview of Colaboratory Features",
      "provenance": [],
      "collapsed_sections": [],
      "toc_visible": true,
      "include_colab_link": true
    },
    "kernelspec": {
      "display_name": "Python 3",
      "name": "python3"
    }
  },
  "cells": [
    {
      "cell_type": "markdown",
      "metadata": {
        "id": "view-in-github",
        "colab_type": "text"
      },
      "source": [
        "<a href=\"https://colab.research.google.com/github/abhay43/ML_Code/blob/master/DL-%20Auto%20Decoder%20using%20multi-layer%20in%20mnist%20Dataset%20using%20adam%20and%20adamax.ipynb\" target=\"_parent\"><img src=\"https://colab.research.google.com/assets/colab-badge.svg\" alt=\"Open In Colab\"/></a>"
      ]
    },
    {
      "cell_type": "code",
      "metadata": {
        "id": "r9w3jeKb4pX8",
        "colab_type": "code",
        "colab": {}
      },
      "source": [
        "# Auto Encoder - Vanilla \n",
        "# Vanilla encoders also called single layer encoders. They are used to perform the single layer processesing\n"
      ],
      "execution_count": 1,
      "outputs": []
    },
    {
      "cell_type": "code",
      "metadata": {
        "id": "-6V31Fmx5Lmu",
        "colab_type": "code",
        "colab": {}
      },
      "source": [
        "import tensorflow as tf\n",
        "from tensorflow.keras.layers import Input, Dense\n",
        "from tensorflow.keras.models import Model "
      ],
      "execution_count": 22,
      "outputs": []
    },
    {
      "cell_type": "markdown",
      "metadata": {
        "id": "BZcIGPlkCQm_",
        "colab_type": "text"
      },
      "source": [
        ""
      ]
    },
    {
      "cell_type": "code",
      "metadata": {
        "id": "N-4xulcK7Yf8",
        "colab_type": "code",
        "colab": {}
      },
      "source": [
        "## Creating the encoder part --\n",
        "\n",
        "Input_layer = Input(shape = (784))\n",
        "encoder1 = Dense(128, activation='relu' )(Input_layer)\n",
        "encoder2 = Dense(64, activation='relu' )(encoder1)\n",
        "encoder3 = Dense(32, activation='relu' )(encoder2)\n",
        "###### This is the encription part\n",
        "\n",
        "\n",
        "decoder1 = Dense(64 , activation='relu')(encoder3)\n",
        "decoder2 = Dense(128 , activation='relu')(decoder1)\n",
        "decoder3 = Dense(784 , activation='sigmoid')(decoder2)"
      ],
      "execution_count": 100,
      "outputs": []
    },
    {
      "cell_type": "code",
      "metadata": {
        "id": "2T9R63UYDhSU",
        "colab_type": "code",
        "colab": {}
      },
      "source": [
        "model_0 = Model(Input_layer, decoder3)"
      ],
      "execution_count": 101,
      "outputs": []
    },
    {
      "cell_type": "code",
      "metadata": {
        "id": "M8QMWZitGh4A",
        "colab_type": "code",
        "colab": {
          "base_uri": "https://localhost:8080/",
          "height": 391
        },
        "outputId": "367a4251-8acf-47bf-d3bd-16da3359c73f"
      },
      "source": [
        "model_0.summary()"
      ],
      "execution_count": 102,
      "outputs": [
        {
          "output_type": "stream",
          "text": [
            "Model: \"model_21\"\n",
            "_________________________________________________________________\n",
            "Layer (type)                 Output Shape              Param #   \n",
            "=================================================================\n",
            "input_17 (InputLayer)        [(None, 784)]             0         \n",
            "_________________________________________________________________\n",
            "dense_26 (Dense)             (None, 128)               100480    \n",
            "_________________________________________________________________\n",
            "dense_27 (Dense)             (None, 64)                8256      \n",
            "_________________________________________________________________\n",
            "dense_28 (Dense)             (None, 32)                2080      \n",
            "_________________________________________________________________\n",
            "dense_29 (Dense)             (None, 64)                2112      \n",
            "_________________________________________________________________\n",
            "dense_30 (Dense)             (None, 128)               8320      \n",
            "_________________________________________________________________\n",
            "dense_31 (Dense)             (None, 784)               101136    \n",
            "=================================================================\n",
            "Total params: 222,384\n",
            "Trainable params: 222,384\n",
            "Non-trainable params: 0\n",
            "_________________________________________________________________\n"
          ],
          "name": "stdout"
        }
      ]
    },
    {
      "cell_type": "code",
      "metadata": {
        "id": "AicpGvjtKLsd",
        "colab_type": "code",
        "colab": {
          "base_uri": "https://localhost:8080/",
          "height": 289
        },
        "outputId": "d00afd31-34ee-4323-923b-1693b9efe3a1"
      },
      "source": [
        "encoder_model_0 = Model(Input_layer, encoder3)\n",
        "encoder_model_0.summary()\n"
      ],
      "execution_count": 103,
      "outputs": [
        {
          "output_type": "stream",
          "text": [
            "Model: \"model_22\"\n",
            "_________________________________________________________________\n",
            "Layer (type)                 Output Shape              Param #   \n",
            "=================================================================\n",
            "input_17 (InputLayer)        [(None, 784)]             0         \n",
            "_________________________________________________________________\n",
            "dense_26 (Dense)             (None, 128)               100480    \n",
            "_________________________________________________________________\n",
            "dense_27 (Dense)             (None, 64)                8256      \n",
            "_________________________________________________________________\n",
            "dense_28 (Dense)             (None, 32)                2080      \n",
            "=================================================================\n",
            "Total params: 110,816\n",
            "Trainable params: 110,816\n",
            "Non-trainable params: 0\n",
            "_________________________________________________________________\n"
          ],
          "name": "stdout"
        }
      ]
    },
    {
      "cell_type": "code",
      "metadata": {
        "id": "wrxMDr1FbUyP",
        "colab_type": "code",
        "colab": {
          "base_uri": "https://localhost:8080/",
          "height": 34
        },
        "outputId": "64a48c3d-d830-4880-ddec-29073770079d"
      },
      "source": [
        "decoder_Input_layer2.shape"
      ],
      "execution_count": 104,
      "outputs": [
        {
          "output_type": "execute_result",
          "data": {
            "text/plain": [
              "TensorShape([None, 64])"
            ]
          },
          "metadata": {
            "tags": []
          },
          "execution_count": 104
        }
      ]
    },
    {
      "cell_type": "code",
      "metadata": {
        "id": "OFrdLPXG6YUF",
        "colab_type": "code",
        "colab": {
          "base_uri": "https://localhost:8080/",
          "height": 289
        },
        "outputId": "bca1630f-c318-4e3f-9e46-f79988f05ae5"
      },
      "source": [
        "decoder_Input_layer = Input(shape = (32))\n",
        "decoder_Input_layer2 = model_0.layers[-3](decoder_Input_layer)\n",
        "decoder_Input_layer3 = model_0.layers[-2](decoder_Input_layer2)\n",
        "decoder_output_layer = model_0.layers[-1](decoder_Input_layer3)\n",
        "decoder_model_0 = Model(decoder_Input_layer , decoder_output_layer)\n",
        "decoder_model_0.summary()"
      ],
      "execution_count": 105,
      "outputs": [
        {
          "output_type": "stream",
          "text": [
            "Model: \"model_23\"\n",
            "_________________________________________________________________\n",
            "Layer (type)                 Output Shape              Param #   \n",
            "=================================================================\n",
            "input_18 (InputLayer)        [(None, 32)]              0         \n",
            "_________________________________________________________________\n",
            "dense_29 (Dense)             (None, 64)                2112      \n",
            "_________________________________________________________________\n",
            "dense_30 (Dense)             (None, 128)               8320      \n",
            "_________________________________________________________________\n",
            "dense_31 (Dense)             (None, 784)               101136    \n",
            "=================================================================\n",
            "Total params: 111,568\n",
            "Trainable params: 111,568\n",
            "Non-trainable params: 0\n",
            "_________________________________________________________________\n"
          ],
          "name": "stdout"
        }
      ]
    },
    {
      "cell_type": "code",
      "metadata": {
        "id": "dPPPC5hM7UkT",
        "colab_type": "code",
        "colab": {}
      },
      "source": [
        "(train_data, _), (test_data,_) = tf.keras.datasets.mnist.load_data()"
      ],
      "execution_count": 106,
      "outputs": []
    },
    {
      "cell_type": "code",
      "metadata": {
        "id": "8JCljJjCB5_n",
        "colab_type": "code",
        "colab": {}
      },
      "source": [
        "# Data Preprocessing - converting the data form 255 to 0,1 form \n",
        "train_data = train_data.astype('float32') / 255\n",
        "test_data = test_data.astype('float32') / 255\n",
        "train_data = train_data.reshape(len(train_data), 784)\n",
        "test_data = test_data.reshape(len(test_data), 784)"
      ],
      "execution_count": 107,
      "outputs": []
    },
    {
      "cell_type": "code",
      "metadata": {
        "id": "qFSH1Ktl8Mac",
        "colab_type": "code",
        "colab": {}
      },
      "source": [
        "#we only need to train the main model"
      ],
      "execution_count": 108,
      "outputs": []
    },
    {
      "cell_type": "code",
      "metadata": {
        "id": "KbNN5yPSJ4Jl",
        "colab_type": "code",
        "colab": {}
      },
      "source": [
        "model_0.compile(\n",
        "    optimizer = tf.keras.optimizers.Adam(lr = 0.001),\n",
        "    loss=['binary_crossentropy']\n",
        ")"
      ],
      "execution_count": 115,
      "outputs": []
    },
    {
      "cell_type": "code",
      "metadata": {
        "id": "OHHwKA3UNl6b",
        "colab_type": "code",
        "colab": {
          "base_uri": "https://localhost:8080/",
          "height": 1000
        },
        "outputId": "8bbdfa60-2335-4403-8b94-3242c59cc1c3"
      },
      "source": [
        "model_0.fit(\n",
        "    train_data,\n",
        "    train_data,\n",
        "    batch_size = 250,\n",
        "    epochs = 50,\n",
        "    verbose = 1,\n",
        "    validation_data = (test_data, test_data),\n",
        "    shuffle= True\n",
        ")"
      ],
      "execution_count": 116,
      "outputs": [
        {
          "output_type": "stream",
          "text": [
            "Epoch 1/50\n",
            "240/240 [==============================] - 3s 14ms/step - loss: 0.0911 - val_loss: 0.0877\n",
            "Epoch 2/50\n",
            "240/240 [==============================] - 3s 14ms/step - loss: 0.0885 - val_loss: 0.0877\n",
            "Epoch 3/50\n",
            "240/240 [==============================] - 3s 14ms/step - loss: 0.0884 - val_loss: 0.0875\n",
            "Epoch 4/50\n",
            "240/240 [==============================] - 3s 14ms/step - loss: 0.0882 - val_loss: 0.0874\n",
            "Epoch 5/50\n",
            "240/240 [==============================] - 3s 14ms/step - loss: 0.0878 - val_loss: 0.0871\n",
            "Epoch 6/50\n",
            "240/240 [==============================] - 3s 14ms/step - loss: 0.0876 - val_loss: 0.0866\n",
            "Epoch 7/50\n",
            "240/240 [==============================] - 3s 14ms/step - loss: 0.0873 - val_loss: 0.0866\n",
            "Epoch 8/50\n",
            "240/240 [==============================] - 3s 14ms/step - loss: 0.0870 - val_loss: 0.0865\n",
            "Epoch 9/50\n",
            "240/240 [==============================] - 3s 14ms/step - loss: 0.0868 - val_loss: 0.0864\n",
            "Epoch 10/50\n",
            "240/240 [==============================] - 3s 14ms/step - loss: 0.0865 - val_loss: 0.0857\n",
            "Epoch 11/50\n",
            "240/240 [==============================] - 3s 14ms/step - loss: 0.0863 - val_loss: 0.0854\n",
            "Epoch 12/50\n",
            "240/240 [==============================] - 3s 14ms/step - loss: 0.0860 - val_loss: 0.0853\n",
            "Epoch 13/50\n",
            "240/240 [==============================] - 3s 14ms/step - loss: 0.0858 - val_loss: 0.0850\n",
            "Epoch 14/50\n",
            "240/240 [==============================] - 3s 14ms/step - loss: 0.0856 - val_loss: 0.0849\n",
            "Epoch 15/50\n",
            "240/240 [==============================] - 3s 14ms/step - loss: 0.0854 - val_loss: 0.0846\n",
            "Epoch 16/50\n",
            "240/240 [==============================] - 3s 14ms/step - loss: 0.0852 - val_loss: 0.0845\n",
            "Epoch 17/50\n",
            "240/240 [==============================] - 3s 14ms/step - loss: 0.0849 - val_loss: 0.0843\n",
            "Epoch 18/50\n",
            "240/240 [==============================] - 3s 14ms/step - loss: 0.0848 - val_loss: 0.0840\n",
            "Epoch 19/50\n",
            "240/240 [==============================] - 3s 14ms/step - loss: 0.0845 - val_loss: 0.0841\n",
            "Epoch 20/50\n",
            "240/240 [==============================] - 3s 14ms/step - loss: 0.0843 - val_loss: 0.0837\n",
            "Epoch 21/50\n",
            "240/240 [==============================] - 3s 14ms/step - loss: 0.0842 - val_loss: 0.0840\n",
            "Epoch 22/50\n",
            "240/240 [==============================] - 3s 14ms/step - loss: 0.0840 - val_loss: 0.0833\n",
            "Epoch 23/50\n",
            "240/240 [==============================] - 3s 14ms/step - loss: 0.0838 - val_loss: 0.0834\n",
            "Epoch 24/50\n",
            "240/240 [==============================] - 3s 14ms/step - loss: 0.0837 - val_loss: 0.0831\n",
            "Epoch 25/50\n",
            "240/240 [==============================] - 3s 14ms/step - loss: 0.0836 - val_loss: 0.0830\n",
            "Epoch 26/50\n",
            "240/240 [==============================] - 3s 14ms/step - loss: 0.0834 - val_loss: 0.0831\n",
            "Epoch 27/50\n",
            "240/240 [==============================] - 3s 14ms/step - loss: 0.0833 - val_loss: 0.0827\n",
            "Epoch 28/50\n",
            "240/240 [==============================] - 3s 14ms/step - loss: 0.0832 - val_loss: 0.0829\n",
            "Epoch 29/50\n",
            "240/240 [==============================] - 3s 14ms/step - loss: 0.0831 - val_loss: 0.0827\n",
            "Epoch 30/50\n",
            "240/240 [==============================] - 3s 14ms/step - loss: 0.0830 - val_loss: 0.0826\n",
            "Epoch 31/50\n",
            "240/240 [==============================] - 3s 14ms/step - loss: 0.0830 - val_loss: 0.0823\n",
            "Epoch 32/50\n",
            "240/240 [==============================] - 4s 15ms/step - loss: 0.0828 - val_loss: 0.0822\n",
            "Epoch 33/50\n",
            "240/240 [==============================] - 3s 14ms/step - loss: 0.0827 - val_loss: 0.0823\n",
            "Epoch 34/50\n",
            "240/240 [==============================] - 3s 14ms/step - loss: 0.0826 - val_loss: 0.0821\n",
            "Epoch 35/50\n",
            "240/240 [==============================] - 3s 14ms/step - loss: 0.0825 - val_loss: 0.0821\n",
            "Epoch 36/50\n",
            "240/240 [==============================] - 3s 14ms/step - loss: 0.0825 - val_loss: 0.0820\n",
            "Epoch 37/50\n",
            "240/240 [==============================] - 3s 14ms/step - loss: 0.0824 - val_loss: 0.0818\n",
            "Epoch 38/50\n",
            "240/240 [==============================] - 3s 14ms/step - loss: 0.0823 - val_loss: 0.0820\n",
            "Epoch 39/50\n",
            "240/240 [==============================] - 3s 14ms/step - loss: 0.0822 - val_loss: 0.0818\n",
            "Epoch 40/50\n",
            "240/240 [==============================] - 3s 14ms/step - loss: 0.0821 - val_loss: 0.0817\n",
            "Epoch 41/50\n",
            "240/240 [==============================] - 3s 14ms/step - loss: 0.0821 - val_loss: 0.0817\n",
            "Epoch 42/50\n",
            "240/240 [==============================] - 3s 14ms/step - loss: 0.0820 - val_loss: 0.0816\n",
            "Epoch 43/50\n",
            "240/240 [==============================] - 3s 14ms/step - loss: 0.0819 - val_loss: 0.0818\n",
            "Epoch 44/50\n",
            "240/240 [==============================] - 3s 14ms/step - loss: 0.0818 - val_loss: 0.0815\n",
            "Epoch 45/50\n",
            "240/240 [==============================] - 3s 14ms/step - loss: 0.0818 - val_loss: 0.0812\n",
            "Epoch 46/50\n",
            "240/240 [==============================] - 3s 14ms/step - loss: 0.0817 - val_loss: 0.0813\n",
            "Epoch 47/50\n",
            "240/240 [==============================] - 3s 14ms/step - loss: 0.0816 - val_loss: 0.0812\n",
            "Epoch 48/50\n",
            "240/240 [==============================] - 3s 14ms/step - loss: 0.0815 - val_loss: 0.0814\n",
            "Epoch 49/50\n",
            "240/240 [==============================] - 3s 14ms/step - loss: 0.0814 - val_loss: 0.0811\n",
            "Epoch 50/50\n",
            "240/240 [==============================] - 3s 14ms/step - loss: 0.0814 - val_loss: 0.0811\n"
          ],
          "name": "stdout"
        },
        {
          "output_type": "execute_result",
          "data": {
            "text/plain": [
              "<tensorflow.python.keras.callbacks.History at 0x7f7ed2ddf2b0>"
            ]
          },
          "metadata": {
            "tags": []
          },
          "execution_count": 116
        }
      ]
    },
    {
      "cell_type": "code",
      "metadata": {
        "id": "rh3lfoDAORqy",
        "colab_type": "code",
        "colab": {}
      },
      "source": [
        "encoded_img  = encoder_model_0.predict(test_data)"
      ],
      "execution_count": 117,
      "outputs": []
    },
    {
      "cell_type": "code",
      "metadata": {
        "id": "Ko_wqVD0TlNE",
        "colab_type": "code",
        "colab": {}
      },
      "source": [
        "decoded_img = decoder_model_0.predict(encoded_img)\n"
      ],
      "execution_count": 118,
      "outputs": []
    },
    {
      "cell_type": "code",
      "metadata": {
        "id": "Db7aNYTCT3Zg",
        "colab_type": "code",
        "colab": {
          "base_uri": "https://localhost:8080/",
          "height": 209
        },
        "outputId": "30a72eb4-c488-466b-804d-a82bc440fddd"
      },
      "source": [
        "## This is how it is shwoing when using Vanilla autoencoder"
      ],
      "execution_count": 91,
      "outputs": [
        {
          "output_type": "display_data",
          "data": {
            "image/png": "[encoded data removed]",
            "text/plain": [
              "<Figure size 1440x288 with 20 Axes>"
            ]
          },
          "metadata": {
            "tags": [],
            "needs_background": "light"
          }
        }
      ]
    },
    {
      "cell_type": "code",
      "metadata": {
        "id": "lrdGz0ZUUDF0",
        "colab_type": "code",
        "colab": {
          "base_uri": "https://localhost:8080/",
          "height": 209
        },
        "outputId": "b80c8652-e52d-4159-fda9-551dde699c51"
      },
      "source": [
        "## This is how it is shwoing when using multi layer autoencoder by adamax as optimizer"
      ],
      "execution_count": 114,
      "outputs": [
        {
          "output_type": "display_data",
          "data": {
            "image/png": "[encoded data removed]",
            "text/plain": [
              "<Figure size 1440x288 with 20 Axes>"
            ]
          },
          "metadata": {
            "tags": [],
            "needs_background": "light"
          }
        }
      ]
    },
    {
      "cell_type": "code",
      "metadata": {
        "id": "Ffhu5mxGhw26",
        "colab_type": "code",
        "colab": {}
      },
      "source": [
        "## This is how it is shwoing when using multi layer autoencoder by adam as optimizer"
      ],
      "execution_count": null,
      "outputs": []
    },
    {
      "cell_type": "code",
      "metadata": {
        "id": "_lvu9KlTckuY",
        "colab_type": "code",
        "colab": {
          "base_uri": "https://localhost:8080/",
          "height": 209
        },
        "outputId": "a39911c2-cfcd-487a-e737-51cfbcd8015d"
      },
      "source": [
        "import matplotlib.pyplot as plt\n",
        "n = 10\n",
        "plt.figure(figsize = (20,4))\n",
        "for i in range(n):\n",
        "  ax = plt.subplot(2, n , i+1)\n",
        "  plt.imshow(test_data[i].reshape(28,28))\n",
        "  plt.gray()\n",
        "  ax.get_xaxis().set_visible(False)\n",
        "  ax.get_yaxis().set_visible(False)\n",
        "\n",
        "  ax = plt.subplot(2, n , i+1 +n)\n",
        "  plt.imshow(decoded_img[i].reshape(28,28))\n",
        "  plt.gray()\n",
        "  ax.get_xaxis().set_visible(False)\n",
        "  ax.get_yaxis().set_visible(False)\n",
        "plt.show()"
      ],
      "execution_count": 119,
      "outputs": [
        {
          "output_type": "display_data",
          "data": {
            "image/png": "[encoded data removed]",
            "text/plain": [
              "<Figure size 1440x288 with 20 Axes>"
            ]
          },
          "metadata": {
            "tags": [],
            "needs_background": "light"
          }
        }
      ]
    },
    {
      "cell_type": "code",
      "metadata": {
        "id": "ZsyQ1WpdfUbq",
        "colab_type": "code",
        "colab": {}
      },
      "source": [
        ""
      ],
      "execution_count": null,
      "outputs": []
    }
  ]
}