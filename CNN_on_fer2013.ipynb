{
  "nbformat": 4,
  "nbformat_minor": 0,
  "metadata": {
    "colab": {
      "name": "Overview of Colaboratory Features",
      "provenance": [],
      "collapsed_sections": [],
      "toc_visible": true,
      "include_colab_link": true
    },
    "kernelspec": {
      "display_name": "Python 3",
      "name": "python3"
    }
  },
  "cells": [
    {
      "cell_type": "markdown",
      "metadata": {
        "id": "view-in-github",
        "colab_type": "text"
      },
      "source": [
        "<a href=\"https://colab.research.google.com/github/abhay43/ML_Code/blob/master/CNN_on_fer2013.ipynb\" target=\"_parent\"><img src=\"https://colab.research.google.com/assets/colab-badge.svg\" alt=\"Open In Colab\"/></a>"
      ]
    },
    {
      "cell_type": "code",
      "metadata": {
        "id": "iC5dHfZtqvDV",
        "colab_type": "code",
        "colab": {
          "base_uri": "https://localhost:8080/",
          "height": 122
        },
        "outputId": "87d5b156-1a57-4ec3-f146-b19188099bc5"
      },
      "source": [
        "from google.colab import drive\n",
        "drive.mount('/content/drive')"
      ],
      "execution_count": 2,
      "outputs": [
        {
          "output_type": "stream",
          "text": [
            "Go to this URL in a browser: https://accounts.google.com/o/oauth2/auth?client_id=947318989803-6bn6qk8qdgf4n4g3pfee6491hc0brc4i.apps.googleusercontent.com&redirect_uri=urn%3aietf%3awg%3aoauth%3a2.0%3aoob&response_type=code&scope=email%20https%3a%2f%2fwww.googleapis.com%2fauth%2fdocs.test%20https%3a%2f%2fwww.googleapis.com%2fauth%2fdrive%20https%3a%2f%2fwww.googleapis.com%2fauth%2fdrive.photos.readonly%20https%3a%2f%2fwww.googleapis.com%2fauth%2fpeopleapi.readonly\n",
            "\n",
            "Enter your authorization code:\n",
            "··········\n",
            "Mounted at /content/drive\n"
          ],
          "name": "stdout"
        }
      ]
    },
    {
      "cell_type": "code",
      "metadata": {
        "id": "MIM_G-4WqwRz",
        "colab_type": "code",
        "colab": {}
      },
      "source": [
        "from zipfile import ZipFile"
      ],
      "execution_count": 3,
      "outputs": []
    },
    {
      "cell_type": "code",
      "metadata": {
        "id": "Pv6WNGGQrH81",
        "colab_type": "code",
        "colab": {
          "base_uri": "https://localhost:8080/",
          "height": 85
        },
        "outputId": "771fa0a3-7df6-4277-8882-ab22fe913c2e"
      },
      "source": [
        "file_name = '/content/drive/My Drive/Faltu/28577_36420_compressed_fer2013.csv.zip'\n",
        "with ZipFile(file_name, 'r') as zip: \n",
        "    # printing all the contents of the zip file \n",
        "    zip.printdir() \n",
        "  \n",
        "    # extracting all the files \n",
        "    print('Extracting all the files now...') \n",
        "    zip.extractall() \n",
        "    print('Done!') "
      ],
      "execution_count": 4,
      "outputs": [
        {
          "output_type": "stream",
          "text": [
            "File Name                                             Modified             Size\n",
            "fer2013.csv                                    2019-10-01 04:15:22    301072766\n",
            "Extracting all the files now...\n",
            "Done!\n"
          ],
          "name": "stdout"
        }
      ]
    },
    {
      "cell_type": "code",
      "metadata": {
        "id": "H5_NuBEArwjI",
        "colab_type": "code",
        "colab": {
          "base_uri": "https://localhost:8080/",
          "height": 204
        },
        "outputId": "ab6690cb-ecfd-46db-846b-c10331efd099"
      },
      "source": [
        "import pandas as pd\n",
        "import numpy as np\n",
        "\n",
        "data = pd.read_csv('/content/fer2013.csv')\n",
        "data.head()"
      ],
      "execution_count": 5,
      "outputs": [
        {
          "output_type": "execute_result",
          "data": {
            "text/html": [
              "<div>\n",
              "<style scoped>\n",
              "    .dataframe tbody tr th:only-of-type {\n",
              "        vertical-align: middle;\n",
              "    }\n",
              "\n",
              "    .dataframe tbody tr th {\n",
              "        vertical-align: top;\n",
              "    }\n",
              "\n",
              "    .dataframe thead th {\n",
              "        text-align: right;\n",
              "    }\n",
              "</style>\n",
              "<table border=\"1\" class=\"dataframe\">\n",
              "  <thead>\n",
              "    <tr style=\"text-align: right;\">\n",
              "      <th></th>\n",
              "      <th>emotion</th>\n",
              "      <th>pixels</th>\n",
              "      <th>Usage</th>\n",
              "    </tr>\n",
              "  </thead>\n",
              "  <tbody>\n",
              "    <tr>\n",
              "      <th>0</th>\n",
              "      <td>0</td>\n",
              "      <td>70 80 82 72 58 58 60 63 54 58 60 48 89 115 121...</td>\n",
              "      <td>Training</td>\n",
              "    </tr>\n",
              "    <tr>\n",
              "      <th>1</th>\n",
              "      <td>0</td>\n",
              "      <td>151 150 147 155 148 133 111 140 170 174 182 15...</td>\n",
              "      <td>Training</td>\n",
              "    </tr>\n",
              "    <tr>\n",
              "      <th>2</th>\n",
              "      <td>2</td>\n",
              "      <td>231 212 156 164 174 138 161 173 182 200 106 38...</td>\n",
              "      <td>Training</td>\n",
              "    </tr>\n",
              "    <tr>\n",
              "      <th>3</th>\n",
              "      <td>4</td>\n",
              "      <td>24 32 36 30 32 23 19 20 30 41 21 22 32 34 21 1...</td>\n",
              "      <td>Training</td>\n",
              "    </tr>\n",
              "    <tr>\n",
              "      <th>4</th>\n",
              "      <td>6</td>\n",
              "      <td>4 0 0 0 0 0 0 0 0 0 0 0 3 15 23 28 48 50 58 84...</td>\n",
              "      <td>Training</td>\n",
              "    </tr>\n",
              "  </tbody>\n",
              "</table>\n",
              "</div>"
            ],
            "text/plain": [
              "   emotion                                             pixels     Usage\n",
              "0        0  70 80 82 72 58 58 60 63 54 58 60 48 89 115 121...  Training\n",
              "1        0  151 150 147 155 148 133 111 140 170 174 182 15...  Training\n",
              "2        2  231 212 156 164 174 138 161 173 182 200 106 38...  Training\n",
              "3        4  24 32 36 30 32 23 19 20 30 41 21 22 32 34 21 1...  Training\n",
              "4        6  4 0 0 0 0 0 0 0 0 0 0 0 3 15 23 28 48 50 58 84...  Training"
            ]
          },
          "metadata": {
            "tags": []
          },
          "execution_count": 5
        }
      ]
    },
    {
      "cell_type": "code",
      "metadata": {
        "id": "q76EWEzguGDt",
        "colab_type": "code",
        "colab": {}
      },
      "source": [
        "import os\n",
        "import cv2"
      ],
      "execution_count": 6,
      "outputs": []
    },
    {
      "cell_type": "code",
      "metadata": {
        "id": "cx8FfanMr_ZA",
        "colab_type": "code",
        "colab": {}
      },
      "source": [
        "def save_fer_img():\n",
        "  for index,row in data.iterrows():\n",
        "    pixels=np.asarray(list(row['pixels'].split(' ')),dtype=np.uint8)\n",
        "    img=pixels.reshape((48,48))\n",
        "    if(row['emotion'] == 6 and row['Usage'] != 'Training'):\n",
        "      pathname=os.path.join('/content/test/Neutral/',str(index)+'.jpg')\n",
        "      cv2.imwrite(pathname,img)"
      ],
      "execution_count": 44,
      "outputs": []
    },
    {
      "cell_type": "code",
      "metadata": {
        "id": "69F1ISxtucWX",
        "colab_type": "code",
        "colab": {}
      },
      "source": [
        "save_fer_img()"
      ],
      "execution_count": 45,
      "outputs": []
    },
    {
      "cell_type": "code",
      "metadata": {
        "id": "rRt3nr9pwC23",
        "colab_type": "code",
        "colab": {}
      },
      "source": [
        "#def save_fer_img():\n",
        "  for index,row in data.iterrows():\n",
        "    pixels=np.asarray(list(row['pixels'].split(' ')),dtype=np.uint8)\n",
        "    img=pixels.reshape((48,48))\n",
        "    if(row['emotion'] == 0 and row['Usage'] == 'Training'):\n",
        "      pathname=os.path.join('/content/training/Angry/',str(index)+'.jpg')\n",
        "      cv2.imwrite(pathname,img)\n",
        "    elf(row['emotion'] == 1 and row['Usage'] == 'Training'):\n",
        "      pathname=os.path.join('/content/training/Disgust/',str(index)+'.jpg')\n",
        "      cv2.imwrite(pathname,img)\n",
        "    elif(row['emotion'] == 2 and row['Usage'] == 'Training'):\n",
        "      pathname=os.path.join('/content/training/Fear/',str(index)+'.jpg')\n",
        "      cv2.imwrite(pathname,img)\n",
        "    elif(row['emotion'] == 3 and row['Usage'] == 'Training'):\n",
        "      pathname=os.path.join('/content/training/Happy/',str(index)+'.jpg')\n",
        "      cv2.imwrite(pathname,img)\n",
        "    elif(row['emotion'] == 4 and row['Usage'] == 'Training'):\n",
        "      pathname=os.path.join('/content/training/Sad/',str(index)+'.jpg')\n",
        "      cv2.imwrite(pathname,img)\n",
        "    elif(row['emotion'] == 5 and row['Usage'] == 'Training'):\n",
        "      pathname=os.path.join('/content/training/Surprise/',str(index)+'.jpg')\n",
        "      cv2.imwrite(pathname,img)\n",
        "    elif(row['emotion'] == 5 and row['Usage'] == 'Training'):\n",
        "      pathname=os.path.join('/content/training/Neutral/',str(index)+'.jpg')\n",
        "      cv2.imwrite(pathname,img)\n",
        "\n",
        "    elif(row['emotion'] == 0 and row['Usage'] != 'Training'):\n",
        "      pathname=os.path.join('/content/test/Angry/',str(index)+'.jpg')\n",
        "      cv2.imwrite(pathname,img)\n",
        "    elif(row['emotion'] == 1 and row['Usage'] != 'Training'):\n",
        "      pathname=os.path.join('/content/test/Disgust/',str(index)+'.jpg')\n",
        "      cv2.imwrite(pathname,img)\n",
        "    elif(row['emotion'] == 2 and row['Usage'] != 'Training'):\n",
        "      pathname=os.path.join('/content/test/Fear/',str(index)+'.jpg')\n",
        "      cv2.imwrite(pathname,img)\n",
        "    elif(row['emotion'] == 3 and row['Usage'] != 'Training'):\n",
        "      pathname=os.path.join('/content/test/Happy/',str(index)+'.jpg')\n",
        "      cv2.imwrite(pathname,img)\n",
        "    elif(row['emotion'] == 4 and row['Usage'] != 'Training'):\n",
        "      pathname=os.path.join('/content/test/Sad/',str(index)+'.jpg')\n",
        "      cv2.imwrite(pathname,img)\n",
        "    elif(row['emotion'] == 5 and row['Usage'] != 'Training'):\n",
        "      pathname=os.path.join('/content/test/Surprise/',str(index)+'.jpg')\n",
        "      cv2.imwrite(pathname,img)\n",
        "    elif(row['emotion'] == 6 and row['Usage'] != 'Training'):\n",
        "      pathname=os.path.join('/content/test/Neutral/',str(index)+'.jpg')\n",
        "      cv2.imwrite(pathname,img)"
      ],
      "execution_count": null,
      "outputs": []
    },
    {
      "cell_type": "code",
      "metadata": {
        "id": "3dfVgBXN0Kzk",
        "colab_type": "code",
        "colab": {}
      },
      "source": [
        "import tensorflow as tf\n",
        "from tensorflow.keras.models import Sequential\n",
        "from tensorflow.keras.layers import Conv2D, Activation, Flatten, ReLU, Dropout, MaxPooling2D, Dense\n",
        "from tensorflow.keras.preprocessing import image\n",
        "from tensorflow.keras.preprocessing.image import ImageDataGenerator\n"
      ],
      "execution_count": 55,
      "outputs": []
    },
    {
      "cell_type": "code",
      "metadata": {
        "id": "6Ss611aM1R8w",
        "colab_type": "code",
        "colab": {}
      },
      "source": [
        "epochs = 100\n",
        "batchsize = 20\n",
        "training_samples = 100\n",
        "test_samples = 100\n",
        "train_data_dir=r\"/content/training\"\n",
        "test_data_dir=r\"/content/test\"\n",
        "img_weight, img_height =48, 48 \n",
        "\n",
        "## We need to set the input_shape for the model as it is used in the CNN\n",
        "import tensorflow.keras.backend as k\n",
        "if k.image_data_format()=='channels_first': \n",
        "    input_shape=(3, img_weight, img_height)\n",
        "else:\n",
        "    input_shape=(img_weight,img_height,3)"
      ],
      "execution_count": 74,
      "outputs": []
    },
    {
      "cell_type": "code",
      "metadata": {
        "id": "tsT41Saz2s3J",
        "colab_type": "code",
        "colab": {
          "base_uri": "https://localhost:8080/",
          "height": 51
        },
        "outputId": "cb74f4c1-f952-4a7a-db18-0d427c1c9ad0"
      },
      "source": [
        "#### Data Preprocessing-- \n",
        "train_datagen = ImageDataGenerator(zoom_range=0.2,rescale=1./255, horizontal_flip=True, shear_range=0.2 )\n",
        "test_datagen = ImageDataGenerator(rescale=1./255)\n",
        "train_data_gen = train_datagen.flow_from_directory(train_data_dir, target_size=(img_weight, img_height), classes=['Angry','Disgust','Fear','Happy','Sad','Surprise','Neutral'], batch_size=batchsize, class_mode='categorical')\n",
        "test_data_gen = train_datagen.flow_from_directory(test_data_dir, target_size=(img_weight, img_height), batch_size=batchsize, class_mode='categorical', classes=['Angry','Disgust','Fear','Happy','Sad','Surprise','Neutral'])"
      ],
      "execution_count": 75,
      "outputs": [
        {
          "output_type": "stream",
          "text": [
            "Found 28709 images belonging to 7 classes.\n",
            "Found 7178 images belonging to 7 classes.\n"
          ],
          "name": "stdout"
        }
      ]
    },
    {
      "cell_type": "code",
      "metadata": {
        "id": "jDtmQJ111JvN",
        "colab_type": "code",
        "colab": {
          "base_uri": "https://localhost:8080/",
          "height": 561
        },
        "outputId": "199b1934-9d6c-49af-8b71-ab42d7476bff"
      },
      "source": [
        "model_0 = Sequential()\n",
        "model_0.add(Conv2D(64,(3,3), activation='relu', input_shape=input_shape))\n",
        "model_0.add(MaxPooling2D(pool_size=(2,2)))\n",
        "\n",
        "model_0.add(Conv2D(128,(3,3), activation='relu'))\n",
        "model_0.add(MaxPooling2D(pool_size=(2,2)))\n",
        "\n",
        "model_0.add(Conv2D(256, (3,3), activation='relu'))\n",
        "model_0.add(MaxPooling2D(pool_size=(2,2)))\n",
        "\n",
        "model_0.add(Conv2D(512, (3,3), activation='relu'))\n",
        "model_0.add(MaxPooling2D(pool_size=(2,2)))\n",
        "\n",
        "model_0.add(Flatten())\n",
        "model_0.add(Dense(128, activation='relu'))\n",
        "model_0.add(Dense(64, activation='relu'))\n",
        "model_0.add(Dense(1, activation='sigmoid'))\n",
        "model_0.summary()\n",
        "\n"
      ],
      "execution_count": 76,
      "outputs": [
        {
          "output_type": "stream",
          "text": [
            "Model: \"sequential_5\"\n",
            "_________________________________________________________________\n",
            "Layer (type)                 Output Shape              Param #   \n",
            "=================================================================\n",
            "conv2d_20 (Conv2D)           (None, 46, 46, 64)        1792      \n",
            "_________________________________________________________________\n",
            "max_pooling2d_20 (MaxPooling (None, 23, 23, 64)        0         \n",
            "_________________________________________________________________\n",
            "conv2d_21 (Conv2D)           (None, 21, 21, 128)       73856     \n",
            "_________________________________________________________________\n",
            "max_pooling2d_21 (MaxPooling (None, 10, 10, 128)       0         \n",
            "_________________________________________________________________\n",
            "conv2d_22 (Conv2D)           (None, 8, 8, 256)         295168    \n",
            "_________________________________________________________________\n",
            "max_pooling2d_22 (MaxPooling (None, 4, 4, 256)         0         \n",
            "_________________________________________________________________\n",
            "conv2d_23 (Conv2D)           (None, 2, 2, 512)         1180160   \n",
            "_________________________________________________________________\n",
            "max_pooling2d_23 (MaxPooling (None, 1, 1, 512)         0         \n",
            "_________________________________________________________________\n",
            "flatten_5 (Flatten)          (None, 512)               0         \n",
            "_________________________________________________________________\n",
            "dense_10 (Dense)             (None, 128)               65664     \n",
            "_________________________________________________________________\n",
            "dense_11 (Dense)             (None, 64)                8256      \n",
            "_________________________________________________________________\n",
            "dense_12 (Dense)             (None, 1)                 65        \n",
            "=================================================================\n",
            "Total params: 1,624,961\n",
            "Trainable params: 1,624,961\n",
            "Non-trainable params: 0\n",
            "_________________________________________________________________\n"
          ],
          "name": "stdout"
        }
      ]
    },
    {
      "cell_type": "code",
      "metadata": {
        "id": "aaC8iuui5j8S",
        "colab_type": "code",
        "colab": {
          "base_uri": "https://localhost:8080/",
          "height": 561
        },
        "outputId": "546ba2b4-b68e-4926-9420-1cd49051e8d3"
      },
      "source": [
        "## Compile the model\n",
        "model_0.compile(optimizer='adam',\n",
        "              loss='categorical_crossentropy',\n",
        "              metrics=['accuracy'])\n",
        "model_0.summary()"
      ],
      "execution_count": 77,
      "outputs": [
        {
          "output_type": "stream",
          "text": [
            "Model: \"sequential_5\"\n",
            "_________________________________________________________________\n",
            "Layer (type)                 Output Shape              Param #   \n",
            "=================================================================\n",
            "conv2d_20 (Conv2D)           (None, 46, 46, 64)        1792      \n",
            "_________________________________________________________________\n",
            "max_pooling2d_20 (MaxPooling (None, 23, 23, 64)        0         \n",
            "_________________________________________________________________\n",
            "conv2d_21 (Conv2D)           (None, 21, 21, 128)       73856     \n",
            "_________________________________________________________________\n",
            "max_pooling2d_21 (MaxPooling (None, 10, 10, 128)       0         \n",
            "_________________________________________________________________\n",
            "conv2d_22 (Conv2D)           (None, 8, 8, 256)         295168    \n",
            "_________________________________________________________________\n",
            "max_pooling2d_22 (MaxPooling (None, 4, 4, 256)         0         \n",
            "_________________________________________________________________\n",
            "conv2d_23 (Conv2D)           (None, 2, 2, 512)         1180160   \n",
            "_________________________________________________________________\n",
            "max_pooling2d_23 (MaxPooling (None, 1, 1, 512)         0         \n",
            "_________________________________________________________________\n",
            "flatten_5 (Flatten)          (None, 512)               0         \n",
            "_________________________________________________________________\n",
            "dense_10 (Dense)             (None, 128)               65664     \n",
            "_________________________________________________________________\n",
            "dense_11 (Dense)             (None, 64)                8256      \n",
            "_________________________________________________________________\n",
            "dense_12 (Dense)             (None, 1)                 65        \n",
            "=================================================================\n",
            "Total params: 1,624,961\n",
            "Trainable params: 1,624,961\n",
            "Non-trainable params: 0\n",
            "_________________________________________________________________\n"
          ],
          "name": "stdout"
        }
      ]
    },
    {
      "cell_type": "code",
      "metadata": {
        "id": "zZUsQfM36dOh",
        "colab_type": "code",
        "colab": {
          "base_uri": "https://localhost:8080/",
          "height": 1000
        },
        "outputId": "e414eb29-748e-4618-c65b-4681e54f2fba"
      },
      "source": [
        "\n",
        "## Fitting the model\n",
        "\n",
        "training = model_0.fit_generator(train_data_gen,\n",
        "                  steps_per_epoch=training_samples,epochs=epochs,\n",
        "                  validation_data=test_data_gen,\n",
        "                      validation_steps=test_samples)"
      ],
      "execution_count": 78,
      "outputs": [
        {
          "output_type": "stream",
          "text": [
            "Epoch 1/100\n",
            "100/100 [==============================] - 44s 437ms/step - loss: 1.1921e-07 - accuracy: 0.7482 - val_loss: 1.1921e-07 - val_accuracy: 0.7357\n",
            "Epoch 2/100\n",
            "100/100 [==============================] - 42s 423ms/step - loss: 1.1921e-07 - accuracy: 0.7532 - val_loss: 1.1921e-07 - val_accuracy: 0.7500\n",
            "Epoch 3/100\n",
            "100/100 [==============================] - 43s 427ms/step - loss: 1.1921e-07 - accuracy: 0.7568 - val_loss: 1.1921e-07 - val_accuracy: 0.7346\n",
            "Epoch 4/100\n",
            "100/100 [==============================] - 43s 426ms/step - loss: 1.1921e-07 - accuracy: 0.7507 - val_loss: 1.1921e-07 - val_accuracy: 0.7421\n",
            "Epoch 5/100\n",
            "100/100 [==============================] - 44s 435ms/step - loss: 1.1921e-07 - accuracy: 0.7479 - val_loss: 1.1921e-07 - val_accuracy: 0.7436\n",
            "Epoch 6/100\n",
            "100/100 [==============================] - 44s 440ms/step - loss: 1.1921e-07 - accuracy: 0.7436 - val_loss: 1.1921e-07 - val_accuracy: 0.7450\n",
            "Epoch 7/100\n",
            "100/100 [==============================] - 44s 438ms/step - loss: 1.1921e-07 - accuracy: 0.7486 - val_loss: 1.1921e-07 - val_accuracy: 0.7446\n",
            "Epoch 8/100\n",
            "100/100 [==============================] - 45s 451ms/step - loss: 1.1921e-07 - accuracy: 0.7596 - val_loss: 1.1921e-07 - val_accuracy: 0.7425\n",
            "Epoch 9/100\n",
            "100/100 [==============================] - 47s 467ms/step - loss: 1.1921e-07 - accuracy: 0.7464 - val_loss: 1.1921e-07 - val_accuracy: 0.7400\n",
            "Epoch 10/100\n",
            "100/100 [==============================] - 44s 436ms/step - loss: 1.1921e-07 - accuracy: 0.7482 - val_loss: 1.1921e-07 - val_accuracy: 0.7446\n",
            "Epoch 11/100\n",
            "100/100 [==============================] - 42s 422ms/step - loss: 1.1921e-07 - accuracy: 0.7462 - val_loss: 1.1921e-07 - val_accuracy: 0.7393\n",
            "Epoch 12/100\n",
            "100/100 [==============================] - 43s 429ms/step - loss: 1.1921e-07 - accuracy: 0.7482 - val_loss: 1.1921e-07 - val_accuracy: 0.7536\n",
            "Epoch 13/100\n",
            "100/100 [==============================] - 43s 428ms/step - loss: 1.1921e-07 - accuracy: 0.7500 - val_loss: 1.1921e-07 - val_accuracy: 0.7339\n",
            "Epoch 14/100\n",
            "100/100 [==============================] - 44s 435ms/step - loss: 1.1921e-07 - accuracy: 0.7464 - val_loss: 1.1921e-07 - val_accuracy: 0.7439\n",
            "Epoch 15/100\n",
            "100/100 [==============================] - 43s 426ms/step - loss: 1.1921e-07 - accuracy: 0.7536 - val_loss: 1.1921e-07 - val_accuracy: 0.7407\n",
            "Epoch 16/100\n",
            "100/100 [==============================] - 42s 424ms/step - loss: 1.1921e-07 - accuracy: 0.7446 - val_loss: 1.1921e-07 - val_accuracy: 0.7446\n",
            "Epoch 17/100\n",
            "100/100 [==============================] - 44s 444ms/step - loss: 1.1921e-07 - accuracy: 0.7457 - val_loss: 1.1921e-07 - val_accuracy: 0.7521\n",
            "Epoch 18/100\n",
            "100/100 [==============================] - 44s 436ms/step - loss: 1.1921e-07 - accuracy: 0.7432 - val_loss: 1.1921e-07 - val_accuracy: 0.7432\n",
            "Epoch 19/100\n",
            "100/100 [==============================] - 43s 433ms/step - loss: 1.1921e-07 - accuracy: 0.7489 - val_loss: 1.1921e-07 - val_accuracy: 0.7525\n",
            "Epoch 20/100\n",
            "100/100 [==============================] - 44s 437ms/step - loss: 1.1921e-07 - accuracy: 0.7425 - val_loss: 1.1921e-07 - val_accuracy: 0.7493\n",
            "Epoch 21/100\n",
            "100/100 [==============================] - 43s 428ms/step - loss: 1.1921e-07 - accuracy: 0.7450 - val_loss: 1.1921e-07 - val_accuracy: 0.7432\n",
            "Epoch 22/100\n",
            "100/100 [==============================] - 44s 445ms/step - loss: 1.1921e-07 - accuracy: 0.7514 - val_loss: 1.1921e-07 - val_accuracy: 0.7436\n",
            "Epoch 23/100\n",
            "100/100 [==============================] - 48s 481ms/step - loss: 1.1921e-07 - accuracy: 0.7475 - val_loss: 1.1921e-07 - val_accuracy: 0.7389\n",
            "Epoch 24/100\n",
            "100/100 [==============================] - 44s 441ms/step - loss: 1.1921e-07 - accuracy: 0.7496 - val_loss: 1.1921e-07 - val_accuracy: 0.7243\n",
            "Epoch 25/100\n",
            "100/100 [==============================] - 44s 438ms/step - loss: 1.1921e-07 - accuracy: 0.7404 - val_loss: 1.1921e-07 - val_accuracy: 0.7464\n",
            "Epoch 26/100\n",
            "100/100 [==============================] - 42s 421ms/step - loss: 1.1921e-07 - accuracy: 0.7400 - val_loss: 1.1921e-07 - val_accuracy: 0.7471\n",
            "Epoch 27/100\n",
            "100/100 [==============================] - 41s 413ms/step - loss: 1.1921e-07 - accuracy: 0.7411 - val_loss: 1.1921e-07 - val_accuracy: 0.7482\n",
            "Epoch 28/100\n",
            "100/100 [==============================] - 42s 424ms/step - loss: 1.1921e-07 - accuracy: 0.7457 - val_loss: 1.1921e-07 - val_accuracy: 0.7429\n",
            "Epoch 29/100\n",
            "100/100 [==============================] - 43s 429ms/step - loss: 1.1921e-07 - accuracy: 0.7550 - val_loss: 1.1921e-07 - val_accuracy: 0.7418\n",
            "Epoch 30/100\n",
            "100/100 [==============================] - 43s 426ms/step - loss: 1.1921e-07 - accuracy: 0.7543 - val_loss: 1.1921e-07 - val_accuracy: 0.7425\n",
            "Epoch 31/100\n",
            "100/100 [==============================] - 43s 427ms/step - loss: 1.1921e-07 - accuracy: 0.7429 - val_loss: 1.1921e-07 - val_accuracy: 0.7436\n",
            "Epoch 32/100\n",
            "100/100 [==============================] - 43s 425ms/step - loss: 1.1921e-07 - accuracy: 0.7421 - val_loss: 1.1921e-07 - val_accuracy: 0.7411\n",
            "Epoch 33/100\n",
            "100/100 [==============================] - 42s 419ms/step - loss: 1.1921e-07 - accuracy: 0.7534 - val_loss: 1.1921e-07 - val_accuracy: 0.7486\n",
            "Epoch 34/100\n",
            "100/100 [==============================] - 41s 412ms/step - loss: 1.1921e-07 - accuracy: 0.7404 - val_loss: 1.1921e-07 - val_accuracy: 0.7521\n",
            "Epoch 35/100\n",
            "100/100 [==============================] - 42s 419ms/step - loss: 1.1921e-07 - accuracy: 0.7479 - val_loss: 1.1921e-07 - val_accuracy: 0.7475\n",
            "Epoch 36/100\n",
            "100/100 [==============================] - 44s 435ms/step - loss: 1.1921e-07 - accuracy: 0.7482 - val_loss: 1.1921e-07 - val_accuracy: 0.7425\n",
            "Epoch 37/100\n",
            "100/100 [==============================] - 45s 454ms/step - loss: 1.1921e-07 - accuracy: 0.7418 - val_loss: 1.1921e-07 - val_accuracy: 0.7482\n",
            "Epoch 38/100\n",
            "100/100 [==============================] - 43s 426ms/step - loss: 1.1921e-07 - accuracy: 0.7461 - val_loss: 1.1921e-07 - val_accuracy: 0.7489\n",
            "Epoch 39/100\n",
            "100/100 [==============================] - 42s 425ms/step - loss: 1.1921e-07 - accuracy: 0.7443 - val_loss: 1.1921e-07 - val_accuracy: 0.7486\n",
            "Epoch 40/100\n",
            "100/100 [==============================] - 42s 416ms/step - loss: 1.1921e-07 - accuracy: 0.7496 - val_loss: 1.1921e-07 - val_accuracy: 0.7418\n",
            "Epoch 41/100\n",
            "100/100 [==============================] - 42s 422ms/step - loss: 1.1921e-07 - accuracy: 0.7554 - val_loss: 1.1921e-07 - val_accuracy: 0.7375\n",
            "Epoch 42/100\n",
            "100/100 [==============================] - 43s 427ms/step - loss: 1.1921e-07 - accuracy: 0.7421 - val_loss: 1.1921e-07 - val_accuracy: 0.7500\n",
            "Epoch 43/100\n",
            "100/100 [==============================] - 43s 428ms/step - loss: 1.1921e-07 - accuracy: 0.7468 - val_loss: 1.1921e-07 - val_accuracy: 0.7421\n",
            "Epoch 44/100\n",
            "100/100 [==============================] - 43s 429ms/step - loss: 1.1921e-07 - accuracy: 0.7482 - val_loss: 1.1921e-07 - val_accuracy: 0.7411\n",
            "Epoch 45/100\n",
            "100/100 [==============================] - 43s 431ms/step - loss: 1.1921e-07 - accuracy: 0.7511 - val_loss: 1.1921e-07 - val_accuracy: 0.7364\n",
            "Epoch 46/100\n",
            "100/100 [==============================] - 43s 433ms/step - loss: 1.1921e-07 - accuracy: 0.7418 - val_loss: 1.1921e-07 - val_accuracy: 0.7446\n",
            "Epoch 47/100\n",
            "100/100 [==============================] - 43s 428ms/step - loss: 1.1921e-07 - accuracy: 0.7414 - val_loss: 1.1921e-07 - val_accuracy: 0.7461\n",
            "Epoch 48/100\n",
            "100/100 [==============================] - 42s 419ms/step - loss: 1.1921e-07 - accuracy: 0.7475 - val_loss: 1.1921e-07 - val_accuracy: 0.7564\n",
            "Epoch 49/100\n",
            "100/100 [==============================] - 43s 428ms/step - loss: 1.1921e-07 - accuracy: 0.7457 - val_loss: 1.1921e-07 - val_accuracy: 0.7475\n",
            "Epoch 50/100\n",
            "100/100 [==============================] - 44s 441ms/step - loss: 1.1921e-07 - accuracy: 0.7532 - val_loss: 1.1921e-07 - val_accuracy: 0.7504\n",
            "Epoch 51/100\n",
            "100/100 [==============================] - 46s 465ms/step - loss: 1.1921e-07 - accuracy: 0.7482 - val_loss: 1.1921e-07 - val_accuracy: 0.7464\n",
            "Epoch 52/100\n",
            "100/100 [==============================] - 43s 431ms/step - loss: 1.1921e-07 - accuracy: 0.7446 - val_loss: 1.1921e-07 - val_accuracy: 0.7482\n",
            "Epoch 53/100\n",
            "100/100 [==============================] - 42s 423ms/step - loss: 1.1921e-07 - accuracy: 0.7464 - val_loss: 1.1921e-07 - val_accuracy: 0.7482\n",
            "Epoch 54/100\n",
            "100/100 [==============================] - 44s 439ms/step - loss: 1.1921e-07 - accuracy: 0.7396 - val_loss: 1.1921e-07 - val_accuracy: 0.7368\n",
            "Epoch 55/100\n",
            "100/100 [==============================] - 43s 426ms/step - loss: 1.1921e-07 - accuracy: 0.7500 - val_loss: 1.1921e-07 - val_accuracy: 0.7411\n",
            "Epoch 56/100\n",
            "100/100 [==============================] - 43s 432ms/step - loss: 1.1921e-07 - accuracy: 0.7511 - val_loss: 1.1921e-07 - val_accuracy: 0.7375\n",
            "Epoch 57/100\n",
            "100/100 [==============================] - 44s 437ms/step - loss: 1.1921e-07 - accuracy: 0.7557 - val_loss: 1.1921e-07 - val_accuracy: 0.7289\n",
            "Epoch 58/100\n",
            "100/100 [==============================] - 42s 425ms/step - loss: 1.1921e-07 - accuracy: 0.7471 - val_loss: 1.1921e-07 - val_accuracy: 0.7371\n",
            "Epoch 59/100\n",
            "100/100 [==============================] - 42s 422ms/step - loss: 1.1921e-07 - accuracy: 0.7389 - val_loss: 1.1921e-07 - val_accuracy: 0.7407\n",
            "Epoch 60/100\n",
            "100/100 [==============================] - 43s 435ms/step - loss: 1.1921e-07 - accuracy: 0.7471 - val_loss: 1.1921e-07 - val_accuracy: 0.7489\n",
            "Epoch 61/100\n",
            "100/100 [==============================] - 43s 433ms/step - loss: 1.1921e-07 - accuracy: 0.7561 - val_loss: 1.1921e-07 - val_accuracy: 0.7393\n",
            "Epoch 62/100\n",
            "100/100 [==============================] - 43s 427ms/step - loss: 1.1921e-07 - accuracy: 0.7454 - val_loss: 1.1921e-07 - val_accuracy: 0.7432\n",
            "Epoch 63/100\n",
            "100/100 [==============================] - 43s 425ms/step - loss: 1.1921e-07 - accuracy: 0.7393 - val_loss: 1.1921e-07 - val_accuracy: 0.7371\n",
            "Epoch 64/100\n",
            "100/100 [==============================] - 42s 420ms/step - loss: 1.1921e-07 - accuracy: 0.7475 - val_loss: 1.1921e-07 - val_accuracy: 0.7554\n",
            "Epoch 65/100\n",
            "100/100 [==============================] - 47s 473ms/step - loss: 1.1921e-07 - accuracy: 0.7300 - val_loss: 1.1921e-07 - val_accuracy: 0.7557\n",
            "Epoch 66/100\n",
            "100/100 [==============================] - 43s 429ms/step - loss: 1.1921e-07 - accuracy: 0.7582 - val_loss: 1.1921e-07 - val_accuracy: 0.7357\n",
            "Epoch 67/100\n",
            "100/100 [==============================] - 42s 425ms/step - loss: 1.1921e-07 - accuracy: 0.7332 - val_loss: 1.1921e-07 - val_accuracy: 0.7543\n",
            "Epoch 68/100\n",
            "100/100 [==============================] - 43s 427ms/step - loss: 1.1921e-07 - accuracy: 0.7400 - val_loss: 1.1921e-07 - val_accuracy: 0.7454\n",
            "Epoch 69/100\n",
            "100/100 [==============================] - 43s 425ms/step - loss: 1.1921e-07 - accuracy: 0.7432 - val_loss: 1.1921e-07 - val_accuracy: 0.7404\n",
            "Epoch 70/100\n",
            "100/100 [==============================] - 41s 412ms/step - loss: 1.1921e-07 - accuracy: 0.7496 - val_loss: 1.1921e-07 - val_accuracy: 0.7414\n",
            "Epoch 71/100\n",
            "100/100 [==============================] - 43s 426ms/step - loss: 1.1921e-07 - accuracy: 0.7457 - val_loss: 1.1921e-07 - val_accuracy: 0.7389\n",
            "Epoch 72/100\n",
            "100/100 [==============================] - 43s 432ms/step - loss: 1.1921e-07 - accuracy: 0.7532 - val_loss: 1.1921e-07 - val_accuracy: 0.7546\n",
            "Epoch 73/100\n",
            "100/100 [==============================] - 41s 413ms/step - loss: 1.1921e-07 - accuracy: 0.7486 - val_loss: 1.1921e-07 - val_accuracy: 0.7511\n",
            "Epoch 74/100\n",
            "100/100 [==============================] - 43s 427ms/step - loss: 1.1921e-07 - accuracy: 0.7468 - val_loss: 1.1921e-07 - val_accuracy: 0.7421\n",
            "Epoch 75/100\n",
            "100/100 [==============================] - 41s 413ms/step - loss: 1.1921e-07 - accuracy: 0.7539 - val_loss: 1.1921e-07 - val_accuracy: 0.7346\n",
            "Epoch 76/100\n",
            "100/100 [==============================] - 42s 417ms/step - loss: 1.1921e-07 - accuracy: 0.7507 - val_loss: 1.1921e-07 - val_accuracy: 0.7436\n",
            "Epoch 77/100\n",
            "100/100 [==============================] - 41s 413ms/step - loss: 1.1921e-07 - accuracy: 0.7439 - val_loss: 1.1921e-07 - val_accuracy: 0.7525\n",
            "Epoch 78/100\n",
            "100/100 [==============================] - 42s 419ms/step - loss: 1.1921e-07 - accuracy: 0.7489 - val_loss: 1.1921e-07 - val_accuracy: 0.7407\n",
            "Epoch 79/100\n",
            "100/100 [==============================] - 48s 475ms/step - loss: 1.1921e-07 - accuracy: 0.7534 - val_loss: 1.1921e-07 - val_accuracy: 0.7382\n",
            "Epoch 80/100\n",
            "100/100 [==============================] - 43s 434ms/step - loss: 1.1921e-07 - accuracy: 0.7536 - val_loss: 1.1921e-07 - val_accuracy: 0.7404\n",
            "Epoch 81/100\n",
            "100/100 [==============================] - 42s 420ms/step - loss: 1.1921e-07 - accuracy: 0.7457 - val_loss: 1.1921e-07 - val_accuracy: 0.7457\n",
            "Epoch 82/100\n",
            "100/100 [==============================] - 42s 424ms/step - loss: 1.1921e-07 - accuracy: 0.7504 - val_loss: 1.1921e-07 - val_accuracy: 0.7425\n",
            "Epoch 83/100\n",
            "100/100 [==============================] - 43s 427ms/step - loss: 1.1921e-07 - accuracy: 0.7500 - val_loss: 1.1921e-07 - val_accuracy: 0.7375\n",
            "Epoch 84/100\n",
            "100/100 [==============================] - 43s 425ms/step - loss: 1.1921e-07 - accuracy: 0.7375 - val_loss: 1.1921e-07 - val_accuracy: 0.7393\n",
            "Epoch 85/100\n",
            "100/100 [==============================] - 44s 436ms/step - loss: 1.1921e-07 - accuracy: 0.7464 - val_loss: 1.1921e-07 - val_accuracy: 0.7425\n",
            "Epoch 86/100\n",
            "100/100 [==============================] - 45s 453ms/step - loss: 1.1921e-07 - accuracy: 0.7444 - val_loss: 1.1921e-07 - val_accuracy: 0.7468\n",
            "Epoch 87/100\n",
            "100/100 [==============================] - 43s 429ms/step - loss: 1.1921e-07 - accuracy: 0.7500 - val_loss: 1.1921e-07 - val_accuracy: 0.7468\n",
            "Epoch 88/100\n",
            "100/100 [==============================] - 45s 448ms/step - loss: 1.1921e-07 - accuracy: 0.7471 - val_loss: 1.1921e-07 - val_accuracy: 0.7461\n",
            "Epoch 89/100\n",
            "100/100 [==============================] - 45s 447ms/step - loss: 1.1921e-07 - accuracy: 0.7446 - val_loss: 1.1921e-07 - val_accuracy: 0.7421\n",
            "Epoch 90/100\n",
            "100/100 [==============================] - 45s 451ms/step - loss: 1.1921e-07 - accuracy: 0.7436 - val_loss: 1.1921e-07 - val_accuracy: 0.7425\n",
            "Epoch 91/100\n",
            "100/100 [==============================] - 47s 472ms/step - loss: 1.1921e-07 - accuracy: 0.7483 - val_loss: 1.1921e-07 - val_accuracy: 0.7436\n",
            "Epoch 92/100\n",
            "100/100 [==============================] - 44s 440ms/step - loss: 1.1921e-07 - accuracy: 0.7526 - val_loss: 1.1921e-07 - val_accuracy: 0.7454\n",
            "Epoch 93/100\n",
            "100/100 [==============================] - 48s 482ms/step - loss: 1.1921e-07 - accuracy: 0.7429 - val_loss: 1.1921e-07 - val_accuracy: 0.7504\n",
            "Epoch 94/100\n",
            "100/100 [==============================] - 43s 429ms/step - loss: 1.1921e-07 - accuracy: 0.7493 - val_loss: 1.1921e-07 - val_accuracy: 0.7446\n",
            "Epoch 95/100\n",
            "100/100 [==============================] - 43s 431ms/step - loss: 1.1921e-07 - accuracy: 0.7496 - val_loss: 1.1921e-07 - val_accuracy: 0.7471\n",
            "Epoch 96/100\n",
            "100/100 [==============================] - 43s 427ms/step - loss: 1.1921e-07 - accuracy: 0.7496 - val_loss: 1.1921e-07 - val_accuracy: 0.7418\n",
            "Epoch 97/100\n",
            "100/100 [==============================] - 42s 422ms/step - loss: 1.1921e-07 - accuracy: 0.7557 - val_loss: 1.1921e-07 - val_accuracy: 0.7414\n",
            "Epoch 98/100\n",
            "100/100 [==============================] - 42s 423ms/step - loss: 1.1921e-07 - accuracy: 0.7457 - val_loss: 1.1921e-07 - val_accuracy: 0.7471\n",
            "Epoch 99/100\n",
            "100/100 [==============================] - 41s 408ms/step - loss: 1.1921e-07 - accuracy: 0.7425 - val_loss: 1.1921e-07 - val_accuracy: 0.7454\n",
            "Epoch 100/100\n",
            "100/100 [==============================] - 43s 427ms/step - loss: 1.1921e-07 - accuracy: 0.7479 - val_loss: 1.1921e-07 - val_accuracy: 0.7404\n"
          ],
          "name": "stdout"
        }
      ]
    },
    {
      "cell_type": "code",
      "metadata": {
        "id": "7sMPB2RNREaK",
        "colab_type": "code",
        "colab": {
          "base_uri": "https://localhost:8080/",
          "height": 295
        },
        "outputId": "79465cf7-f721-4664-c3c9-07b5d50a1ee5"
      },
      "source": [
        "plt.plot(training.history['accuracy'])\n",
        "plt.plot(training.history['val_accuracy'])\n",
        "plt.title('model accuracy')\n",
        "plt.ylabel('accuracy')\n",
        "plt.xlabel('epoch')\n",
        "plt.legend(['train', 'test'], loc='upper left')\n",
        "plt.show()"
      ],
      "execution_count": 103,
      "outputs": [
        {
          "output_type": "display_data",
          "data": {
            "image/png": "[encoded data removed]",
            "text/plain": [
              "<Figure size 432x288 with 1 Axes>"
            ]
          },
          "metadata": {
            "tags": [],
            "needs_background": "light"
          }
        }
      ]
    },
    {
      "cell_type": "code",
      "metadata": {
        "id": "WPxvS3WoTcPO",
        "colab_type": "code",
        "colab": {}
      },
      "source": [
        ""
      ],
      "execution_count": null,
      "outputs": []
    }
  ]
}