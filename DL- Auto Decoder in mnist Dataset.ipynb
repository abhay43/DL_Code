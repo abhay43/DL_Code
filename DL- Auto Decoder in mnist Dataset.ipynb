{
  "nbformat": 4,
  "nbformat_minor": 0,
  "metadata": {
    "colab": {
      "name": "Overview of Colaboratory Features",
      "provenance": [],
      "collapsed_sections": [],
      "toc_visible": true,
      "include_colab_link": true
    },
    "kernelspec": {
      "display_name": "Python 3",
      "name": "python3"
    }
  },
  "cells": [
    {
      "cell_type": "markdown",
      "metadata": {
        "id": "view-in-github",
        "colab_type": "text"
      },
      "source": [
        "<a href=\"https://colab.research.google.com/github/abhay43/ML_Code/blob/master/DL-%20Auto%20Decoder%20in%20mnist%20Dataset.ipynb\" target=\"_parent\"><img src=\"https://colab.research.google.com/assets/colab-badge.svg\" alt=\"Open In Colab\"/></a>"
      ]
    },
    {
      "cell_type": "code",
      "metadata": {
        "id": "416iZ-hYRdpK",
        "colab_type": "code",
        "colab": {}
      },
      "source": [
        "import tensorflow as tf\n",
        "from tensorflow.keras.models import Model\n",
        "from tensorflow.keras.preprocessing import image\n",
        "from tensorflow.keras.preprocessing.image import ImageDataGenerator\n",
        "from tensorflow.keras.layers import Conv2D, Flatten, Dense, MaxPooling2D, Input\n",
        "\n",
        "import numpy as np"
      ],
      "execution_count": 43,
      "outputs": []
    },
    {
      "cell_type": "code",
      "metadata": {
        "id": "R0ItunKkUL1o",
        "colab_type": "code",
        "colab": {}
      },
      "source": [
        "# Creating the layers \n",
        "input_img = Input(shape=(784, ))\n",
        "\n",
        "# encoded layer \n",
        "encoded = Dense(32, activation ='relu')(input_img)\n",
        "\n",
        "# decoded layer \n",
        "decoded = Dense(784, activation = 'sigmoid')(encoded)\n",
        "\n"
      ],
      "execution_count": 11,
      "outputs": []
    },
    {
      "cell_type": "code",
      "metadata": {
        "id": "K5nrzhZoYGeY",
        "colab_type": "code",
        "colab": {
          "base_uri": "https://localhost:8080/",
          "height": 255
        },
        "outputId": "88cf2952-daac-438f-d603-655460f5c892"
      },
      "source": [
        "model_0 = Model(input_img, decoded)\n",
        "model_0.summary()"
      ],
      "execution_count": 68,
      "outputs": [
        {
          "output_type": "stream",
          "text": [
            "Model: \"model_10\"\n",
            "_________________________________________________________________\n",
            "Layer (type)                 Output Shape              Param #   \n",
            "=================================================================\n",
            "input_3 (InputLayer)         [(None, 784)]             0         \n",
            "_________________________________________________________________\n",
            "dense_2 (Dense)              (None, 32)                25120     \n",
            "_________________________________________________________________\n",
            "dense_3 (Dense)              (None, 784)               25872     \n",
            "=================================================================\n",
            "Total params: 50,992\n",
            "Trainable params: 50,992\n",
            "Non-trainable params: 0\n",
            "_________________________________________________________________\n"
          ],
          "name": "stdout"
        }
      ]
    },
    {
      "cell_type": "code",
      "metadata": {
        "id": "M8xSQ7lRamFZ",
        "colab_type": "code",
        "colab": {
          "base_uri": "https://localhost:8080/",
          "height": 221
        },
        "outputId": "6b266924-40fd-4534-93ec-07d3d980de4c"
      },
      "source": [
        "encoded_model_0 = Model(input_img, encoded)\n",
        "encoded_model_0.summary()"
      ],
      "execution_count": 69,
      "outputs": [
        {
          "output_type": "stream",
          "text": [
            "Model: \"model_11\"\n",
            "_________________________________________________________________\n",
            "Layer (type)                 Output Shape              Param #   \n",
            "=================================================================\n",
            "input_3 (InputLayer)         [(None, 784)]             0         \n",
            "_________________________________________________________________\n",
            "dense_2 (Dense)              (None, 32)                25120     \n",
            "=================================================================\n",
            "Total params: 25,120\n",
            "Trainable params: 25,120\n",
            "Non-trainable params: 0\n",
            "_________________________________________________________________\n"
          ],
          "name": "stdout"
        }
      ]
    },
    {
      "cell_type": "code",
      "metadata": {
        "id": "wT9o4iGWdKJa",
        "colab_type": "code",
        "colab": {}
      },
      "source": [
        "encoder_input = Input(shape=(32,)) \n",
        "decoder_output = model_0.layers[-1]"
      ],
      "execution_count": 70,
      "outputs": []
    },
    {
      "cell_type": "code",
      "metadata": {
        "id": "rOKAhIdqa7bW",
        "colab_type": "code",
        "colab": {
          "base_uri": "https://localhost:8080/",
          "height": 221
        },
        "outputId": "ede2081d-4bc8-41bb-a2b4-eacf3f9d394a"
      },
      "source": [
        "decoded_model_0 = Model(encoder_input, decoder_output(encoder_input)) \n",
        "decoded_model_0.summary()"
      ],
      "execution_count": 71,
      "outputs": [
        {
          "output_type": "stream",
          "text": [
            "Model: \"model_12\"\n",
            "_________________________________________________________________\n",
            "Layer (type)                 Output Shape              Param #   \n",
            "=================================================================\n",
            "input_8 (InputLayer)         [(None, 32)]              0         \n",
            "_________________________________________________________________\n",
            "dense_3 (Dense)              (None, 784)               25872     \n",
            "=================================================================\n",
            "Total params: 25,872\n",
            "Trainable params: 25,872\n",
            "Non-trainable params: 0\n",
            "_________________________________________________________________\n"
          ],
          "name": "stdout"
        }
      ]
    },
    {
      "cell_type": "code",
      "metadata": {
        "id": "RxJBkfIUYpdz",
        "colab_type": "code",
        "colab": {}
      },
      "source": [
        "model_0.compile(\n",
        "    optimizer = tf.keras.optimizers.Adam(lr = 0.001),\n",
        "    loss=['binary_crossentropy']\n",
        ")"
      ],
      "execution_count": 78,
      "outputs": []
    },
    {
      "cell_type": "code",
      "metadata": {
        "id": "aY2FCAkFeUqE",
        "colab_type": "code",
        "colab": {
          "base_uri": "https://localhost:8080/",
          "height": 255
        },
        "outputId": "76acb973-4c4b-44d8-e39b-55a839257657"
      },
      "source": [
        "model_0.summary()"
      ],
      "execution_count": 73,
      "outputs": [
        {
          "output_type": "stream",
          "text": [
            "Model: \"model_10\"\n",
            "_________________________________________________________________\n",
            "Layer (type)                 Output Shape              Param #   \n",
            "=================================================================\n",
            "input_3 (InputLayer)         [(None, 784)]             0         \n",
            "_________________________________________________________________\n",
            "dense_2 (Dense)              (None, 32)                25120     \n",
            "_________________________________________________________________\n",
            "dense_3 (Dense)              (None, 784)               25872     \n",
            "=================================================================\n",
            "Total params: 50,992\n",
            "Trainable params: 50,992\n",
            "Non-trainable params: 0\n",
            "_________________________________________________________________\n"
          ],
          "name": "stdout"
        }
      ]
    },
    {
      "cell_type": "code",
      "metadata": {
        "id": "fVSK-KYrfGhM",
        "colab_type": "code",
        "colab": {}
      },
      "source": [
        "(x_train, _), (x_test, _) = tf.keras.datasets.mnist.load_data()"
      ],
      "execution_count": 74,
      "outputs": []
    },
    {
      "cell_type": "code",
      "metadata": {
        "id": "UE2r68SEfvc-",
        "colab_type": "code",
        "colab": {}
      },
      "source": [
        "x_train = x_train.astype('float32') / 255\n",
        "x_test = x_test.astype('float32')/ 255\n",
        "\n",
        "x_train = x_train.reshape(len(x_train), np.prod(x_train.shape[1:]))\n",
        "x_test = x_test.reshape(len(x_test), np.prod(x_test.shape[1:]))"
      ],
      "execution_count": 75,
      "outputs": []
    },
    {
      "cell_type": "code",
      "metadata": {
        "id": "rw51RDi7gfFL",
        "colab_type": "code",
        "colab": {
          "base_uri": "https://localhost:8080/",
          "height": 51
        },
        "outputId": "2d9335d2-9811-4209-9683-5bf8fde87cc2"
      },
      "source": [
        "print(x_train.shape)\n",
        "print(x_test.shape)"
      ],
      "execution_count": 76,
      "outputs": [
        {
          "output_type": "stream",
          "text": [
            "(60000, 784)\n",
            "(10000, 784)\n"
          ],
          "name": "stdout"
        }
      ]
    },
    {
      "cell_type": "code",
      "metadata": {
        "id": "LaIWdgB9gzof",
        "colab_type": "code",
        "colab": {
          "base_uri": "https://localhost:8080/",
          "height": 1000
        },
        "outputId": "4d647adc-5028-467d-da04-11d074241612"
      },
      "source": [
        "model_0.fit(\n",
        "    x_train, x_train, batch_size = 250, epochs = 50, shuffle= True, verbose = 1, validation_data=(x_test, x_test)\n",
        ")"
      ],
      "execution_count": 79,
      "outputs": [
        {
          "output_type": "stream",
          "text": [
            "Epoch 1/50\n",
            "240/240 [==============================] - 2s 9ms/step - loss: 3.0793 - val_loss: 1.5792\n",
            "Epoch 2/50\n",
            "240/240 [==============================] - 2s 9ms/step - loss: 1.0673 - val_loss: 0.7025\n",
            "Epoch 3/50\n",
            "240/240 [==============================] - 2s 9ms/step - loss: 0.5337 - val_loss: 0.4057\n",
            "Epoch 4/50\n",
            "240/240 [==============================] - 2s 9ms/step - loss: 0.3431 - val_loss: 0.2928\n",
            "Epoch 5/50\n",
            "240/240 [==============================] - 2s 9ms/step - loss: 0.2670 - val_loss: 0.2456\n",
            "Epoch 6/50\n",
            "240/240 [==============================] - 2s 9ms/step - loss: 0.2332 - val_loss: 0.2225\n",
            "Epoch 7/50\n",
            "240/240 [==============================] - 2s 9ms/step - loss: 0.2151 - val_loss: 0.2087\n",
            "Epoch 8/50\n",
            "240/240 [==============================] - 2s 9ms/step - loss: 0.2034 - val_loss: 0.1987\n",
            "Epoch 9/50\n",
            "240/240 [==============================] - 2s 9ms/step - loss: 0.1948 - val_loss: 0.1912\n",
            "Epoch 10/50\n",
            "240/240 [==============================] - 2s 9ms/step - loss: 0.1881 - val_loss: 0.1851\n",
            "Epoch 11/50\n",
            "240/240 [==============================] - 2s 9ms/step - loss: 0.1825 - val_loss: 0.1798\n",
            "Epoch 12/50\n",
            "240/240 [==============================] - 2s 9ms/step - loss: 0.1773 - val_loss: 0.1744\n",
            "Epoch 13/50\n",
            "240/240 [==============================] - 2s 9ms/step - loss: 0.1722 - val_loss: 0.1694\n",
            "Epoch 14/50\n",
            "240/240 [==============================] - 2s 9ms/step - loss: 0.1679 - val_loss: 0.1655\n",
            "Epoch 15/50\n",
            "240/240 [==============================] - 2s 9ms/step - loss: 0.1645 - val_loss: 0.1622\n",
            "Epoch 16/50\n",
            "240/240 [==============================] - 2s 9ms/step - loss: 0.1615 - val_loss: 0.1594\n",
            "Epoch 17/50\n",
            "240/240 [==============================] - 2s 9ms/step - loss: 0.1590 - val_loss: 0.1570\n",
            "Epoch 18/50\n",
            "240/240 [==============================] - 2s 9ms/step - loss: 0.1568 - val_loss: 0.1548\n",
            "Epoch 19/50\n",
            "240/240 [==============================] - 2s 9ms/step - loss: 0.1548 - val_loss: 0.1529\n",
            "Epoch 20/50\n",
            "240/240 [==============================] - 2s 9ms/step - loss: 0.1530 - val_loss: 0.1510\n",
            "Epoch 21/50\n",
            "240/240 [==============================] - 2s 9ms/step - loss: 0.1512 - val_loss: 0.1494\n",
            "Epoch 22/50\n",
            "240/240 [==============================] - 2s 9ms/step - loss: 0.1496 - val_loss: 0.1478\n",
            "Epoch 23/50\n",
            "240/240 [==============================] - 2s 9ms/step - loss: 0.1481 - val_loss: 0.1462\n",
            "Epoch 24/50\n",
            "240/240 [==============================] - 2s 9ms/step - loss: 0.1467 - val_loss: 0.1449\n",
            "Epoch 25/50\n",
            "240/240 [==============================] - 2s 9ms/step - loss: 0.1453 - val_loss: 0.1434\n",
            "Epoch 26/50\n",
            "240/240 [==============================] - 2s 9ms/step - loss: 0.1438 - val_loss: 0.1419\n",
            "Epoch 27/50\n",
            "240/240 [==============================] - 2s 9ms/step - loss: 0.1423 - val_loss: 0.1403\n",
            "Epoch 28/50\n",
            "240/240 [==============================] - 2s 9ms/step - loss: 0.1407 - val_loss: 0.1387\n",
            "Epoch 29/50\n",
            "240/240 [==============================] - 2s 9ms/step - loss: 0.1391 - val_loss: 0.1370\n",
            "Epoch 30/50\n",
            "240/240 [==============================] - 2s 9ms/step - loss: 0.1374 - val_loss: 0.1352\n",
            "Epoch 31/50\n",
            "240/240 [==============================] - 2s 9ms/step - loss: 0.1355 - val_loss: 0.1331\n",
            "Epoch 32/50\n",
            "240/240 [==============================] - 2s 9ms/step - loss: 0.1334 - val_loss: 0.1306\n",
            "Epoch 33/50\n",
            "240/240 [==============================] - 2s 10ms/step - loss: 0.1310 - val_loss: 0.1282\n",
            "Epoch 34/50\n",
            "240/240 [==============================] - 2s 9ms/step - loss: 0.1286 - val_loss: 0.1258\n",
            "Epoch 35/50\n",
            "240/240 [==============================] - 2s 9ms/step - loss: 0.1262 - val_loss: 0.1235\n",
            "Epoch 36/50\n",
            "240/240 [==============================] - 2s 9ms/step - loss: 0.1241 - val_loss: 0.1217\n",
            "Epoch 37/50\n",
            "240/240 [==============================] - 2s 9ms/step - loss: 0.1225 - val_loss: 0.1201\n",
            "Epoch 38/50\n",
            "240/240 [==============================] - 2s 9ms/step - loss: 0.1212 - val_loss: 0.1190\n",
            "Epoch 39/50\n",
            "240/240 [==============================] - 2s 9ms/step - loss: 0.1201 - val_loss: 0.1180\n",
            "Epoch 40/50\n",
            "240/240 [==============================] - 2s 9ms/step - loss: 0.1191 - val_loss: 0.1171\n",
            "Epoch 41/50\n",
            "240/240 [==============================] - 2s 9ms/step - loss: 0.1182 - val_loss: 0.1163\n",
            "Epoch 42/50\n",
            "240/240 [==============================] - 2s 9ms/step - loss: 0.1173 - val_loss: 0.1152\n",
            "Epoch 43/50\n",
            "240/240 [==============================] - 2s 9ms/step - loss: 0.1162 - val_loss: 0.1141\n",
            "Epoch 44/50\n",
            "240/240 [==============================] - 2s 9ms/step - loss: 0.1149 - val_loss: 0.1126\n",
            "Epoch 45/50\n",
            "240/240 [==============================] - 2s 9ms/step - loss: 0.1133 - val_loss: 0.1109\n",
            "Epoch 46/50\n",
            "240/240 [==============================] - 2s 9ms/step - loss: 0.1116 - val_loss: 0.1092\n",
            "Epoch 47/50\n",
            "240/240 [==============================] - 2s 9ms/step - loss: 0.1102 - val_loss: 0.1082\n",
            "Epoch 48/50\n",
            "240/240 [==============================] - 2s 9ms/step - loss: 0.1092 - val_loss: 0.1073\n",
            "Epoch 49/50\n",
            "240/240 [==============================] - 2s 9ms/step - loss: 0.1084 - val_loss: 0.1064\n",
            "Epoch 50/50\n",
            "240/240 [==============================] - 2s 9ms/step - loss: 0.1076 - val_loss: 0.1056\n"
          ],
          "name": "stdout"
        },
        {
          "output_type": "execute_result",
          "data": {
            "text/plain": [
              "<tensorflow.python.keras.callbacks.History at 0x7f19e030d978>"
            ]
          },
          "metadata": {
            "tags": []
          },
          "execution_count": 79
        }
      ]
    },
    {
      "cell_type": "code",
      "metadata": {
        "id": "FWuy26x_hr1E",
        "colab_type": "code",
        "colab": {}
      },
      "source": [
        "encoded_img = encoded_model_0.predict(x_test)"
      ],
      "execution_count": 80,
      "outputs": []
    },
    {
      "cell_type": "code",
      "metadata": {
        "id": "IrZKr5n6mLUt",
        "colab_type": "code",
        "colab": {}
      },
      "source": [
        "decoded_img = decoded_model_0.predict(encoded_img)"
      ],
      "execution_count": 81,
      "outputs": []
    },
    {
      "cell_type": "code",
      "metadata": {
        "id": "K9WBgXwVmcVh",
        "colab_type": "code",
        "colab": {
          "base_uri": "https://localhost:8080/",
          "height": 209
        },
        "outputId": "f38d66eb-7845-4a0e-c4c7-3b36925bee34"
      },
      "source": [
        "import matplotlib.pyplot as plt\n",
        "n = 10\n",
        "plt.figure(figsize = (20,4))\n",
        "for i in range(n):\n",
        "  ax = plt.subplot(2, n , i+1)\n",
        "  plt.imshow(x_test[i].reshape(28,28))\n",
        "  plt.gray()\n",
        "  ax.get_xaxis().set_visible(False)\n",
        "  ax.get_yaxis().set_visible(False)\n",
        "\n",
        "  ax = plt.subplot(2, n , i+1 +n)\n",
        "  plt.imshow(decoded_img[i].reshape(28,28))\n",
        "  plt.gray()\n",
        "  ax.get_xaxis().set_visible(False)\n",
        "  ax.get_yaxis().set_visible(False)\n",
        "plt.show()\n"
      ],
      "execution_count": 82,
      "outputs": [
        {
          "output_type": "display_data",
          "data": {
            "image/png": "[encoded data removed]",
            "text/plain": [
              "<Figure size 1440x288 with 20 Axes>"
            ]
          },
          "metadata": {
            "tags": [],
            "needs_background": "light"
          }
        }
      ]
    },
    {
      "cell_type": "code",
      "metadata": {
        "id": "dB8tjgZCoGEz",
        "colab_type": "code",
        "colab": {}
      },
      "source": [
        ""
      ],
      "execution_count": null,
      "outputs": []
    }
  ]
}