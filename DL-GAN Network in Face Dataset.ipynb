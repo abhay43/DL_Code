{
  "nbformat": 4,
  "nbformat_minor": 0,
  "metadata": {
    "colab": {
      "name": "Overview of Colaboratory Features",
      "provenance": [],
      "collapsed_sections": [],
      "toc_visible": true,
      "include_colab_link": true
    },
    "kernelspec": {
      "display_name": "Python 3",
      "name": "python3"
    },
    "accelerator": "GPU"
  },
  "cells": [
    {
      "cell_type": "markdown",
      "metadata": {
        "id": "view-in-github",
        "colab_type": "text"
      },
      "source": [
        "<a href=\"https://colab.research.google.com/github/abhay43/ML_Code/blob/master/DL-GAN%20Network%20in%20Face%20Dataset.ipynb\" target=\"_parent\"><img src=\"https://colab.research.google.com/assets/colab-badge.svg\" alt=\"Open In Colab\"/></a>"
      ]
    },
    {
      "cell_type": "code",
      "metadata": {
        "id": "AAyXA08WYi53",
        "colab_type": "code",
        "colab": {
          "base_uri": "https://localhost:8080/",
          "height": 122
        },
        "outputId": "bb79e0e1-ea8b-46e7-c4d9-30cad0069edd"
      },
      "source": [
        "from google.colab import drive\n",
        "drive.mount('/content/drive')"
      ],
      "execution_count": 1,
      "outputs": [
        {
          "output_type": "stream",
          "text": [
            "Go to this URL in a browser: https://accounts.google.com/o/oauth2/auth?client_id=947318989803-6bn6qk8qdgf4n4g3pfee6491hc0brc4i.apps.googleusercontent.com&redirect_uri=urn%3aietf%3awg%3aoauth%3a2.0%3aoob&response_type=code&scope=email%20https%3a%2f%2fwww.googleapis.com%2fauth%2fdocs.test%20https%3a%2f%2fwww.googleapis.com%2fauth%2fdrive%20https%3a%2f%2fwww.googleapis.com%2fauth%2fdrive.photos.readonly%20https%3a%2f%2fwww.googleapis.com%2fauth%2fpeopleapi.readonly\n",
            "\n",
            "Enter your authorization code:\n",
            "··········\n",
            "Mounted at /content/drive\n"
          ],
          "name": "stdout"
        }
      ]
    },
    {
      "cell_type": "code",
      "metadata": {
        "id": "lrXrEvQeYjQr",
        "colab_type": "code",
        "colab": {}
      },
      "source": [
        "from zipfile import ZipFile"
      ],
      "execution_count": 2,
      "outputs": []
    },
    {
      "cell_type": "code",
      "metadata": {
        "id": "FO-BySDpY1L3",
        "colab_type": "code",
        "colab": {
          "base_uri": "https://localhost:8080/",
          "height": 85
        },
        "outputId": "cc791456-9517-4d0a-8b4d-079ba8175dbf"
      },
      "source": [
        "file_name = '/content/drive/My Drive/Faltu/28577_36420_compressed_fer2013.csv.zip'\n",
        "with ZipFile(file_name, 'r') as zip: \n",
        "    # printing all the contents of the zip file \n",
        "    zip.printdir() \n",
        "  \n",
        "    # extracting all the files \n",
        "    print('Extracting all the files now...') \n",
        "    zip.extractall() \n",
        "    print('Done!')"
      ],
      "execution_count": 3,
      "outputs": [
        {
          "output_type": "stream",
          "text": [
            "File Name                                             Modified             Size\n",
            "fer2013.csv                                    2019-10-01 04:15:22    301072766\n",
            "Extracting all the files now...\n",
            "Done!\n"
          ],
          "name": "stdout"
        }
      ]
    },
    {
      "cell_type": "code",
      "metadata": {
        "id": "m0hddkj4Y22n",
        "colab_type": "code",
        "colab": {}
      },
      "source": [
        "import pandas as pd\n",
        "import matplotlib.pyplot as plt\n"
      ],
      "execution_count": 4,
      "outputs": []
    },
    {
      "cell_type": "code",
      "metadata": {
        "id": "5KicoKiTZWHn",
        "colab_type": "code",
        "colab": {}
      },
      "source": [
        "import os\n",
        "import cv2\n",
        "import numpy as np\n"
      ],
      "execution_count": 5,
      "outputs": []
    },
    {
      "cell_type": "code",
      "metadata": {
        "id": "x_iSW5wby4M2",
        "colab_type": "code",
        "colab": {}
      },
      "source": [
        "import pandas as pd\n",
        "data = pd.read_csv('/content/fer2013.csv')"
      ],
      "execution_count": 6,
      "outputs": []
    },
    {
      "cell_type": "code",
      "metadata": {
        "id": "0_9a6pvnv4xO",
        "colab_type": "code",
        "colab": {
          "base_uri": "https://localhost:8080/",
          "height": 34
        },
        "outputId": "0260868b-32f9-4bdd-88d8-3b11ac1ac850"
      },
      "source": [
        "len(data['pixels'])"
      ],
      "execution_count": 7,
      "outputs": [
        {
          "output_type": "execute_result",
          "data": {
            "text/plain": [
              "35887"
            ]
          },
          "metadata": {
            "tags": []
          },
          "execution_count": 7
        }
      ]
    },
    {
      "cell_type": "code",
      "metadata": {
        "id": "qCwQuaATZ3qf",
        "colab_type": "code",
        "colab": {}
      },
      "source": [
        "pixels = list()\n",
        "for index,row in data.iterrows():\n",
        "  pixels.append(list(map(int, (row['pixels'].split(' ')))) )\n",
        "\n"
      ],
      "execution_count": 8,
      "outputs": []
    },
    {
      "cell_type": "code",
      "metadata": {
        "id": "yM0WEq5oZ5jf",
        "colab_type": "code",
        "colab": {}
      },
      "source": [
        "images_train = np.array(pixels).reshape(len(pixels), 2304)"
      ],
      "execution_count": 9,
      "outputs": []
    },
    {
      "cell_type": "code",
      "metadata": {
        "id": "sVbJ8ULC1bac",
        "colab_type": "code",
        "colab": {
          "base_uri": "https://localhost:8080/",
          "height": 34
        },
        "outputId": "5ede4985-c5cf-4a45-fa90-286c51c73ef0"
      },
      "source": [
        "images_train.shape"
      ],
      "execution_count": 10,
      "outputs": [
        {
          "output_type": "execute_result",
          "data": {
            "text/plain": [
              "(35887, 2304)"
            ]
          },
          "metadata": {
            "tags": []
          },
          "execution_count": 10
        }
      ]
    },
    {
      "cell_type": "code",
      "metadata": {
        "id": "MttOfb6_jIw0",
        "colab_type": "code",
        "colab": {}
      },
      "source": [
        "from tensorflow.keras.layers import Input\n",
        "from tensorflow.keras.models import Model, Sequential\n",
        "from tensorflow.keras.layers import Dense, Dropout, Conv2D, Activation, Conv2DTranspose\n",
        "from tensorflow.keras.layers import LeakyReLU\n",
        "from tensorflow.keras.optimizers import Adam\n",
        "from tensorflow.keras import initializers\n",
        "import tensorflow.keras as kr\n",
        "import tensorflow as tf\n",
        "import imageio"
      ],
      "execution_count": 11,
      "outputs": []
    },
    {
      "cell_type": "code",
      "metadata": {
        "id": "mHGAdRsXh6cL",
        "colab_type": "code",
        "colab": {}
      },
      "source": [
        "epochs = 100\n",
        "batchsize = 20\n",
        "training_samples = 100\n",
        "test_samples = 100\n",
        "train_data_dir=r\"/content/training\"\n",
        "test_data_dir=r\"/content/test\"\n",
        "img_weight, img_height =48, 48 \n",
        "adam = Adam(lr=0.0002, beta_1=0.5)\n",
        "randomDim =  48"
      ],
      "execution_count": 12,
      "outputs": []
    },
    {
      "cell_type": "code",
      "metadata": {
        "id": "Kd_yfJ2MiGht",
        "colab_type": "code",
        "colab": {}
      },
      "source": [
        "import tensorflow.keras.backend as k\n",
        "if k.image_data_format()=='channels_first': \n",
        "    layer_input=(3, img_weight, img_height)\n",
        "else:\n",
        "    layer_input=(img_weight,img_height,3)"
      ],
      "execution_count": 13,
      "outputs": []
    },
    {
      "cell_type": "code",
      "metadata": {
        "id": "3RlIWKnIaG0w",
        "colab_type": "code",
        "colab": {}
      },
      "source": [
        "def build_generator():\n",
        "  gf = 48\n",
        "  channels = 3\n",
        "  def conv2d(layer_input, filters=16, strides=1, name=None, f_size=4):\n",
        "      d = Conv2D(filters, kernel_size=f_size, strides=strides, padding='same', name=name)(layer_input)\n",
        "      #d = InstanceNormalization(name=name+\"_bn\")(d)\n",
        "      d = Activation('relu')(d)\n",
        "      return d\n",
        "    \n",
        "  def residual(layer_input, filters=16, strides=1, name=None, f_size=3):\n",
        "      d = conv2d(layer_input, filters=filters, strides=strides, name=name, f_size=f_size)\n",
        "      d = Conv2D(filters, kernel_size=f_size, strides=strides, padding='same', name=name+\"_2\")(d)\n",
        "      #d = InstanceNormalization(name=name+\"_bn2\")(d)\n",
        "      d = kr.layers.add([d, layer_input])\n",
        "      return d\n",
        "\n",
        "  def conv2d_transpose(layer_input, filters=16, strides=1, name=None, f_size=4):\n",
        "      u = Conv2DTranspose(filters, strides=strides, name=name, kernel_size=f_size, padding='same')(layer_input)\n",
        "      #u = InstanceNormalization(name=name+\"_bn\")(u)\n",
        "      u = Activation('relu')(u)\n",
        "      return u\n",
        "\n",
        "  # Image input\n",
        "  c0 = Input(shape=layer_input)\n",
        "  c1 = conv2d(c0, filters=gf, strides=1, name=\"g_e1\", f_size=7)\n",
        "  c2 = conv2d(c1, filters=gf*2, strides=2, name=\"g_e2\", f_size=3)\n",
        "  c3 = conv2d(c2, filters=gf*4, strides=2, name=\"g_e3\", f_size=3)\n",
        "\n",
        "  r1 = residual(c3, filters=gf*4, name='g_r1')\n",
        "  r2 = residual(r1, gf*4, name='g_r2')\n",
        "  r3 = residual(r2, gf*4, name='g_r3')\n",
        "  r4 = residual(r3, gf*4, name='g_r4')\n",
        "  r5 = residual(r4, gf*4, name='g_r5')\n",
        "  r6 = residual(r5, gf*4, name='g_r6')\n",
        "  r7 = residual(r6, gf*4, name='g_r7')\n",
        "  r8 = residual(r7, gf*4, name='g_r8')\n",
        "  r9 = residual(r8, gf*4, name='g_r9')\n",
        "\n",
        "  d1 = conv2d_transpose(r9, filters=gf*2, f_size=3, strides=2, name='g_d1_dc')\n",
        "  d2 = conv2d_transpose(d1, filters=gf, f_size=3, strides=2, name='g_d2_dc')\n",
        "\n",
        "  output_img = Conv2D(channels, kernel_size=7, strides=1, padding='same', activation='tanh')(d2)\n",
        "\n",
        "  return Model(inputs=[c0], outputs=[output_img])"
      ],
      "execution_count": 14,
      "outputs": []
    },
    {
      "cell_type": "code",
      "metadata": {
        "id": "GDUFkRM8hYnU",
        "colab_type": "code",
        "colab": {}
      },
      "source": [
        "model_gen = build_generator()\n",
        "model_gen.compile(loss='binary_crossentropy', optimizer=adam)"
      ],
      "execution_count": 15,
      "outputs": []
    },
    {
      "cell_type": "code",
      "metadata": {
        "id": "zK0iM0uciyBX",
        "colab_type": "code",
        "colab": {
          "base_uri": "https://localhost:8080/",
          "height": 1000
        },
        "outputId": "70c59eba-d5b4-49e1-ea4f-60c508dadb30"
      },
      "source": [
        "model_gen.summary()"
      ],
      "execution_count": 16,
      "outputs": [
        {
          "output_type": "stream",
          "text": [
            "Model: \"model\"\n",
            "__________________________________________________________________________________________________\n",
            "Layer (type)                    Output Shape         Param #     Connected to                     \n",
            "==================================================================================================\n",
            "input_1 (InputLayer)            [(None, 48, 48, 3)]  0                                            \n",
            "__________________________________________________________________________________________________\n",
            "g_e1 (Conv2D)                   (None, 48, 48, 48)   7104        input_1[0][0]                    \n",
            "__________________________________________________________________________________________________\n",
            "activation (Activation)         (None, 48, 48, 48)   0           g_e1[0][0]                       \n",
            "__________________________________________________________________________________________________\n",
            "g_e2 (Conv2D)                   (None, 24, 24, 96)   41568       activation[0][0]                 \n",
            "__________________________________________________________________________________________________\n",
            "activation_1 (Activation)       (None, 24, 24, 96)   0           g_e2[0][0]                       \n",
            "__________________________________________________________________________________________________\n",
            "g_e3 (Conv2D)                   (None, 12, 12, 192)  166080      activation_1[0][0]               \n",
            "__________________________________________________________________________________________________\n",
            "activation_2 (Activation)       (None, 12, 12, 192)  0           g_e3[0][0]                       \n",
            "__________________________________________________________________________________________________\n",
            "g_r1 (Conv2D)                   (None, 12, 12, 192)  331968      activation_2[0][0]               \n",
            "__________________________________________________________________________________________________\n",
            "activation_3 (Activation)       (None, 12, 12, 192)  0           g_r1[0][0]                       \n",
            "__________________________________________________________________________________________________\n",
            "g_r1_2 (Conv2D)                 (None, 12, 12, 192)  331968      activation_3[0][0]               \n",
            "__________________________________________________________________________________________________\n",
            "add (Add)                       (None, 12, 12, 192)  0           g_r1_2[0][0]                     \n",
            "                                                                 activation_2[0][0]               \n",
            "__________________________________________________________________________________________________\n",
            "g_r2 (Conv2D)                   (None, 12, 12, 192)  331968      add[0][0]                        \n",
            "__________________________________________________________________________________________________\n",
            "activation_4 (Activation)       (None, 12, 12, 192)  0           g_r2[0][0]                       \n",
            "__________________________________________________________________________________________________\n",
            "g_r2_2 (Conv2D)                 (None, 12, 12, 192)  331968      activation_4[0][0]               \n",
            "__________________________________________________________________________________________________\n",
            "add_1 (Add)                     (None, 12, 12, 192)  0           g_r2_2[0][0]                     \n",
            "                                                                 add[0][0]                        \n",
            "__________________________________________________________________________________________________\n",
            "g_r3 (Conv2D)                   (None, 12, 12, 192)  331968      add_1[0][0]                      \n",
            "__________________________________________________________________________________________________\n",
            "activation_5 (Activation)       (None, 12, 12, 192)  0           g_r3[0][0]                       \n",
            "__________________________________________________________________________________________________\n",
            "g_r3_2 (Conv2D)                 (None, 12, 12, 192)  331968      activation_5[0][0]               \n",
            "__________________________________________________________________________________________________\n",
            "add_2 (Add)                     (None, 12, 12, 192)  0           g_r3_2[0][0]                     \n",
            "                                                                 add_1[0][0]                      \n",
            "__________________________________________________________________________________________________\n",
            "g_r4 (Conv2D)                   (None, 12, 12, 192)  331968      add_2[0][0]                      \n",
            "__________________________________________________________________________________________________\n",
            "activation_6 (Activation)       (None, 12, 12, 192)  0           g_r4[0][0]                       \n",
            "__________________________________________________________________________________________________\n",
            "g_r4_2 (Conv2D)                 (None, 12, 12, 192)  331968      activation_6[0][0]               \n",
            "__________________________________________________________________________________________________\n",
            "add_3 (Add)                     (None, 12, 12, 192)  0           g_r4_2[0][0]                     \n",
            "                                                                 add_2[0][0]                      \n",
            "__________________________________________________________________________________________________\n",
            "g_r5 (Conv2D)                   (None, 12, 12, 192)  331968      add_3[0][0]                      \n",
            "__________________________________________________________________________________________________\n",
            "activation_7 (Activation)       (None, 12, 12, 192)  0           g_r5[0][0]                       \n",
            "__________________________________________________________________________________________________\n",
            "g_r5_2 (Conv2D)                 (None, 12, 12, 192)  331968      activation_7[0][0]               \n",
            "__________________________________________________________________________________________________\n",
            "add_4 (Add)                     (None, 12, 12, 192)  0           g_r5_2[0][0]                     \n",
            "                                                                 add_3[0][0]                      \n",
            "__________________________________________________________________________________________________\n",
            "g_r6 (Conv2D)                   (None, 12, 12, 192)  331968      add_4[0][0]                      \n",
            "__________________________________________________________________________________________________\n",
            "activation_8 (Activation)       (None, 12, 12, 192)  0           g_r6[0][0]                       \n",
            "__________________________________________________________________________________________________\n",
            "g_r6_2 (Conv2D)                 (None, 12, 12, 192)  331968      activation_8[0][0]               \n",
            "__________________________________________________________________________________________________\n",
            "add_5 (Add)                     (None, 12, 12, 192)  0           g_r6_2[0][0]                     \n",
            "                                                                 add_4[0][0]                      \n",
            "__________________________________________________________________________________________________\n",
            "g_r7 (Conv2D)                   (None, 12, 12, 192)  331968      add_5[0][0]                      \n",
            "__________________________________________________________________________________________________\n",
            "activation_9 (Activation)       (None, 12, 12, 192)  0           g_r7[0][0]                       \n",
            "__________________________________________________________________________________________________\n",
            "g_r7_2 (Conv2D)                 (None, 12, 12, 192)  331968      activation_9[0][0]               \n",
            "__________________________________________________________________________________________________\n",
            "add_6 (Add)                     (None, 12, 12, 192)  0           g_r7_2[0][0]                     \n",
            "                                                                 add_5[0][0]                      \n",
            "__________________________________________________________________________________________________\n",
            "g_r8 (Conv2D)                   (None, 12, 12, 192)  331968      add_6[0][0]                      \n",
            "__________________________________________________________________________________________________\n",
            "activation_10 (Activation)      (None, 12, 12, 192)  0           g_r8[0][0]                       \n",
            "__________________________________________________________________________________________________\n",
            "g_r8_2 (Conv2D)                 (None, 12, 12, 192)  331968      activation_10[0][0]              \n",
            "__________________________________________________________________________________________________\n",
            "add_7 (Add)                     (None, 12, 12, 192)  0           g_r8_2[0][0]                     \n",
            "                                                                 add_6[0][0]                      \n",
            "__________________________________________________________________________________________________\n",
            "g_r9 (Conv2D)                   (None, 12, 12, 192)  331968      add_7[0][0]                      \n",
            "__________________________________________________________________________________________________\n",
            "activation_11 (Activation)      (None, 12, 12, 192)  0           g_r9[0][0]                       \n",
            "__________________________________________________________________________________________________\n",
            "g_r9_2 (Conv2D)                 (None, 12, 12, 192)  331968      activation_11[0][0]              \n",
            "__________________________________________________________________________________________________\n",
            "add_8 (Add)                     (None, 12, 12, 192)  0           g_r9_2[0][0]                     \n",
            "                                                                 add_7[0][0]                      \n",
            "__________________________________________________________________________________________________\n",
            "g_d1_dc (Conv2DTranspose)       (None, 24, 24, 96)   165984      add_8[0][0]                      \n",
            "__________________________________________________________________________________________________\n",
            "activation_12 (Activation)      (None, 24, 24, 96)   0           g_d1_dc[0][0]                    \n",
            "__________________________________________________________________________________________________\n",
            "g_d2_dc (Conv2DTranspose)       (None, 48, 48, 48)   41520       activation_12[0][0]              \n",
            "__________________________________________________________________________________________________\n",
            "activation_13 (Activation)      (None, 48, 48, 48)   0           g_d2_dc[0][0]                    \n",
            "__________________________________________________________________________________________________\n",
            "conv2d (Conv2D)                 (None, 48, 48, 3)    7059        activation_13[0][0]              \n",
            "==================================================================================================\n",
            "Total params: 6,404,739\n",
            "Trainable params: 6,404,739\n",
            "Non-trainable params: 0\n",
            "__________________________________________________________________________________________________\n"
          ],
          "name": "stdout"
        }
      ]
    },
    {
      "cell_type": "code",
      "metadata": {
        "id": "Sy29d1obkyPy",
        "colab_type": "code",
        "colab": {}
      },
      "source": [
        "def build_discriminator():\n",
        "    df = 48\n",
        "    def d_layer(layer_input, filters, f_size=4, normalization=True):\n",
        "        \"\"\"Discriminator layer\"\"\"\n",
        "        d = Conv2D(filters, kernel_size=f_size, strides=2, padding='same')(layer_input)\n",
        "        d = LeakyReLU(alpha=0.2)(d)\n",
        "        #if normalization:\n",
        "        #    d = InstanceNormalization()(d)\n",
        "        return d\n",
        "\n",
        "    img = Input(shape= layer_input)\n",
        "\n",
        "    d1 = d_layer(img, df, normalization=False)\n",
        "    d2 = d_layer(d1, df*2)\n",
        "    d3 = d_layer(d2, df*4)\n",
        "    d4 = d_layer(d3, df*8)\n",
        "\n",
        "    validity = Conv2D(1, kernel_size=4, strides=1, padding='same')(d4)\n",
        "\n",
        "    return Model(img, validity)"
      ],
      "execution_count": 17,
      "outputs": []
    },
    {
      "cell_type": "code",
      "metadata": {
        "id": "oltTbrhWlygZ",
        "colab_type": "code",
        "colab": {}
      },
      "source": [
        "model_dis = build_discriminator()"
      ],
      "execution_count": 18,
      "outputs": []
    },
    {
      "cell_type": "code",
      "metadata": {
        "id": "RBgQ7KY2IIak",
        "colab_type": "code",
        "colab": {}
      },
      "source": [
        "model_dis.compile(loss='binary_crossentropy', optimizer=adam)"
      ],
      "execution_count": 19,
      "outputs": []
    },
    {
      "cell_type": "code",
      "metadata": {
        "id": "u8_Bn8n_l-qI",
        "colab_type": "code",
        "colab": {
          "base_uri": "https://localhost:8080/",
          "height": 493
        },
        "outputId": "f017c2ee-300b-4164-bf93-d7a6e7d9836d"
      },
      "source": [
        "model_dis.summary()"
      ],
      "execution_count": 20,
      "outputs": [
        {
          "output_type": "stream",
          "text": [
            "Model: \"model_1\"\n",
            "_________________________________________________________________\n",
            "Layer (type)                 Output Shape              Param #   \n",
            "=================================================================\n",
            "input_2 (InputLayer)         [(None, 48, 48, 3)]       0         \n",
            "_________________________________________________________________\n",
            "conv2d_1 (Conv2D)            (None, 24, 24, 48)        2352      \n",
            "_________________________________________________________________\n",
            "leaky_re_lu (LeakyReLU)      (None, 24, 24, 48)        0         \n",
            "_________________________________________________________________\n",
            "conv2d_2 (Conv2D)            (None, 12, 12, 96)        73824     \n",
            "_________________________________________________________________\n",
            "leaky_re_lu_1 (LeakyReLU)    (None, 12, 12, 96)        0         \n",
            "_________________________________________________________________\n",
            "conv2d_3 (Conv2D)            (None, 6, 6, 192)         295104    \n",
            "_________________________________________________________________\n",
            "leaky_re_lu_2 (LeakyReLU)    (None, 6, 6, 192)         0         \n",
            "_________________________________________________________________\n",
            "conv2d_4 (Conv2D)            (None, 3, 3, 384)         1180032   \n",
            "_________________________________________________________________\n",
            "leaky_re_lu_3 (LeakyReLU)    (None, 3, 3, 384)         0         \n",
            "_________________________________________________________________\n",
            "conv2d_5 (Conv2D)            (None, 3, 3, 1)           6145      \n",
            "=================================================================\n",
            "Total params: 1,557,457\n",
            "Trainable params: 1,557,457\n",
            "Non-trainable params: 0\n",
            "_________________________________________________________________\n"
          ],
          "name": "stdout"
        }
      ]
    },
    {
      "cell_type": "code",
      "metadata": {
        "id": "iCCup0hBmMkl",
        "colab_type": "code",
        "colab": {}
      },
      "source": [
        "model_dis.trainable = False\n",
        "ganInput = Input(shape=(layer_input)) #100\n",
        "x = model_gen(ganInput)  #784 G(z)\n",
        "ganOutput = model_dis(x) #1\n",
        "gan = Model(inputs=ganInput, outputs=ganOutput)\n",
        "gan.compile(loss='binary_crossentropy', optimizer=adam)"
      ],
      "execution_count": 21,
      "outputs": []
    },
    {
      "cell_type": "code",
      "metadata": {
        "id": "NmJtFwZFoJ2h",
        "colab_type": "code",
        "colab": {
          "base_uri": "https://localhost:8080/",
          "height": 255
        },
        "outputId": "8678caf4-7b64-4ffa-8ab8-a6a42d1426f9"
      },
      "source": [
        "gan.summary()"
      ],
      "execution_count": 22,
      "outputs": [
        {
          "output_type": "stream",
          "text": [
            "Model: \"model_2\"\n",
            "_________________________________________________________________\n",
            "Layer (type)                 Output Shape              Param #   \n",
            "=================================================================\n",
            "input_3 (InputLayer)         [(None, 48, 48, 3)]       0         \n",
            "_________________________________________________________________\n",
            "model (Model)                (None, 48, 48, 3)         6404739   \n",
            "_________________________________________________________________\n",
            "model_1 (Model)              (None, 3, 3, 1)           1557457   \n",
            "=================================================================\n",
            "Total params: 7,962,196\n",
            "Trainable params: 6,404,739\n",
            "Non-trainable params: 1,557,457\n",
            "_________________________________________________________________\n"
          ],
          "name": "stdout"
        }
      ]
    },
    {
      "cell_type": "code",
      "metadata": {
        "id": "196TyVgAoiAn",
        "colab_type": "code",
        "colab": {}
      },
      "source": [
        "def plotGeneratedImages(epoch,batchSize, examples=100, dim=(10, 10), figsize=(10, 10)):\n",
        "  noise = np.random.rand(48 * 48 * 3 * batchSize)            \n",
        "  noise = -1 + noise * 2\n",
        "  noise = noise.reshape((batchSize, 48, 48, 3))\n",
        "  generatedImages = model_gen.predict(noise)\n",
        "  generatedImages = generatedImages.reshape(batchSize, 48, 48, 3)\n",
        "  print('Plotting')\n",
        "  plt.figure(figsize=figsize)\n",
        "  for i in range(generatedImages.shape[0]):\n",
        "      plt.subplot(dim[0], dim[1], i+1)\n",
        "      plt.imshow(generatedImages[i], interpolation='nearest', cmap='gray_r')\n",
        "      plt.axis('off')\n",
        "  plt.tight_layout()\n",
        "  plt.savefig('gan_generated_image_epoch_%d.png' % epoch)"
      ],
      "execution_count": 50,
      "outputs": []
    },
    {
      "cell_type": "code",
      "metadata": {
        "id": "-VjlH6H9oquu",
        "colab_type": "code",
        "colab": {}
      },
      "source": [
        "def train(epochs=1, batchSize=128):\n",
        "    batchCount = int(images_train.shape[0] / batchSize) #60000/128\n",
        "    print ('Epochs:', epochs)\n",
        "    print ('Batch size:', batchSize)\n",
        "    print ('Batches per epoch:', batchCount)\n",
        "    ss =1\n",
        "    for e in range(1, epochs+1):\n",
        "        print ('-'*15, 'Epoch %d' % e, '-'*15)\n",
        "        \n",
        "        for _ in range(batchCount): #358\n",
        "                        \n",
        "            print('batch running-'+str(ss))\n",
        "            ss = ss+1\n",
        "            # Get a random set of input noise and images\n",
        "            noise = np.random.rand(48 * 48 * 3 * batchSize)            \n",
        "            noise = -1 + noise * 2\n",
        "            noise = noise.reshape((batchSize, 48, 48, 3))\n",
        "            #img = imageio.imread('/img.png', as_gray=False, pilmode=\"RGB\").astype(np.float)\n",
        "            #noise = img + 3 * img.std() * np.random.random(img.shape)\n",
        "           # noise = np.random.normal(0, 1, size=(128, 3)) #generating z 128*100            \n",
        "            imageBatch = images_train[np.random.randint(0, images_train.shape[0], size=(batchSize, 3))] #128*784            \n",
        "            imageBatch = imageBatch.reshape((batchSize, 48, 48,3 ))            \n",
        "            # Generate fake fashion MNIST images\n",
        "            generatedImages = model_gen.predict(noise) #128*784            \n",
        "            # print np.shape(imageBatch), np.shape(generatedImages)\n",
        "            X = np.concatenate([imageBatch, generatedImages]) #256*784\n",
        "            \n",
        "            # Labels for generated and real data\n",
        "            yDis = np.zeros(shape=(batchSize *2, 1,1,1))  #256 size array of all zeros\n",
        "            # One-sided label smoothing\n",
        "            yDis[:batchSize] = 0.9  #making real images label = 0.9\n",
        "            \n",
        "            # Train discriminator\n",
        "            model_dis.trainable = True\n",
        "            dloss = model_dis.train_on_batch(X, yDis)\n",
        "\n",
        "            # Train generator\n",
        "            noise = np.random.rand(48 * 48 * 3 * batchSize)            \n",
        "            noise = -1 + noise * 2\n",
        "            noise = noise.reshape((batchSize, 48, 48, 3))\n",
        "            yGen = np.ones(shape=(batchSize , 1,1,1)) #labels it as one\n",
        "            model_dis.trainable = False\n",
        "            gloss = gan.train_on_batch(noise, yGen)\n",
        "\n",
        "        \n",
        "\n",
        "        if e == 1 or e % 5 == 0:\n",
        "            plotGeneratedImages(e,batchSize,batchSize)"
      ],
      "execution_count": 51,
      "outputs": []
    },
    {
      "cell_type": "code",
      "metadata": {
        "id": "QyGg8PnKowf7",
        "colab_type": "code",
        "colab": {
          "base_uri": "https://localhost:8080/",
          "height": 1000
        },
        "outputId": "0afdeb8d-0d8e-488e-be6f-c944c5f2f3c9"
      },
      "source": [
        "train(1,500)"
      ],
      "execution_count": 52,
      "outputs": [
        {
          "output_type": "stream",
          "text": [
            "Epochs: 1\n",
            "Batch size: 500\n",
            "Batches per epoch: 71\n",
            "--------------- Epoch 1 ---------------\n",
            "batch running-1\n",
            "batch running-2\n",
            "batch running-3\n",
            "batch running-4\n",
            "batch running-5\n",
            "batch running-6\n",
            "batch running-7\n",
            "batch running-8\n",
            "batch running-9\n",
            "batch running-10\n",
            "batch running-11\n",
            "batch running-12\n",
            "batch running-13\n",
            "batch running-14\n",
            "batch running-15\n",
            "batch running-16\n",
            "batch running-17\n",
            "batch running-18\n",
            "batch running-19\n",
            "batch running-20\n",
            "batch running-21\n",
            "batch running-22\n",
            "batch running-23\n",
            "batch running-24\n",
            "batch running-25\n",
            "batch running-26\n",
            "batch running-27\n",
            "batch running-28\n",
            "batch running-29\n",
            "batch running-30\n",
            "batch running-31\n",
            "batch running-32\n",
            "batch running-33\n",
            "batch running-34\n",
            "batch running-35\n",
            "batch running-36\n",
            "batch running-37\n",
            "batch running-38\n",
            "batch running-39\n",
            "batch running-40\n",
            "batch running-41\n",
            "batch running-42\n",
            "batch running-43\n",
            "batch running-44\n",
            "batch running-45\n",
            "batch running-46\n",
            "batch running-47\n",
            "batch running-48\n",
            "batch running-49\n",
            "batch running-50\n",
            "batch running-51\n",
            "batch running-52\n",
            "batch running-53\n",
            "batch running-54\n",
            "batch running-55\n",
            "batch running-56\n",
            "batch running-57\n",
            "batch running-58\n",
            "batch running-59\n",
            "batch running-60\n",
            "batch running-61\n",
            "batch running-62\n",
            "batch running-63\n",
            "batch running-64\n",
            "batch running-65\n",
            "batch running-66\n",
            "batch running-67\n",
            "batch running-68\n",
            "batch running-69\n",
            "batch running-70\n",
            "batch running-71\n"
          ],
          "name": "stdout"
        },
        {
          "output_type": "stream",
          "text": [
            "Clipping input data to the valid range for imshow with RGB data ([0..1] for floats or [0..255] for integers).\n",
            "Clipping input data to the valid range for imshow with RGB data ([0..1] for floats or [0..255] for integers).\n",
            "Clipping input data to the valid range for imshow with RGB data ([0..1] for floats or [0..255] for integers).\n",
            "Clipping input data to the valid range for imshow with RGB data ([0..1] for floats or [0..255] for integers).\n",
            "Clipping input data to the valid range for imshow with RGB data ([0..1] for floats or [0..255] for integers).\n",
            "Clipping input data to the valid range for imshow with RGB data ([0..1] for floats or [0..255] for integers).\n",
            "Clipping input data to the valid range for imshow with RGB data ([0..1] for floats or [0..255] for integers).\n",
            "Clipping input data to the valid range for imshow with RGB data ([0..1] for floats or [0..255] for integers).\n",
            "Clipping input data to the valid range for imshow with RGB data ([0..1] for floats or [0..255] for integers).\n"
          ],
          "name": "stderr"
        },
        {
          "output_type": "stream",
          "text": [
            "Plotting\n"
          ],
          "name": "stdout"
        },
        {
          "output_type": "stream",
          "text": [
            "Clipping input data to the valid range for imshow with RGB data ([0..1] for floats or [0..255] for integers).\n",
            "Clipping input data to the valid range for imshow with RGB data ([0..1] for floats or [0..255] for integers).\n",
            "Clipping input data to the valid range for imshow with RGB data ([0..1] for floats or [0..255] for integers).\n",
            "Clipping input data to the valid range for imshow with RGB data ([0..1] for floats or [0..255] for integers).\n",
            "Clipping input data to the valid range for imshow with RGB data ([0..1] for floats or [0..255] for integers).\n",
            "Clipping input data to the valid range for imshow with RGB data ([0..1] for floats or [0..255] for integers).\n",
            "Clipping input data to the valid range for imshow with RGB data ([0..1] for floats or [0..255] for integers).\n",
            "Clipping input data to the valid range for imshow with RGB data ([0..1] for floats or [0..255] for integers).\n",
            "Clipping input data to the valid range for imshow with RGB data ([0..1] for floats or [0..255] for integers).\n",
            "Clipping input data to the valid range for imshow with RGB data ([0..1] for floats or [0..255] for integers).\n",
            "Clipping input data to the valid range for imshow with RGB data ([0..1] for floats or [0..255] for integers).\n",
            "Clipping input data to the valid range for imshow with RGB data ([0..1] for floats or [0..255] for integers).\n",
            "Clipping input data to the valid range for imshow with RGB data ([0..1] for floats or [0..255] for integers).\n",
            "Clipping input data to the valid range for imshow with RGB data ([0..1] for floats or [0..255] for integers).\n",
            "Clipping input data to the valid range for imshow with RGB data ([0..1] for floats or [0..255] for integers).\n",
            "Clipping input data to the valid range for imshow with RGB data ([0..1] for floats or [0..255] for integers).\n",
            "Clipping input data to the valid range for imshow with RGB data ([0..1] for floats or [0..255] for integers).\n",
            "Clipping input data to the valid range for imshow with RGB data ([0..1] for floats or [0..255] for integers).\n",
            "Clipping input data to the valid range for imshow with RGB data ([0..1] for floats or [0..255] for integers).\n",
            "Clipping input data to the valid range for imshow with RGB data ([0..1] for floats or [0..255] for integers).\n",
            "Clipping input data to the valid range for imshow with RGB data ([0..1] for floats or [0..255] for integers).\n",
            "Clipping input data to the valid range for imshow with RGB data ([0..1] for floats or [0..255] for integers).\n",
            "Clipping input data to the valid range for imshow with RGB data ([0..1] for floats or [0..255] for integers).\n",
            "Clipping input data to the valid range for imshow with RGB data ([0..1] for floats or [0..255] for integers).\n",
            "Clipping input data to the valid range for imshow with RGB data ([0..1] for floats or [0..255] for integers).\n",
            "Clipping input data to the valid range for imshow with RGB data ([0..1] for floats or [0..255] for integers).\n",
            "Clipping input data to the valid range for imshow with RGB data ([0..1] for floats or [0..255] for integers).\n",
            "Clipping input data to the valid range for imshow with RGB data ([0..1] for floats or [0..255] for integers).\n",
            "Clipping input data to the valid range for imshow with RGB data ([0..1] for floats or [0..255] for integers).\n",
            "Clipping input data to the valid range for imshow with RGB data ([0..1] for floats or [0..255] for integers).\n",
            "Clipping input data to the valid range for imshow with RGB data ([0..1] for floats or [0..255] for integers).\n",
            "Clipping input data to the valid range for imshow with RGB data ([0..1] for floats or [0..255] for integers).\n",
            "Clipping input data to the valid range for imshow with RGB data ([0..1] for floats or [0..255] for integers).\n",
            "Clipping input data to the valid range for imshow with RGB data ([0..1] for floats or [0..255] for integers).\n",
            "Clipping input data to the valid range for imshow with RGB data ([0..1] for floats or [0..255] for integers).\n",
            "Clipping input data to the valid range for imshow with RGB data ([0..1] for floats or [0..255] for integers).\n",
            "Clipping input data to the valid range for imshow with RGB data ([0..1] for floats or [0..255] for integers).\n",
            "Clipping input data to the valid range for imshow with RGB data ([0..1] for floats or [0..255] for integers).\n",
            "Clipping input data to the valid range for imshow with RGB data ([0..1] for floats or [0..255] for integers).\n",
            "Clipping input data to the valid range for imshow with RGB data ([0..1] for floats or [0..255] for integers).\n",
            "Clipping input data to the valid range for imshow with RGB data ([0..1] for floats or [0..255] for integers).\n",
            "Clipping input data to the valid range for imshow with RGB data ([0..1] for floats or [0..255] for integers).\n",
            "Clipping input data to the valid range for imshow with RGB data ([0..1] for floats or [0..255] for integers).\n",
            "Clipping input data to the valid range for imshow with RGB data ([0..1] for floats or [0..255] for integers).\n",
            "Clipping input data to the valid range for imshow with RGB data ([0..1] for floats or [0..255] for integers).\n",
            "Clipping input data to the valid range for imshow with RGB data ([0..1] for floats or [0..255] for integers).\n",
            "Clipping input data to the valid range for imshow with RGB data ([0..1] for floats or [0..255] for integers).\n",
            "Clipping input data to the valid range for imshow with RGB data ([0..1] for floats or [0..255] for integers).\n",
            "Clipping input data to the valid range for imshow with RGB data ([0..1] for floats or [0..255] for integers).\n",
            "Clipping input data to the valid range for imshow with RGB data ([0..1] for floats or [0..255] for integers).\n",
            "Clipping input data to the valid range for imshow with RGB data ([0..1] for floats or [0..255] for integers).\n",
            "Clipping input data to the valid range for imshow with RGB data ([0..1] for floats or [0..255] for integers).\n",
            "Clipping input data to the valid range for imshow with RGB data ([0..1] for floats or [0..255] for integers).\n",
            "Clipping input data to the valid range for imshow with RGB data ([0..1] for floats or [0..255] for integers).\n",
            "Clipping input data to the valid range for imshow with RGB data ([0..1] for floats or [0..255] for integers).\n",
            "Clipping input data to the valid range for imshow with RGB data ([0..1] for floats or [0..255] for integers).\n",
            "Clipping input data to the valid range for imshow with RGB data ([0..1] for floats or [0..255] for integers).\n",
            "Clipping input data to the valid range for imshow with RGB data ([0..1] for floats or [0..255] for integers).\n",
            "Clipping input data to the valid range for imshow with RGB data ([0..1] for floats or [0..255] for integers).\n",
            "Clipping input data to the valid range for imshow with RGB data ([0..1] for floats or [0..255] for integers).\n",
            "Clipping input data to the valid range for imshow with RGB data ([0..1] for floats or [0..255] for integers).\n",
            "Clipping input data to the valid range for imshow with RGB data ([0..1] for floats or [0..255] for integers).\n",
            "Clipping input data to the valid range for imshow with RGB data ([0..1] for floats or [0..255] for integers).\n",
            "Clipping input data to the valid range for imshow with RGB data ([0..1] for floats or [0..255] for integers).\n",
            "Clipping input data to the valid range for imshow with RGB data ([0..1] for floats or [0..255] for integers).\n",
            "Clipping input data to the valid range for imshow with RGB data ([0..1] for floats or [0..255] for integers).\n",
            "Clipping input data to the valid range for imshow with RGB data ([0..1] for floats or [0..255] for integers).\n",
            "Clipping input data to the valid range for imshow with RGB data ([0..1] for floats or [0..255] for integers).\n",
            "Clipping input data to the valid range for imshow with RGB data ([0..1] for floats or [0..255] for integers).\n",
            "Clipping input data to the valid range for imshow with RGB data ([0..1] for floats or [0..255] for integers).\n",
            "Clipping input data to the valid range for imshow with RGB data ([0..1] for floats or [0..255] for integers).\n",
            "Clipping input data to the valid range for imshow with RGB data ([0..1] for floats or [0..255] for integers).\n",
            "Clipping input data to the valid range for imshow with RGB data ([0..1] for floats or [0..255] for integers).\n",
            "Clipping input data to the valid range for imshow with RGB data ([0..1] for floats or [0..255] for integers).\n",
            "Clipping input data to the valid range for imshow with RGB data ([0..1] for floats or [0..255] for integers).\n",
            "Clipping input data to the valid range for imshow with RGB data ([0..1] for floats or [0..255] for integers).\n",
            "Clipping input data to the valid range for imshow with RGB data ([0..1] for floats or [0..255] for integers).\n",
            "Clipping input data to the valid range for imshow with RGB data ([0..1] for floats or [0..255] for integers).\n",
            "Clipping input data to the valid range for imshow with RGB data ([0..1] for floats or [0..255] for integers).\n",
            "Clipping input data to the valid range for imshow with RGB data ([0..1] for floats or [0..255] for integers).\n",
            "Clipping input data to the valid range for imshow with RGB data ([0..1] for floats or [0..255] for integers).\n",
            "Clipping input data to the valid range for imshow with RGB data ([0..1] for floats or [0..255] for integers).\n",
            "Clipping input data to the valid range for imshow with RGB data ([0..1] for floats or [0..255] for integers).\n",
            "Clipping input data to the valid range for imshow with RGB data ([0..1] for floats or [0..255] for integers).\n",
            "Clipping input data to the valid range for imshow with RGB data ([0..1] for floats or [0..255] for integers).\n",
            "Clipping input data to the valid range for imshow with RGB data ([0..1] for floats or [0..255] for integers).\n",
            "Clipping input data to the valid range for imshow with RGB data ([0..1] for floats or [0..255] for integers).\n",
            "Clipping input data to the valid range for imshow with RGB data ([0..1] for floats or [0..255] for integers).\n",
            "Clipping input data to the valid range for imshow with RGB data ([0..1] for floats or [0..255] for integers).\n",
            "Clipping input data to the valid range for imshow with RGB data ([0..1] for floats or [0..255] for integers).\n",
            "Clipping input data to the valid range for imshow with RGB data ([0..1] for floats or [0..255] for integers).\n"
          ],
          "name": "stderr"
        },
        {
          "output_type": "error",
          "ename": "ValueError",
          "evalue": "ignored",
          "traceback": [
            "\u001b[0;31m---------------------------------------------------------------------------\u001b[0m",
            "\u001b[0;31mValueError\u001b[0m                                Traceback (most recent call last)",
            "\u001b[0;32m<ipython-input-52-a5b58fadb14d>\u001b[0m in \u001b[0;36m<module>\u001b[0;34m()\u001b[0m\n\u001b[0;32m----> 1\u001b[0;31m \u001b[0mtrain\u001b[0m\u001b[0;34m(\u001b[0m\u001b[0;36m1\u001b[0m\u001b[0;34m,\u001b[0m\u001b[0;36m500\u001b[0m\u001b[0;34m)\u001b[0m\u001b[0;34m\u001b[0m\u001b[0;34m\u001b[0m\u001b[0m\n\u001b[0m",
            "\u001b[0;32m<ipython-input-51-7584affd3f14>\u001b[0m in \u001b[0;36mtrain\u001b[0;34m(epochs, batchSize)\u001b[0m\n\u001b[1;32m     46\u001b[0m \u001b[0;34m\u001b[0m\u001b[0m\n\u001b[1;32m     47\u001b[0m         \u001b[0;32mif\u001b[0m \u001b[0me\u001b[0m \u001b[0;34m==\u001b[0m \u001b[0;36m1\u001b[0m \u001b[0;32mor\u001b[0m \u001b[0me\u001b[0m \u001b[0;34m%\u001b[0m \u001b[0;36m5\u001b[0m \u001b[0;34m==\u001b[0m \u001b[0;36m0\u001b[0m\u001b[0;34m:\u001b[0m\u001b[0;34m\u001b[0m\u001b[0;34m\u001b[0m\u001b[0m\n\u001b[0;32m---> 48\u001b[0;31m             \u001b[0mplotGeneratedImages\u001b[0m\u001b[0;34m(\u001b[0m\u001b[0me\u001b[0m\u001b[0;34m,\u001b[0m\u001b[0mbatchSize\u001b[0m\u001b[0;34m,\u001b[0m\u001b[0mbatchSize\u001b[0m\u001b[0;34m)\u001b[0m\u001b[0;34m\u001b[0m\u001b[0;34m\u001b[0m\u001b[0m\n\u001b[0m",
            "\u001b[0;32m<ipython-input-50-e1e60ee37853>\u001b[0m in \u001b[0;36mplotGeneratedImages\u001b[0;34m(epoch, batchSize, examples, dim, figsize)\u001b[0m\n\u001b[1;32m      8\u001b[0m   \u001b[0mplt\u001b[0m\u001b[0;34m.\u001b[0m\u001b[0mfigure\u001b[0m\u001b[0;34m(\u001b[0m\u001b[0mfigsize\u001b[0m\u001b[0;34m=\u001b[0m\u001b[0mfigsize\u001b[0m\u001b[0;34m)\u001b[0m\u001b[0;34m\u001b[0m\u001b[0;34m\u001b[0m\u001b[0m\n\u001b[1;32m      9\u001b[0m   \u001b[0;32mfor\u001b[0m \u001b[0mi\u001b[0m \u001b[0;32min\u001b[0m \u001b[0mrange\u001b[0m\u001b[0;34m(\u001b[0m\u001b[0mgeneratedImages\u001b[0m\u001b[0;34m.\u001b[0m\u001b[0mshape\u001b[0m\u001b[0;34m[\u001b[0m\u001b[0;36m0\u001b[0m\u001b[0;34m]\u001b[0m\u001b[0;34m)\u001b[0m\u001b[0;34m:\u001b[0m\u001b[0;34m\u001b[0m\u001b[0;34m\u001b[0m\u001b[0m\n\u001b[0;32m---> 10\u001b[0;31m       \u001b[0mplt\u001b[0m\u001b[0;34m.\u001b[0m\u001b[0msubplot\u001b[0m\u001b[0;34m(\u001b[0m\u001b[0mdim\u001b[0m\u001b[0;34m[\u001b[0m\u001b[0;36m0\u001b[0m\u001b[0;34m]\u001b[0m\u001b[0;34m,\u001b[0m \u001b[0mdim\u001b[0m\u001b[0;34m[\u001b[0m\u001b[0;36m1\u001b[0m\u001b[0;34m]\u001b[0m\u001b[0;34m,\u001b[0m \u001b[0mi\u001b[0m\u001b[0;34m+\u001b[0m\u001b[0;36m1\u001b[0m\u001b[0;34m)\u001b[0m\u001b[0;34m\u001b[0m\u001b[0;34m\u001b[0m\u001b[0m\n\u001b[0m\u001b[1;32m     11\u001b[0m       \u001b[0mplt\u001b[0m\u001b[0;34m.\u001b[0m\u001b[0mimshow\u001b[0m\u001b[0;34m(\u001b[0m\u001b[0mgeneratedImages\u001b[0m\u001b[0;34m[\u001b[0m\u001b[0mi\u001b[0m\u001b[0;34m]\u001b[0m\u001b[0;34m,\u001b[0m \u001b[0minterpolation\u001b[0m\u001b[0;34m=\u001b[0m\u001b[0;34m'nearest'\u001b[0m\u001b[0;34m,\u001b[0m \u001b[0mcmap\u001b[0m\u001b[0;34m=\u001b[0m\u001b[0;34m'gray_r'\u001b[0m\u001b[0;34m)\u001b[0m\u001b[0;34m\u001b[0m\u001b[0;34m\u001b[0m\u001b[0m\n\u001b[1;32m     12\u001b[0m       \u001b[0mplt\u001b[0m\u001b[0;34m.\u001b[0m\u001b[0maxis\u001b[0m\u001b[0;34m(\u001b[0m\u001b[0;34m'off'\u001b[0m\u001b[0;34m)\u001b[0m\u001b[0;34m\u001b[0m\u001b[0;34m\u001b[0m\u001b[0m\n",
            "\u001b[0;32m/usr/local/lib/python3.6/dist-packages/matplotlib/pyplot.py\u001b[0m in \u001b[0;36msubplot\u001b[0;34m(*args, **kwargs)\u001b[0m\n\u001b[1;32m   1028\u001b[0m \u001b[0;34m\u001b[0m\u001b[0m\n\u001b[1;32m   1029\u001b[0m     \u001b[0mfig\u001b[0m \u001b[0;34m=\u001b[0m \u001b[0mgcf\u001b[0m\u001b[0;34m(\u001b[0m\u001b[0;34m)\u001b[0m\u001b[0;34m\u001b[0m\u001b[0;34m\u001b[0m\u001b[0m\n\u001b[0;32m-> 1030\u001b[0;31m     \u001b[0ma\u001b[0m \u001b[0;34m=\u001b[0m \u001b[0mfig\u001b[0m\u001b[0;34m.\u001b[0m\u001b[0madd_subplot\u001b[0m\u001b[0;34m(\u001b[0m\u001b[0;34m*\u001b[0m\u001b[0margs\u001b[0m\u001b[0;34m,\u001b[0m \u001b[0;34m**\u001b[0m\u001b[0mkwargs\u001b[0m\u001b[0;34m)\u001b[0m\u001b[0;34m\u001b[0m\u001b[0;34m\u001b[0m\u001b[0m\n\u001b[0m\u001b[1;32m   1031\u001b[0m     \u001b[0mbbox\u001b[0m \u001b[0;34m=\u001b[0m \u001b[0ma\u001b[0m\u001b[0;34m.\u001b[0m\u001b[0mbbox\u001b[0m\u001b[0;34m\u001b[0m\u001b[0;34m\u001b[0m\u001b[0m\n\u001b[1;32m   1032\u001b[0m     \u001b[0mbyebye\u001b[0m \u001b[0;34m=\u001b[0m \u001b[0;34m[\u001b[0m\u001b[0;34m]\u001b[0m\u001b[0;34m\u001b[0m\u001b[0;34m\u001b[0m\u001b[0m\n",
            "\u001b[0;32m/usr/local/lib/python3.6/dist-packages/matplotlib/figure.py\u001b[0m in \u001b[0;36madd_subplot\u001b[0;34m(self, *args, **kwargs)\u001b[0m\n\u001b[1;32m   1417\u001b[0m                     \u001b[0mself\u001b[0m\u001b[0;34m.\u001b[0m\u001b[0m_axstack\u001b[0m\u001b[0;34m.\u001b[0m\u001b[0mremove\u001b[0m\u001b[0;34m(\u001b[0m\u001b[0max\u001b[0m\u001b[0;34m)\u001b[0m\u001b[0;34m\u001b[0m\u001b[0;34m\u001b[0m\u001b[0m\n\u001b[1;32m   1418\u001b[0m \u001b[0;34m\u001b[0m\u001b[0m\n\u001b[0;32m-> 1419\u001b[0;31m             \u001b[0ma\u001b[0m \u001b[0;34m=\u001b[0m \u001b[0msubplot_class_factory\u001b[0m\u001b[0;34m(\u001b[0m\u001b[0mprojection_class\u001b[0m\u001b[0;34m)\u001b[0m\u001b[0;34m(\u001b[0m\u001b[0mself\u001b[0m\u001b[0;34m,\u001b[0m \u001b[0;34m*\u001b[0m\u001b[0margs\u001b[0m\u001b[0;34m,\u001b[0m \u001b[0;34m**\u001b[0m\u001b[0mkwargs\u001b[0m\u001b[0;34m)\u001b[0m\u001b[0;34m\u001b[0m\u001b[0;34m\u001b[0m\u001b[0m\n\u001b[0m\u001b[1;32m   1420\u001b[0m \u001b[0;34m\u001b[0m\u001b[0m\n\u001b[1;32m   1421\u001b[0m         \u001b[0;32mreturn\u001b[0m \u001b[0mself\u001b[0m\u001b[0;34m.\u001b[0m\u001b[0m_add_axes_internal\u001b[0m\u001b[0;34m(\u001b[0m\u001b[0mkey\u001b[0m\u001b[0;34m,\u001b[0m \u001b[0ma\u001b[0m\u001b[0;34m)\u001b[0m\u001b[0;34m\u001b[0m\u001b[0;34m\u001b[0m\u001b[0m\n",
            "\u001b[0;32m/usr/local/lib/python3.6/dist-packages/matplotlib/axes/_subplots.py\u001b[0m in \u001b[0;36m__init__\u001b[0;34m(self, fig, *args, **kwargs)\u001b[0m\n\u001b[1;32m     64\u001b[0m                 \u001b[0;32mif\u001b[0m \u001b[0mnum\u001b[0m \u001b[0;34m<\u001b[0m \u001b[0;36m1\u001b[0m \u001b[0;32mor\u001b[0m \u001b[0mnum\u001b[0m \u001b[0;34m>\u001b[0m \u001b[0mrows\u001b[0m\u001b[0;34m*\u001b[0m\u001b[0mcols\u001b[0m\u001b[0;34m:\u001b[0m\u001b[0;34m\u001b[0m\u001b[0;34m\u001b[0m\u001b[0m\n\u001b[1;32m     65\u001b[0m                     raise ValueError(\n\u001b[0;32m---> 66\u001b[0;31m                         f\"num must be 1 <= num <= {rows*cols}, not {num}\")\n\u001b[0m\u001b[1;32m     67\u001b[0m                 self._subplotspec = GridSpec(\n\u001b[1;32m     68\u001b[0m                         rows, cols, figure=self.figure)[int(num) - 1]\n",
            "\u001b[0;31mValueError\u001b[0m: num must be 1 <= num <= 100, not 101"
          ]
        },
        {
          "output_type": "display_data",
          "data": {
            "image/png": "[encoded data removed]",
            "text/plain": [
              "<Figure size 720x720 with 100 Axes>"
            ]
          },
          "metadata": {
            "tags": [],
            "needs_background": "light"
          }
        }
      ]
    },
    {
      "cell_type": "code",
      "metadata": {
        "id": "SY_ZT3A2BLs0",
        "colab_type": "code",
        "colab": {}
      },
      "source": [
        ""
      ],
      "execution_count": null,
      "outputs": []
    }
  ]
}