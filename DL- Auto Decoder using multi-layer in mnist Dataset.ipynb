{
  "nbformat": 4,
  "nbformat_minor": 0,
  "metadata": {
    "colab": {
      "name": "Overview of Colaboratory Features",
      "provenance": [],
      "collapsed_sections": [],
      "toc_visible": true,
      "include_colab_link": true
    },
    "kernelspec": {
      "display_name": "Python 3",
      "name": "python3"
    }
  },
  "cells": [
    {
      "cell_type": "markdown",
      "metadata": {
        "id": "view-in-github",
        "colab_type": "text"
      },
      "source": [
        "<a href=\"https://colab.research.google.com/github/abhay43/ML_Code/blob/master/DL-%20Auto%20Decoder%20using%20multi-layer%20in%20mnist%20Dataset.ipynb\" target=\"_parent\"><img src=\"https://colab.research.google.com/assets/colab-badge.svg\" alt=\"Open In Colab\"/></a>"
      ]
    },
    {
      "cell_type": "code",
      "metadata": {
        "id": "416iZ-hYRdpK",
        "colab_type": "code",
        "colab": {}
      },
      "source": [
        "import tensorflow as tf\n",
        "from tensorflow.keras.models import Model\n",
        "from tensorflow.keras.preprocessing import image\n",
        "from tensorflow.keras.preprocessing.image import ImageDataGenerator\n",
        "from tensorflow.keras.layers import Conv2D, Flatten, Dense, MaxPooling2D, Input\n",
        "\n",
        "import numpy as np"
      ],
      "execution_count": 1,
      "outputs": []
    },
    {
      "cell_type": "code",
      "metadata": {
        "id": "R0ItunKkUL1o",
        "colab_type": "code",
        "colab": {}
      },
      "source": [
        "# Creating the layers \n",
        "input_img = Input(shape=(784, ))\n",
        "\n",
        "# encoded layer \n",
        "encoded = Dense(32, activation ='relu')(input_img)\n",
        "encoded2 = Dense(64, activation ='relu')(encoded)\n",
        "#encoded3 = Dense(512, activation ='relu')(encoded2)\n",
        "#encoded4 = Dense(1024, activation ='relu')(encoded3)\n",
        "# decoded layer \n",
        "decoded = Dense(784, activation = 'sigmoid')(encoded2)\n",
        "\n"
      ],
      "execution_count": 108,
      "outputs": []
    },
    {
      "cell_type": "code",
      "metadata": {
        "id": "K5nrzhZoYGeY",
        "colab_type": "code",
        "colab": {
          "base_uri": "https://localhost:8080/",
          "height": 289
        },
        "outputId": "c263f11b-4da5-4d9b-be01-546fce7d0587"
      },
      "source": [
        "model_0 = Model(input_img, decoded)\n",
        "model_0.summary()"
      ],
      "execution_count": 109,
      "outputs": [
        {
          "output_type": "stream",
          "text": [
            "Model: \"model_14\"\n",
            "_________________________________________________________________\n",
            "Layer (type)                 Output Shape              Param #   \n",
            "=================================================================\n",
            "input_11 (InputLayer)        [(None, 784)]             0         \n",
            "_________________________________________________________________\n",
            "dense_21 (Dense)             (None, 32)                25120     \n",
            "_________________________________________________________________\n",
            "dense_22 (Dense)             (None, 64)                2112      \n",
            "_________________________________________________________________\n",
            "dense_23 (Dense)             (None, 784)               50960     \n",
            "=================================================================\n",
            "Total params: 78,192\n",
            "Trainable params: 78,192\n",
            "Non-trainable params: 0\n",
            "_________________________________________________________________\n"
          ],
          "name": "stdout"
        }
      ]
    },
    {
      "cell_type": "code",
      "metadata": {
        "id": "M8xSQ7lRamFZ",
        "colab_type": "code",
        "colab": {
          "base_uri": "https://localhost:8080/",
          "height": 255
        },
        "outputId": "93af21b8-2517-4307-e322-b2f90fdc33c6"
      },
      "source": [
        "encoded_model_0 = Model(input_img, encoded2)\n",
        "encoded_model_0.summary()"
      ],
      "execution_count": 111,
      "outputs": [
        {
          "output_type": "stream",
          "text": [
            "Model: \"model_16\"\n",
            "_________________________________________________________________\n",
            "Layer (type)                 Output Shape              Param #   \n",
            "=================================================================\n",
            "input_11 (InputLayer)        [(None, 784)]             0         \n",
            "_________________________________________________________________\n",
            "dense_21 (Dense)             (None, 32)                25120     \n",
            "_________________________________________________________________\n",
            "dense_22 (Dense)             (None, 64)                2112      \n",
            "=================================================================\n",
            "Total params: 27,232\n",
            "Trainable params: 27,232\n",
            "Non-trainable params: 0\n",
            "_________________________________________________________________\n"
          ],
          "name": "stdout"
        }
      ]
    },
    {
      "cell_type": "code",
      "metadata": {
        "id": "wT9o4iGWdKJa",
        "colab_type": "code",
        "colab": {}
      },
      "source": [
        "encoder_input = Input(shape=(64,)) \n",
        "#encoder_input2 = Dense(64, activation = 'relu')(encoder_input)\n",
        "#encoder_input3 = Dense(64, activation = 'relu')(encoder_input2)\n",
        "#encoder_input4 = Dense(512, activation = 'relu')(encoder_input3)\n",
        "#encoder_input5 = Dense(784, activation = 'relu')(encoder_input4)\n",
        "decoder_output = model_0.layers[-1]"
      ],
      "execution_count": 138,
      "outputs": []
    },
    {
      "cell_type": "code",
      "metadata": {
        "id": "rOKAhIdqa7bW",
        "colab_type": "code",
        "colab": {
          "base_uri": "https://localhost:8080/",
          "height": 221
        },
        "outputId": "0f4ccbec-53c1-497e-be21-a7c7553f07af"
      },
      "source": [
        "decoded_model_0 = Model(encoder_input, decoder_output(encoder_input)) \n",
        "decoded_model_0.summary()"
      ],
      "execution_count": 139,
      "outputs": [
        {
          "output_type": "stream",
          "text": [
            "Model: \"model_20\"\n",
            "_________________________________________________________________\n",
            "Layer (type)                 Output Shape              Param #   \n",
            "=================================================================\n",
            "input_17 (InputLayer)        [(None, 64)]              0         \n",
            "_________________________________________________________________\n",
            "dense_23 (Dense)             (None, 784)               50960     \n",
            "=================================================================\n",
            "Total params: 50,960\n",
            "Trainable params: 50,960\n",
            "Non-trainable params: 0\n",
            "_________________________________________________________________\n"
          ],
          "name": "stdout"
        }
      ]
    },
    {
      "cell_type": "code",
      "metadata": {
        "id": "RxJBkfIUYpdz",
        "colab_type": "code",
        "colab": {}
      },
      "source": [
        "model_0.compile(\n",
        "    optimizer = tf.keras.optimizers.Adam(lr = 0.001),\n",
        "    loss=['binary_crossentropy']\n",
        ")"
      ],
      "execution_count": 140,
      "outputs": []
    },
    {
      "cell_type": "code",
      "metadata": {
        "id": "aY2FCAkFeUqE",
        "colab_type": "code",
        "colab": {
          "base_uri": "https://localhost:8080/",
          "height": 289
        },
        "outputId": "37c9be90-b042-4991-a03f-6a307e6a4242"
      },
      "source": [
        "model_0.summary()"
      ],
      "execution_count": 141,
      "outputs": [
        {
          "output_type": "stream",
          "text": [
            "Model: \"model_14\"\n",
            "_________________________________________________________________\n",
            "Layer (type)                 Output Shape              Param #   \n",
            "=================================================================\n",
            "input_11 (InputLayer)        [(None, 784)]             0         \n",
            "_________________________________________________________________\n",
            "dense_21 (Dense)             (None, 32)                25120     \n",
            "_________________________________________________________________\n",
            "dense_22 (Dense)             (None, 64)                2112      \n",
            "_________________________________________________________________\n",
            "dense_23 (Dense)             (None, 784)               50960     \n",
            "=================================================================\n",
            "Total params: 78,192\n",
            "Trainable params: 78,192\n",
            "Non-trainable params: 0\n",
            "_________________________________________________________________\n"
          ],
          "name": "stdout"
        }
      ]
    },
    {
      "cell_type": "code",
      "metadata": {
        "id": "fVSK-KYrfGhM",
        "colab_type": "code",
        "colab": {}
      },
      "source": [
        "(x_train, _), (x_test, _) = tf.keras.datasets.mnist.load_data()"
      ],
      "execution_count": 142,
      "outputs": []
    },
    {
      "cell_type": "code",
      "metadata": {
        "id": "UE2r68SEfvc-",
        "colab_type": "code",
        "colab": {}
      },
      "source": [
        "x_train = x_train.astype('float32') / 255\n",
        "x_test = x_test.astype('float32')/ 255\n",
        "\n",
        "x_train = x_train.reshape(len(x_train), np.prod(x_train.shape[1:]))\n",
        "x_test = x_test.reshape(len(x_test), np.prod(x_test.shape[1:]))"
      ],
      "execution_count": 143,
      "outputs": []
    },
    {
      "cell_type": "code",
      "metadata": {
        "id": "rw51RDi7gfFL",
        "colab_type": "code",
        "colab": {
          "base_uri": "https://localhost:8080/",
          "height": 51
        },
        "outputId": "5f601a15-43d9-47b7-85ad-f66fc62fa1cb"
      },
      "source": [
        "print(x_train.shape)\n",
        "print(x_test.shape)"
      ],
      "execution_count": 144,
      "outputs": [
        {
          "output_type": "stream",
          "text": [
            "(60000, 784)\n",
            "(10000, 784)\n"
          ],
          "name": "stdout"
        }
      ]
    },
    {
      "cell_type": "code",
      "metadata": {
        "id": "LaIWdgB9gzof",
        "colab_type": "code",
        "colab": {
          "base_uri": "https://localhost:8080/",
          "height": 1000
        },
        "outputId": "12103f81-af9e-4dea-d48c-c5dc783628de"
      },
      "source": [
        "model_0.fit(\n",
        "    x_train, x_train, batch_size = 250, epochs = 30, shuffle= True, verbose = 1, validation_data=(x_test, x_test)\n",
        ")"
      ],
      "execution_count": 145,
      "outputs": [
        {
          "output_type": "stream",
          "text": [
            "Epoch 1/30\n",
            "240/240 [==============================] - 3s 11ms/step - loss: 0.0934 - val_loss: 0.0920\n",
            "Epoch 2/30\n",
            "240/240 [==============================] - 2s 10ms/step - loss: 0.0931 - val_loss: 0.0919\n",
            "Epoch 3/30\n",
            "240/240 [==============================] - 2s 10ms/step - loss: 0.0931 - val_loss: 0.0920\n",
            "Epoch 4/30\n",
            "240/240 [==============================] - 3s 11ms/step - loss: 0.0930 - val_loss: 0.0919\n",
            "Epoch 5/30\n",
            "240/240 [==============================] - 2s 10ms/step - loss: 0.0930 - val_loss: 0.0918\n",
            "Epoch 6/30\n",
            "240/240 [==============================] - 2s 10ms/step - loss: 0.0929 - val_loss: 0.0918\n",
            "Epoch 7/30\n",
            "240/240 [==============================] - 2s 10ms/step - loss: 0.0928 - val_loss: 0.0917\n",
            "Epoch 8/30\n",
            "240/240 [==============================] - 2s 10ms/step - loss: 0.0928 - val_loss: 0.0916\n",
            "Epoch 9/30\n",
            "240/240 [==============================] - 2s 10ms/step - loss: 0.0927 - val_loss: 0.0916\n",
            "Epoch 10/30\n",
            "240/240 [==============================] - 2s 10ms/step - loss: 0.0927 - val_loss: 0.0916\n",
            "Epoch 11/30\n",
            "240/240 [==============================] - 2s 10ms/step - loss: 0.0926 - val_loss: 0.0916\n",
            "Epoch 12/30\n",
            "240/240 [==============================] - 2s 10ms/step - loss: 0.0926 - val_loss: 0.0915\n",
            "Epoch 13/30\n",
            "240/240 [==============================] - 2s 10ms/step - loss: 0.0925 - val_loss: 0.0915\n",
            "Epoch 14/30\n",
            "240/240 [==============================] - 2s 10ms/step - loss: 0.0925 - val_loss: 0.0915\n",
            "Epoch 15/30\n",
            "240/240 [==============================] - 2s 10ms/step - loss: 0.0924 - val_loss: 0.0914\n",
            "Epoch 16/30\n",
            "240/240 [==============================] - 2s 10ms/step - loss: 0.0924 - val_loss: 0.0913\n",
            "Epoch 17/30\n",
            "240/240 [==============================] - 3s 11ms/step - loss: 0.0923 - val_loss: 0.0913\n",
            "Epoch 18/30\n",
            "240/240 [==============================] - 3s 11ms/step - loss: 0.0923 - val_loss: 0.0912\n",
            "Epoch 19/30\n",
            "240/240 [==============================] - 3s 11ms/step - loss: 0.0922 - val_loss: 0.0912\n",
            "Epoch 20/30\n",
            "240/240 [==============================] - 2s 10ms/step - loss: 0.0922 - val_loss: 0.0912\n",
            "Epoch 21/30\n",
            "240/240 [==============================] - 2s 10ms/step - loss: 0.0921 - val_loss: 0.0911\n",
            "Epoch 22/30\n",
            "240/240 [==============================] - 2s 10ms/step - loss: 0.0921 - val_loss: 0.0910\n",
            "Epoch 23/30\n",
            "240/240 [==============================] - 2s 10ms/step - loss: 0.0920 - val_loss: 0.0910\n",
            "Epoch 24/30\n",
            "240/240 [==============================] - 2s 10ms/step - loss: 0.0920 - val_loss: 0.0910\n",
            "Epoch 25/30\n",
            "240/240 [==============================] - 2s 10ms/step - loss: 0.0919 - val_loss: 0.0909\n",
            "Epoch 26/30\n",
            "240/240 [==============================] - 2s 10ms/step - loss: 0.0919 - val_loss: 0.0909\n",
            "Epoch 27/30\n",
            "240/240 [==============================] - 2s 10ms/step - loss: 0.0918 - val_loss: 0.0908\n",
            "Epoch 28/30\n",
            "240/240 [==============================] - 2s 10ms/step - loss: 0.0918 - val_loss: 0.0908\n",
            "Epoch 29/30\n",
            "240/240 [==============================] - 2s 10ms/step - loss: 0.0917 - val_loss: 0.0907\n",
            "Epoch 30/30\n",
            "240/240 [==============================] - 2s 10ms/step - loss: 0.0917 - val_loss: 0.0907\n"
          ],
          "name": "stdout"
        },
        {
          "output_type": "execute_result",
          "data": {
            "text/plain": [
              "<tensorflow.python.keras.callbacks.History at 0x7fe36d36eac8>"
            ]
          },
          "metadata": {
            "tags": []
          },
          "execution_count": 145
        }
      ]
    },
    {
      "cell_type": "code",
      "metadata": {
        "id": "FWuy26x_hr1E",
        "colab_type": "code",
        "colab": {}
      },
      "source": [
        "encoded_img = encoded_model_0.predict(x_test)"
      ],
      "execution_count": 146,
      "outputs": []
    },
    {
      "cell_type": "code",
      "metadata": {
        "id": "E9bZ2EIsUrzx",
        "colab_type": "code",
        "colab": {}
      },
      "source": [
        "s = encoded_img.reshape(10000,8,8)\n"
      ],
      "execution_count": 136,
      "outputs": []
    },
    {
      "cell_type": "code",
      "metadata": {
        "id": "ey7KGrXjeWaU",
        "colab_type": "code",
        "colab": {
          "base_uri": "https://localhost:8080/",
          "height": 34
        },
        "outputId": "99e9d408-7852-4c3d-d219-3e161741ee10"
      },
      "source": [
        "encoded_img.shape"
      ],
      "execution_count": 147,
      "outputs": [
        {
          "output_type": "execute_result",
          "data": {
            "text/plain": [
              "(10000, 64)"
            ]
          },
          "metadata": {
            "tags": []
          },
          "execution_count": 147
        }
      ]
    },
    {
      "cell_type": "code",
      "metadata": {
        "id": "IrZKr5n6mLUt",
        "colab_type": "code",
        "colab": {}
      },
      "source": [
        "decoded_img = decoded_model_0.predict(encoded_img)"
      ],
      "execution_count": 148,
      "outputs": []
    },
    {
      "cell_type": "code",
      "metadata": {
        "id": "XjJegAa6VW4V",
        "colab_type": "code",
        "colab": {
          "base_uri": "https://localhost:8080/",
          "height": 282
        },
        "outputId": "79beb23c-118c-41b2-edd7-ea764dd24f82"
      },
      "source": [
        "plt.imshow(decoded_img[1].reshape(28,28))"
      ],
      "execution_count": 149,
      "outputs": [
        {
          "output_type": "execute_result",
          "data": {
            "text/plain": [
              "<matplotlib.image.AxesImage at 0x7fe36d3964a8>"
            ]
          },
          "metadata": {
            "tags": []
          },
          "execution_count": 149
        },
        {
          "output_type": "display_data",
          "data": {
            "image/png": "[encoded data removed]",
            "text/plain": [
              "<Figure size 432x288 with 1 Axes>"
            ]
          },
          "metadata": {
            "tags": [],
            "needs_background": "light"
          }
        }
      ]
    },
    {
      "cell_type": "code",
      "metadata": {
        "id": "rYVhsRy8gIMI",
        "colab_type": "code",
        "colab": {}
      },
      "source": [
        "#Result in vanilla decoder "
      ],
      "execution_count": null,
      "outputs": []
    },
    {
      "cell_type": "code",
      "metadata": {
        "id": "K9WBgXwVmcVh",
        "colab_type": "code",
        "colab": {
          "base_uri": "https://localhost:8080/",
          "height": 209
        },
        "outputId": "30471f8e-0582-4b2c-e4fe-156b4e865d9a"
      },
      "source": [
        "import matplotlib.pyplot as plt\n",
        "n = 10\n",
        "plt.figure(figsize = (20,4))\n",
        "for i in range(n):\n",
        "  ax = plt.subplot(2, n , i+1)\n",
        "  plt.imshow(x_test[i].reshape(28,28))\n",
        "  plt.gray()\n",
        "  ax.get_xaxis().set_visible(False)\n",
        "  ax.get_yaxis().set_visible(False)\n",
        "\n",
        "  ax = plt.subplot(2, n , i+1 +n)\n",
        "  plt.imshow(decoded_img[i].reshape(28,28))\n",
        "  plt.gray()\n",
        "  ax.get_xaxis().set_visible(False)\n",
        "  ax.get_yaxis().set_visible(False)\n",
        "plt.show()\n"
      ],
      "execution_count": 107,
      "outputs": [
        {
          "output_type": "display_data",
          "data": {
            "image/png": "[encoded data removed]",
            "text/plain": [
              "<Figure size 1440x288 with 20 Axes>"
            ]
          },
          "metadata": {
            "tags": [],
            "needs_background": "light"
          }
        }
      ]
    },
    {
      "cell_type": "code",
      "metadata": {
        "id": "JV609lZ-gc_z",
        "colab_type": "code",
        "colab": {}
      },
      "source": [
        "# using multilayer decoder"
      ],
      "execution_count": 151,
      "outputs": []
    },
    {
      "cell_type": "code",
      "metadata": {
        "id": "dB8tjgZCoGEz",
        "colab_type": "code",
        "colab": {
          "base_uri": "https://localhost:8080/",
          "height": 209
        },
        "outputId": "1204f541-0542-43c4-cf1c-860878ad6c38"
      },
      "source": [
        "import matplotlib.pyplot as plt\n",
        "n = 10\n",
        "plt.figure(figsize = (20,4))\n",
        "for i in range(n):\n",
        "  ax = plt.subplot(2, n , i+1)\n",
        "  plt.imshow(x_test[i].reshape(28,28))\n",
        "  plt.gray()\n",
        "  ax.get_xaxis().set_visible(False)\n",
        "  ax.get_yaxis().set_visible(False)\n",
        "\n",
        "  ax = plt.subplot(2, n , i+1 +n)\n",
        "  plt.imshow(decoded_img[i].reshape(28,28))\n",
        "  plt.gray()\n",
        "  ax.get_xaxis().set_visible(False)\n",
        "  ax.get_yaxis().set_visible(False)\n",
        "plt.show()\n"
      ],
      "execution_count": 150,
      "outputs": [
        {
          "output_type": "display_data",
          "data": {
            "image/png": "[encoded data removed]",
            "text/plain": [
              "<Figure size 1440x288 with 20 Axes>"
            ]
          },
          "metadata": {
            "tags": [],
            "needs_background": "light"
          }
        }
      ]
    }
  ]
}