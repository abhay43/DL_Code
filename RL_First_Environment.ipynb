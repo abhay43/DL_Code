{
  "nbformat": 4,
  "nbformat_minor": 0,
  "metadata": {
    "colab": {
      "name": "Overview of Colaboratory Features",
      "provenance": [],
      "collapsed_sections": [],
      "include_colab_link": true
    },
    "kernelspec": {
      "display_name": "Python 3",
      "name": "python3"
    }
  },
  "cells": [
    {
      "cell_type": "markdown",
      "metadata": {
        "id": "view-in-github",
        "colab_type": "text"
      },
      "source": [
        "<a href=\"https://colab.research.google.com/github/abhay43/ML_Code/blob/master/RL_First_Environment.ipynb\" target=\"_parent\"><img src=\"https://colab.research.google.com/assets/colab-badge.svg\" alt=\"Open In Colab\"/></a>"
      ]
    },
    {
      "cell_type": "code",
      "metadata": {
        "id": "bvXB4kUBk5Gr",
        "colab_type": "code",
        "colab": {}
      },
      "source": [
        "## Import all liberies\n",
        "import numpy as np\n",
        "import pandas as pd\n"
      ],
      "execution_count": 0,
      "outputs": []
    },
    {
      "cell_type": "code",
      "metadata": {
        "id": "86BRBNdWwf1A",
        "colab_type": "code",
        "colab": {}
      },
      "source": [
        "## Global Variables--\n",
        "start = (2,0)\n",
        "stop = (0,3)\n",
        "rows = 3\n",
        "columns = 4\n",
        "reset_cell = [(1,1), (1,3)]\n",
        "state = start"
      ],
      "execution_count": 0,
      "outputs": []
    },
    {
      "cell_type": "code",
      "metadata": {
        "id": "S6fFSzAXYpZI",
        "colab_type": "code",
        "colab": {}
      },
      "source": [
        "class env:\n",
        "  def __int__(self):\n",
        "    self.board = np.zeros([rows, columns])\n",
        "    self.isend = False\n",
        "\n",
        "  def get_rewards(self):\n",
        "    if self.step == stop:\n",
        "      return 10\n",
        "    elif self.step in reset_cell:\n",
        "      return -10\n",
        "    else:\n",
        "      return -1 \n",
        "\n",
        "  def isEnd(self):\n",
        "    if(self.state in self.reset_cell):\n",
        "      self.isend = True\n",
        "\n",
        "  def nxtStateCal(self, action):\n",
        "      if action == \"up\":\n",
        "          nxtState = (self.state[0] - 1, self.state[1])\n",
        "      elif action == \"down\":\n",
        "          nxtState = (self.state[0] + 1, self.state[1])\n",
        "      elif action == \"left\":\n",
        "          nxtState = (self.state[0], self.state[1] - 1)\n",
        "      else:\n",
        "          nxtState = (self.state[0], self.state[1] + 1)\n",
        "      # if next state legal\n",
        "      if (nxtState[0] >= 0) and (nxtState[0] <= 2):\n",
        "          if (nxtState[1] >= 0) and (nxtState[1] <= 3):\n",
        "            return nxtState              \n",
        "      return self.state\n",
        "      \n",
        "  def showBoard(self):\n",
        "    self.board[self.state] = 1\n",
        "    for i in range(0, rows):\n",
        "        print('-----------------')\n",
        "        out = '| '\n",
        "        for j in range(0, BOARD_COLS):\n",
        "            if self.board[i, j] == 1:\n",
        "                token = '*'\n",
        "            if self.board[i, j] == -1:\n",
        "                token = 'z'\n",
        "            if self.board[i, j] == 0:\n",
        "                token = '0'\n",
        "            out += token + ' | '\n",
        "        print(out)\n",
        "    print('-----------------')\n",
        "\n",
        "    \n",
        "\n"
      ],
      "execution_count": 0,
      "outputs": []
    },
    {
      "cell_type": "code",
      "metadata": {
        "id": "wMGBrfpbmx5r",
        "colab_type": "code",
        "colab": {}
      },
      "source": [
        "class Agent:\n",
        "  def __init__(self):\n",
        "    self.actions = [\"up\", \"down\", \"left\", \"right\"]\n",
        "    self.states = []\n",
        "    self.env = env()\n",
        "    self.state_values = {}\n",
        "    self.state_values = np.zeros([rows, columns])\n",
        "    \n",
        "  def choose_action(self):\n",
        "    \n",
        "\n"
      ],
      "execution_count": 0,
      "outputs": []
    },
    {
      "cell_type": "code",
      "metadata": {
        "id": "WvHhQRT5oYhq",
        "colab_type": "code",
        "colab": {}
      },
      "source": [
        ""
      ],
      "execution_count": 0,
      "outputs": []
    }
  ]
}